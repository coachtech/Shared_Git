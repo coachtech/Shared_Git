{
 "cells": [
  {
   "cell_type": "markdown",
   "metadata": {
    "deletable": false,
    "editable": false,
    "nbgrader": {
     "checksum": "4b94c60a0b1b8ce948de705658e58db4",
     "grade": false,
     "grade_id": "cell-bb73b89393cb3c29",
     "locked": true,
     "schema_version": 1,
     "solution": false
    }
   },
   "source": [
    "## Codio Activity 7.5: Calculating Multiple Loss Functions\n",
    "\n",
    "**Expected Time = 60 minutes**\n",
    "\n",
    "**Total Points = 20**\n",
    "\n",
    "A third loss function mentioned is the Huber loss function.  This is notable for its resistance to extreme values and is defined as a piecewise function:\n",
    "\n",
    "\n",
    "$${\\displaystyle L_{\\delta }(y,f(x))={\\begin{cases}{\\frac {1}{2}}(y-f(x))^{2}&{\\textrm {for}}|y-f(x)|\\leq \\delta ,\\\\\\delta \\,(|y-f(x)|-{\\frac {1}{2}}\\delta ),&{\\textrm {otherwise.}}\\end{cases}}}$$\n",
    "\n",
    "In this activity, you will compute and compare the results of minimizing the mean squared error, mean absolute error, and huber loss functions.  \n",
    "\n",
    "NOTE: If the formula is not rendering correctly (overlapping text), double-click in this cell and then Shift-Enter to reload the cell.\n",
    "\n",
    "\n",
    "## Index:\n",
    "\n",
    "- [Problem 1](#Problem-1)\n",
    "- [Problem 2](#Problem-2)\n",
    "- [Problem 3](#Problem-3)"
   ]
  },
  {
   "cell_type": "code",
   "execution_count": 53,
   "metadata": {},
   "outputs": [],
   "source": [
    "import seaborn as sns\n",
    "import pandas as pd\n",
    "import numpy as np\n",
    "import matplotlib.pyplot as plt\n",
    "import plotly.express as px\n",
    "import plotly.graph_objects as go\n",
    "from scipy.optimize import minimize\n",
    "import seaborn as sns\n",
    "import pandas as pd\n",
    "import plotly.express as px\n",
    "import numpy as np\n",
    "from sklearn import linear_model\n",
    "from sklearn.metrics import mean_squared_error\n",
    "import scipy.optimize\n",
    "import plotly.express as px\n",
    "import numpy as np\n",
    "import plotly.graph_objects as go\n",
    "import matplotlib.pyplot as plt\n",
    "import pandas as pd\n",
    "import seaborn as sns\n",
    "from sklearn.linear_model import LinearRegression, HuberRegressor\n",
    "from sklearn.metrics import mean_squared_error\n",
    "import warnings\n",
    "warnings.filterwarnings('ignore')\n",
    "from sklearn.metrics import mean_absolute_error"
   ]
  },
  {
   "cell_type": "markdown",
   "metadata": {
    "deletable": false,
    "editable": false,
    "nbgrader": {
     "checksum": "cbb0dfe12834075b1e993fff576a6447",
     "grade": false,
     "grade_id": "cell-5a7bf1910448a41a",
     "locked": true,
     "schema_version": 1,
     "solution": false
    }
   },
   "source": [
    "### The tips data\n",
    "\n",
    "For this exercise, the tips dataset from the lectures will be used, and you are to predict the tip amount given the total bill.  "
   ]
  },
  {
   "cell_type": "code",
   "execution_count": 23,
   "metadata": {},
   "outputs": [],
   "source": [
    "tips = sns.load_dataset('tips')"
   ]
  },
  {
   "cell_type": "code",
   "execution_count": 24,
   "metadata": {},
   "outputs": [
    {
     "data": {
      "text/html": [
       "<div>\n",
       "<style scoped>\n",
       "    .dataframe tbody tr th:only-of-type {\n",
       "        vertical-align: middle;\n",
       "    }\n",
       "\n",
       "    .dataframe tbody tr th {\n",
       "        vertical-align: top;\n",
       "    }\n",
       "\n",
       "    .dataframe thead th {\n",
       "        text-align: right;\n",
       "    }\n",
       "</style>\n",
       "<table border=\"1\" class=\"dataframe\">\n",
       "  <thead>\n",
       "    <tr style=\"text-align: right;\">\n",
       "      <th></th>\n",
       "      <th>total_bill</th>\n",
       "      <th>tip</th>\n",
       "      <th>sex</th>\n",
       "      <th>smoker</th>\n",
       "      <th>day</th>\n",
       "      <th>time</th>\n",
       "      <th>size</th>\n",
       "    </tr>\n",
       "  </thead>\n",
       "  <tbody>\n",
       "    <tr>\n",
       "      <th>0</th>\n",
       "      <td>16.99</td>\n",
       "      <td>1.01</td>\n",
       "      <td>Female</td>\n",
       "      <td>No</td>\n",
       "      <td>Sun</td>\n",
       "      <td>Dinner</td>\n",
       "      <td>2</td>\n",
       "    </tr>\n",
       "    <tr>\n",
       "      <th>1</th>\n",
       "      <td>10.34</td>\n",
       "      <td>1.66</td>\n",
       "      <td>Male</td>\n",
       "      <td>No</td>\n",
       "      <td>Sun</td>\n",
       "      <td>Dinner</td>\n",
       "      <td>3</td>\n",
       "    </tr>\n",
       "    <tr>\n",
       "      <th>2</th>\n",
       "      <td>21.01</td>\n",
       "      <td>3.50</td>\n",
       "      <td>Male</td>\n",
       "      <td>No</td>\n",
       "      <td>Sun</td>\n",
       "      <td>Dinner</td>\n",
       "      <td>3</td>\n",
       "    </tr>\n",
       "    <tr>\n",
       "      <th>3</th>\n",
       "      <td>23.68</td>\n",
       "      <td>3.31</td>\n",
       "      <td>Male</td>\n",
       "      <td>No</td>\n",
       "      <td>Sun</td>\n",
       "      <td>Dinner</td>\n",
       "      <td>2</td>\n",
       "    </tr>\n",
       "    <tr>\n",
       "      <th>4</th>\n",
       "      <td>24.59</td>\n",
       "      <td>3.61</td>\n",
       "      <td>Female</td>\n",
       "      <td>No</td>\n",
       "      <td>Sun</td>\n",
       "      <td>Dinner</td>\n",
       "      <td>4</td>\n",
       "    </tr>\n",
       "  </tbody>\n",
       "</table>\n",
       "</div>"
      ],
      "text/plain": [
       "   total_bill   tip     sex smoker  day    time  size\n",
       "0       16.99  1.01  Female     No  Sun  Dinner     2\n",
       "1       10.34  1.66    Male     No  Sun  Dinner     3\n",
       "2       21.01  3.50    Male     No  Sun  Dinner     3\n",
       "3       23.68  3.31    Male     No  Sun  Dinner     2\n",
       "4       24.59  3.61  Female     No  Sun  Dinner     4"
      ]
     },
     "execution_count": 24,
     "metadata": {},
     "output_type": "execute_result"
    }
   ],
   "source": [
    "tips.head()"
   ]
  },
  {
   "cell_type": "code",
   "execution_count": 25,
   "metadata": {},
   "outputs": [],
   "source": [
    "X = tips['total_bill']\n",
    "y = tips['tip']"
   ]
  },
  {
   "cell_type": "markdown",
   "metadata": {
    "deletable": false,
    "editable": false,
    "nbgrader": {
     "checksum": "093daf7538cb7e2c352426035e60b2d7",
     "grade": false,
     "grade_id": "cell-f5dbd8e1ad4fb524",
     "locked": true,
     "schema_version": 1,
     "solution": false
    }
   },
   "source": [
    "[Back to top](#Index:) \n",
    "\n",
    "## Problem 1\n",
    "\n",
    "### Create a Huber Loss function\n",
    "\n",
    "**10 Points**\n",
    "\n",
    "Using the formula repeated below for the Huber loss, complete the function that returns the sum of the Huber Loss equation.\n",
    "\n",
    "$${\\displaystyle L_{\\delta }(y,f(x))={\\begin{cases}{\\frac {1}{2}}(y-f(x))^{2}&{\\textrm {for}}|y-f(x)|\\leq \\delta ,\\\\\\delta \\,(|y-f(x)|-{\\frac {1}{2}}\\delta ),&{\\textrm {otherwise.}}\\end{cases}}}$$\n",
    "\n",
    "Your function will take in both a value for $\\theta$ and for $\\delta$.  Set the value of $\\delta = 1.5$ by default."
   ]
  },
  {
   "cell_type": "code",
   "execution_count": 26,
   "metadata": {
    "deletable": false,
    "nbgrader": {
     "checksum": "a1d6a06e5647e8d603c39255b70a522f",
     "grade": false,
     "grade_id": "cell-9a9b87589083f36b",
     "locked": false,
     "schema_version": 1,
     "solution": true
    }
   },
   "outputs": [
    {
     "data": {
      "text/plain": [
       "56561.369999999995"
      ]
     },
     "execution_count": 26,
     "metadata": {},
     "output_type": "execute_result"
    }
   ],
   "source": [
    "#GRADED\n",
    "\n",
    "def huber_loss(theta, delta):\n",
    "    \"\"\"\n",
    "    This function accepts a value for theta\n",
    "    and returns the sum of the huber loss.\n",
    "    \n",
    "    Arguments\n",
    "    ---------\n",
    "    theta: float\n",
    "           Values to use for parameter\n",
    "           of regression model.\n",
    "           \n",
    "    delta: float\n",
    "           Value for delta in Huber Loss\n",
    "            \n",
    "    Returns\n",
    "    -------\n",
    "    huber: np.float\n",
    "         Sum of huber loss\n",
    "    \"\"\"\n",
    "\n",
    "# YOUR CODE HERE\n",
    "def huber_loss(theta, delta = 1.5):\n",
    "    y_predicted = theta * X\n",
    "    y_error = np.abs(y - y_predicted)\n",
    "    return sum(np.where(y_error <= delta, ((y_error)**2)/2, delta * (y_error - (delta / 2))))\n",
    "   \n",
    "\n",
    "huber_loss(8)"
   ]
  },
  {
   "cell_type": "code",
   "execution_count": null,
   "metadata": {
    "deletable": false,
    "editable": false,
    "nbgrader": {
     "checksum": "8f597b3d5708da253ac73ae3ea4b1544",
     "grade": true,
     "grade_id": "cell-5921ecbcb23b0fb0",
     "locked": true,
     "points": 10,
     "schema_version": 1,
     "solution": false
    }
   },
   "outputs": [],
   "source": []
  },
  {
   "cell_type": "markdown",
   "metadata": {
    "deletable": false,
    "editable": false,
    "nbgrader": {
     "checksum": "21d8b4b2086d67631b8b1cb3bdfeccb4",
     "grade": false,
     "grade_id": "cell-71b3d24c4438e5b8",
     "locked": true,
     "schema_version": 1,
     "solution": false
    }
   },
   "source": [
    "[Back to top](#Index:) \n",
    "\n",
    "## Problem 2\n",
    "\n",
    "### Minimizing Huber Loss\n",
    "\n",
    "**10 Points**\n",
    "\n",
    "Use the `minimize` function imported from `scipy.optimize` to determine the optimal value for $\\theta$ based on the Huber Loss with $\\delta = 1.5$.  Assign your results as type `np.float` to `theta_huber` below with `x0 = .5`.  "
   ]
  },
  {
   "cell_type": "code",
   "execution_count": 11,
   "metadata": {
    "deletable": false,
    "nbgrader": {
     "checksum": "a965b195657ffb6d1d579a6b8858934a",
     "grade": false,
     "grade_id": "cell-91b58b91bc727853",
     "locked": false,
     "schema_version": 1,
     "solution": true
    }
   },
   "outputs": [
    {
     "name": "stdout",
     "output_type": "stream",
     "text": [
      "<class 'numpy.float64'>\n",
      "0.14626752601211537\n"
     ]
    }
   ],
   "source": [
    "### GRADED\n",
    "\n",
    "theta_huber = ''\n",
    "\n",
    "# YOUR CODE HERE\n",
    "minimum_theta = minimize(huber_loss, x0 = .5)\n",
    "theta_huber = minimum_theta.x[0]\n",
    "\n",
    "# Answer check\n",
    "print(type(theta_huber))\n",
    "print(theta_huber)"
   ]
  },
  {
   "cell_type": "code",
   "execution_count": null,
   "metadata": {
    "deletable": false,
    "editable": false,
    "nbgrader": {
     "checksum": "b408a863c3938983879f7629ccf24ae1",
     "grade": true,
     "grade_id": "cell-837b15e800192fb7",
     "locked": true,
     "points": 10,
     "schema_version": 1,
     "solution": false
    }
   },
   "outputs": [],
   "source": []
  },
  {
   "cell_type": "markdown",
   "metadata": {
    "deletable": false,
    "editable": false,
    "nbgrader": {
     "checksum": "0d12b320215ae84049c740d9ea04d765",
     "grade": false,
     "grade_id": "cell-a5b2d0ca6167dbc4",
     "locked": true,
     "schema_version": 1,
     "solution": false
    }
   },
   "source": [
    "[Back to top](#Index:) \n",
    "\n",
    "## Problem 3\n",
    "\n",
    "### Plotting and Comparing Models\n",
    "\n",
    "**0 Points**\n",
    "\n",
    "Now, complete the function below that will generate a `matplotlib` scatterplot of your data `X` vs. `y` and include plots of the models resulting from `mse`, `mae`, and `huber` loss functions.  This problem is not graded."
   ]
  },
  {
   "cell_type": "code",
   "execution_count": 14,
   "metadata": {},
   "outputs": [
    {
     "data": {
      "text/plain": [
       "<matplotlib.collections.PathCollection at 0x7fc49203ee80>"
      ]
     },
     "execution_count": 14,
     "metadata": {},
     "output_type": "execute_result"
    },
    {
     "data": {
      "image/png": "[encoded data removed]",
      "text/plain": [
       "<Figure size 432x288 with 1 Axes>"
      ]
     },
     "metadata": {
      "needs_background": "light"
     },
     "output_type": "display_data"
    }
   ],
   "source": [
    "plt.scatter(x = tips['total_bill'] , y = tips['tip'])"
   ]
  },
  {
   "cell_type": "code",
   "execution_count": 87,
   "metadata": {},
   "outputs": [
    {
     "name": "stdout",
     "output_type": "stream",
     "text": [
      "<class 'matplotlib.collections.PathCollection'>\n"
     ]
    },
    {
     "data": {
      "image/png": "[encoded data removed]",
      "text/plain": [
       "<Figure size 432x288 with 1 Axes>"
      ]
     },
     "metadata": {
      "needs_background": "light"
     },
     "output_type": "display_data"
    }
   ],
   "source": [
    "plot1 = plt.scatter(x = tips['total_bill'] , y = tips['tip'])\n",
    "print(type(plot1))"
   ]
  },
  {
   "cell_type": "code",
   "execution_count": 36,
   "metadata": {},
   "outputs": [
    {
     "name": "stdout",
     "output_type": "stream",
     "text": [
      "346.0816225409836\n"
     ]
    },
    {
     "data": {
      "image/png": "[encoded data removed]",
      "text/plain": [
       "<Figure size 720x360 with 1 Axes>"
      ]
     },
     "metadata": {
      "needs_background": "light"
     },
     "output_type": "display_data"
    }
   ],
   "source": [
    "def plotting_function(X, y):\n",
    "    # f = LinearRegression(fit_intercept = False).fit(X,y)\n",
    "     mse = (mean_squared_error(X,y))\n",
    "     plt.scatter(X, y)\n",
    "   \n",
    "\n",
    "plt.figure(figsize=(10, 5))\n",
    "plotting_function(tips['total_bill'], tips['tip'])\n",
    "plt.show()"
   ]
  },
  {
   "cell_type": "code",
   "execution_count": 61,
   "metadata": {},
   "outputs": [
    {
     "name": "stdout",
     "output_type": "stream",
     "text": [
      "[2.0777683729508194, 2.0366887534058913, 1.996569059699077, 1.9574092918303747, 1.919209449799786, 1.8819695336073097, 1.8456895432529465, 1.8103694787366964, 1.7760093400585586, 1.7426091272185338, 1.7101688402166224, 1.678688479052823, 1.6481680437271375, 1.6186075342395636, 1.5900069505901033, 1.5623662927787565, 1.5356855608055218, 1.5099647546704, 1.4852038743733909, 1.461402919914495, 1.4385618912937121, 1.4166807885110417, 1.3957596115664843, 1.37579836046004, 1.3567970351917082, 1.3387556357614898, 1.3216741621693837, 1.3055526144153906, 1.2903909924995107, 1.2761892964217436, 1.262947526182089, 1.2506656817805475, 1.2393437632171185, 1.2289817704918033, 1.2195797036046003, 1.2111375625555103, 1.2036553473445333, 1.197133057971669, 1.1915706944369175, 1.1869682567402793, 1.1833257448817533, 1.1806431588613406, 1.1789204986790405, 1.1781577643348538, 1.1783549558287796, 1.1795120731608182, 1.18162911633097, 1.1847060853392344, 1.1887429801856118, 1.193739800870102, 1.1996965473927048, 1.206613219753421, 1.21448981795225, 1.2233263419891915, 1.233122791864246, 1.2438791675774135, 1.255595469128694, 1.2682716965180871, 1.2819078497455934, 1.2965039288112117, 1.312059933714944, 1.3285758644567889, 1.3460517210367458, 1.3644875034548163, 1.3838832117109996, 1.4042388458052961, 1.4255544057377052, 1.4478298915082273, 1.471065303116862, 1.4952606405636095, 1.5204159038484695, 1.5465310929714433, 1.5736062079325297, 1.6016412487317289, 1.630636215369041, 1.6605911078444662, 1.6915059261580032, 1.7233806703096541, 1.7562153402994167, 1.7900099361272936, 1.824764457793283, 1.8604789052973851, 1.8971532786396006, 1.9347875778199284, 1.97338180283837, 2.0129359536949227, 2.053450030389589, 2.0949240329223673, 2.13735796129326, 2.1807518155022656, 2.225105595549384, 2.270419301434615, 2.316692933157959, 2.3639264907194146, 2.4121199741189843, 2.461273383356666, 2.5113867184324614, 2.56245997934637, 2.614493166098391, 2.667486278688525]\n"
     ]
    },
    {
     "data": {
      "application/vnd.plotly.v1+json": {
       "config": {
        "plotlyServerURL": "https://plot.ly"
       },
       "data": [
        {
         "hovertemplate": "x=%{x}<br>y=%{y}<extra></extra>",
         "legendgroup": "",
         "line": {
          "color": "#636efa",
          "dash": "solid"
         },
         "marker": {
          "symbol": "circle"
         },
         "mode": "lines",
         "name": "",
         "orientation": "v",
         "showlegend": false,
         "type": "scatter",
         "x": [
          0.1,
          0.10101010101010102,
          0.10202020202020202,
          0.10303030303030304,
          0.10404040404040404,
          0.10505050505050506,
          0.10606060606060606,
          0.10707070707070708,
          0.10808080808080808,
          0.1090909090909091,
          0.1101010101010101,
          0.11111111111111112,
          0.11212121212121212,
          0.11313131313131314,
          0.11414141414141415,
          0.11515151515151516,
          0.11616161616161616,
          0.11717171717171718,
          0.1181818181818182,
          0.1191919191919192,
          0.1202020202020202,
          0.12121212121212122,
          0.12222222222222223,
          0.12323232323232323,
          0.12424242424242425,
          0.12525252525252525,
          0.12626262626262627,
          0.1272727272727273,
          0.12828282828282828,
          0.1292929292929293,
          0.1303030303030303,
          0.13131313131313133,
          0.13232323232323234,
          0.13333333333333333,
          0.13434343434343435,
          0.13535353535353536,
          0.13636363636363635,
          0.13737373737373737,
          0.1383838383838384,
          0.1393939393939394,
          0.14040404040404042,
          0.14141414141414144,
          0.14242424242424243,
          0.14343434343434344,
          0.14444444444444446,
          0.14545454545454545,
          0.14646464646464646,
          0.14747474747474748,
          0.1484848484848485,
          0.14949494949494951,
          0.1505050505050505,
          0.15151515151515152,
          0.15252525252525254,
          0.15353535353535352,
          0.15454545454545454,
          0.15555555555555556,
          0.15656565656565657,
          0.1575757575757576,
          0.1585858585858586,
          0.1595959595959596,
          0.1606060606060606,
          0.16161616161616163,
          0.16262626262626262,
          0.16363636363636364,
          0.16464646464646465,
          0.16565656565656567,
          0.16666666666666669,
          0.1676767676767677,
          0.1686868686868687,
          0.1696969696969697,
          0.1707070707070707,
          0.1717171717171717,
          0.17272727272727273,
          0.17373737373737375,
          0.17474747474747476,
          0.17575757575757578,
          0.17676767676767677,
          0.17777777777777778,
          0.17878787878787877,
          0.1797979797979798,
          0.1808080808080808,
          0.18181818181818182,
          0.18282828282828284,
          0.18383838383838386,
          0.18484848484848487,
          0.18585858585858586,
          0.18686868686868688,
          0.18787878787878787,
          0.18888888888888888,
          0.1898989898989899,
          0.19090909090909092,
          0.19191919191919193,
          0.19292929292929295,
          0.19393939393939394,
          0.19494949494949496,
          0.19595959595959594,
          0.19696969696969696,
          0.19797979797979798,
          0.198989898989899,
          0.2
         ],
         "xaxis": "x",
         "y": [
          2.0777683729508194,
          2.0366887534058913,
          1.996569059699077,
          1.9574092918303747,
          1.919209449799786,
          1.8819695336073097,
          1.8456895432529465,
          1.8103694787366964,
          1.7760093400585586,
          1.7426091272185338,
          1.7101688402166224,
          1.678688479052823,
          1.6481680437271375,
          1.6186075342395636,
          1.5900069505901033,
          1.5623662927787565,
          1.5356855608055218,
          1.5099647546704,
          1.4852038743733909,
          1.461402919914495,
          1.4385618912937121,
          1.4166807885110417,
          1.3957596115664843,
          1.37579836046004,
          1.3567970351917082,
          1.3387556357614898,
          1.3216741621693837,
          1.3055526144153906,
          1.2903909924995107,
          1.2761892964217436,
          1.262947526182089,
          1.2506656817805475,
          1.2393437632171185,
          1.2289817704918033,
          1.2195797036046003,
          1.2111375625555103,
          1.2036553473445333,
          1.197133057971669,
          1.1915706944369175,
          1.1869682567402793,
          1.1833257448817533,
          1.1806431588613406,
          1.1789204986790405,
          1.1781577643348538,
          1.1783549558287796,
          1.1795120731608182,
          1.18162911633097,
          1.1847060853392344,
          1.1887429801856118,
          1.193739800870102,
          1.1996965473927048,
          1.206613219753421,
          1.21448981795225,
          1.2233263419891915,
          1.233122791864246,
          1.2438791675774135,
          1.255595469128694,
          1.2682716965180871,
          1.2819078497455934,
          1.2965039288112117,
          1.312059933714944,
          1.3285758644567889,
          1.3460517210367458,
          1.3644875034548163,
          1.3838832117109996,
          1.4042388458052961,
          1.4255544057377052,
          1.4478298915082273,
          1.471065303116862,
          1.4952606405636095,
          1.5204159038484695,
          1.5465310929714433,
          1.5736062079325297,
          1.6016412487317289,
          1.630636215369041,
          1.6605911078444662,
          1.6915059261580032,
          1.7233806703096541,
          1.7562153402994167,
          1.7900099361272936,
          1.824764457793283,
          1.8604789052973851,
          1.8971532786396006,
          1.9347875778199284,
          1.97338180283837,
          2.0129359536949227,
          2.053450030389589,
          2.0949240329223673,
          2.13735796129326,
          2.1807518155022656,
          2.225105595549384,
          2.270419301434615,
          2.316692933157959,
          2.3639264907194146,
          2.4121199741189843,
          2.461273383356666,
          2.5113867184324614,
          2.56245997934637,
          2.614493166098391,
          2.667486278688525
         ],
         "yaxis": "y"
        }
       ],
       "layout": {
        "legend": {
         "tracegroupgap": 0
        },
        "margin": {
         "t": 60
        },
        "template": {
         "data": {
          "bar": [
           {
            "error_x": {
             "color": "#2a3f5f"
            },
            "error_y": {
             "color": "#2a3f5f"
            },
            "marker": {
             "line": {
              "color": "#E5ECF6",
              "width": 0.5
             },
             "pattern": {
              "fillmode": "overlay",
              "size": 10,
              "solidity": 0.2
             }
            },
            "type": "bar"
           }
          ],
          "barpolar": [
           {
            "marker": {
             "line": {
              "color": "#E5ECF6",
              "width": 0.5
             },
             "pattern": {
              "fillmode": "overlay",
              "size": 10,
              "solidity": 0.2
             }
            },
            "type": "barpolar"
           }
          ],
          "carpet": [
           {
            "aaxis": {
             "endlinecolor": "#2a3f5f",
             "gridcolor": "white",
             "linecolor": "white",
             "minorgridcolor": "white",
             "startlinecolor": "#2a3f5f"
            },
            "baxis": {
             "endlinecolor": "#2a3f5f",
             "gridcolor": "white",
             "linecolor": "white",
             "minorgridcolor": "white",
             "startlinecolor": "#2a3f5f"
            },
            "type": "carpet"
           }
          ],
          "choropleth": [
           {
            "colorbar": {
             "outlinewidth": 0,
             "ticks": ""
            },
            "type": "choropleth"
           }
          ],
          "contour": [
           {
            "colorbar": {
             "outlinewidth": 0,
             "ticks": ""
            },
            "colorscale": [
             [
              0,
              "#0d0887"
             ],
             [
              0.1111111111111111,
              "#46039f"
             ],
             [
              0.2222222222222222,
              "#7201a8"
             ],
             [
              0.3333333333333333,
              "#9c179e"
             ],
             [
              0.4444444444444444,
              "#bd3786"
             ],
             [
              0.5555555555555556,
              "#d8576b"
             ],
             [
              0.6666666666666666,
              "#ed7953"
             ],
             [
              0.7777777777777778,
              "#fb9f3a"
             ],
             [
              0.8888888888888888,
              "#fdca26"
             ],
             [
              1,
              "#f0f921"
             ]
            ],
            "type": "contour"
           }
          ],
          "contourcarpet": [
           {
            "colorbar": {
             "outlinewidth": 0,
             "ticks": ""
            },
            "type": "contourcarpet"
           }
          ],
          "heatmap": [
           {
            "colorbar": {
             "outlinewidth": 0,
             "ticks": ""
            },
            "colorscale": [
             [
              0,
              "#0d0887"
             ],
             [
              0.1111111111111111,
              "#46039f"
             ],
             [
              0.2222222222222222,
              "#7201a8"
             ],
             [
              0.3333333333333333,
              "#9c179e"
             ],
             [
              0.4444444444444444,
              "#bd3786"
             ],
             [
              0.5555555555555556,
              "#d8576b"
             ],
             [
              0.6666666666666666,
              "#ed7953"
             ],
             [
              0.7777777777777778,
              "#fb9f3a"
             ],
             [
              0.8888888888888888,
              "#fdca26"
             ],
             [
              1,
              "#f0f921"
             ]
            ],
            "type": "heatmap"
           }
          ],
          "heatmapgl": [
           {
            "colorbar": {
             "outlinewidth": 0,
             "ticks": ""
            },
            "colorscale": [
             [
              0,
              "#0d0887"
             ],
             [
              0.1111111111111111,
              "#46039f"
             ],
             [
              0.2222222222222222,
              "#7201a8"
             ],
             [
              0.3333333333333333,
              "#9c179e"
             ],
             [
              0.4444444444444444,
              "#bd3786"
             ],
             [
              0.5555555555555556,
              "#d8576b"
             ],
             [
              0.6666666666666666,
              "#ed7953"
             ],
             [
              0.7777777777777778,
              "#fb9f3a"
             ],
             [
              0.8888888888888888,
              "#fdca26"
             ],
             [
              1,
              "#f0f921"
             ]
            ],
            "type": "heatmapgl"
           }
          ],
          "histogram": [
           {
            "marker": {
             "pattern": {
              "fillmode": "overlay",
              "size": 10,
              "solidity": 0.2
             }
            },
            "type": "histogram"
           }
          ],
          "histogram2d": [
           {
            "colorbar": {
             "outlinewidth": 0,
             "ticks": ""
            },
            "colorscale": [
             [
              0,
              "#0d0887"
             ],
             [
              0.1111111111111111,
              "#46039f"
             ],
             [
              0.2222222222222222,
              "#7201a8"
             ],
             [
              0.3333333333333333,
              "#9c179e"
             ],
             [
              0.4444444444444444,
              "#bd3786"
             ],
             [
              0.5555555555555556,
              "#d8576b"
             ],
             [
              0.6666666666666666,
              "#ed7953"
             ],
             [
              0.7777777777777778,
              "#fb9f3a"
             ],
             [
              0.8888888888888888,
              "#fdca26"
             ],
             [
              1,
              "#f0f921"
             ]
            ],
            "type": "histogram2d"
           }
          ],
          "histogram2dcontour": [
           {
            "colorbar": {
             "outlinewidth": 0,
             "ticks": ""
            },
            "colorscale": [
             [
              0,
              "#0d0887"
             ],
             [
              0.1111111111111111,
              "#46039f"
             ],
             [
              0.2222222222222222,
              "#7201a8"
             ],
             [
              0.3333333333333333,
              "#9c179e"
             ],
             [
              0.4444444444444444,
              "#bd3786"
             ],
             [
              0.5555555555555556,
              "#d8576b"
             ],
             [
              0.6666666666666666,
              "#ed7953"
             ],
             [
              0.7777777777777778,
              "#fb9f3a"
             ],
             [
              0.8888888888888888,
              "#fdca26"
             ],
             [
              1,
              "#f0f921"
             ]
            ],
            "type": "histogram2dcontour"
           }
          ],
          "mesh3d": [
           {
            "colorbar": {
             "outlinewidth": 0,
             "ticks": ""
            },
            "type": "mesh3d"
           }
          ],
          "parcoords": [
           {
            "line": {
             "colorbar": {
              "outlinewidth": 0,
              "ticks": ""
             }
            },
            "type": "parcoords"
           }
          ],
          "pie": [
           {
            "automargin": true,
            "type": "pie"
           }
          ],
          "scatter": [
           {
            "fillpattern": {
             "fillmode": "overlay",
             "size": 10,
             "solidity": 0.2
            },
            "type": "scatter"
           }
          ],
          "scatter3d": [
           {
            "line": {
             "colorbar": {
              "outlinewidth": 0,
              "ticks": ""
             }
            },
            "marker": {
             "colorbar": {
              "outlinewidth": 0,
              "ticks": ""
             }
            },
            "type": "scatter3d"
           }
          ],
          "scattercarpet": [
           {
            "marker": {
             "colorbar": {
              "outlinewidth": 0,
              "ticks": ""
             }
            },
            "type": "scattercarpet"
           }
          ],
          "scattergeo": [
           {
            "marker": {
             "colorbar": {
              "outlinewidth": 0,
              "ticks": ""
             }
            },
            "type": "scattergeo"
           }
          ],
          "scattergl": [
           {
            "marker": {
             "colorbar": {
              "outlinewidth": 0,
              "ticks": ""
             }
            },
            "type": "scattergl"
           }
          ],
          "scattermapbox": [
           {
            "marker": {
             "colorbar": {
              "outlinewidth": 0,
              "ticks": ""
             }
            },
            "type": "scattermapbox"
           }
          ],
          "scatterpolar": [
           {
            "marker": {
             "colorbar": {
              "outlinewidth": 0,
              "ticks": ""
             }
            },
            "type": "scatterpolar"
           }
          ],
          "scatterpolargl": [
           {
            "marker": {
             "colorbar": {
              "outlinewidth": 0,
              "ticks": ""
             }
            },
            "type": "scatterpolargl"
           }
          ],
          "scatterternary": [
           {
            "marker": {
             "colorbar": {
              "outlinewidth": 0,
              "ticks": ""
             }
            },
            "type": "scatterternary"
           }
          ],
          "surface": [
           {
            "colorbar": {
             "outlinewidth": 0,
             "ticks": ""
            },
            "colorscale": [
             [
              0,
              "#0d0887"
             ],
             [
              0.1111111111111111,
              "#46039f"
             ],
             [
              0.2222222222222222,
              "#7201a8"
             ],
             [
              0.3333333333333333,
              "#9c179e"
             ],
             [
              0.4444444444444444,
              "#bd3786"
             ],
             [
              0.5555555555555556,
              "#d8576b"
             ],
             [
              0.6666666666666666,
              "#ed7953"
             ],
             [
              0.7777777777777778,
              "#fb9f3a"
             ],
             [
              0.8888888888888888,
              "#fdca26"
             ],
             [
              1,
              "#f0f921"
             ]
            ],
            "type": "surface"
           }
          ],
          "table": [
           {
            "cells": {
             "fill": {
              "color": "#EBF0F8"
             },
             "line": {
              "color": "white"
             }
            },
            "header": {
             "fill": {
              "color": "#C8D4E3"
             },
             "line": {
              "color": "white"
             }
            },
            "type": "table"
           }
          ]
         },
         "layout": {
          "annotationdefaults": {
           "arrowcolor": "#2a3f5f",
           "arrowhead": 0,
           "arrowwidth": 1
          },
          "autotypenumbers": "strict",
          "coloraxis": {
           "colorbar": {
            "outlinewidth": 0,
            "ticks": ""
           }
          },
          "colorscale": {
           "diverging": [
            [
             0,
             "#8e0152"
            ],
            [
             0.1,
             "#c51b7d"
            ],
            [
             0.2,
             "#de77ae"
            ],
            [
             0.3,
             "#f1b6da"
            ],
            [
             0.4,
             "#fde0ef"
            ],
            [
             0.5,
             "#f7f7f7"
            ],
            [
             0.6,
             "#e6f5d0"
            ],
            [
             0.7,
             "#b8e186"
            ],
            [
             0.8,
             "#7fbc41"
            ],
            [
             0.9,
             "#4d9221"
            ],
            [
             1,
             "#276419"
            ]
           ],
           "sequential": [
            [
             0,
             "#0d0887"
            ],
            [
             0.1111111111111111,
             "#46039f"
            ],
            [
             0.2222222222222222,
             "#7201a8"
            ],
            [
             0.3333333333333333,
             "#9c179e"
            ],
            [
             0.4444444444444444,
             "#bd3786"
            ],
            [
             0.5555555555555556,
             "#d8576b"
            ],
            [
             0.6666666666666666,
             "#ed7953"
            ],
            [
             0.7777777777777778,
             "#fb9f3a"
            ],
            [
             0.8888888888888888,
             "#fdca26"
            ],
            [
             1,
             "#f0f921"
            ]
           ],
           "sequentialminus": [
            [
             0,
             "#0d0887"
            ],
            [
             0.1111111111111111,
             "#46039f"
            ],
            [
             0.2222222222222222,
             "#7201a8"
            ],
            [
             0.3333333333333333,
             "#9c179e"
            ],
            [
             0.4444444444444444,
             "#bd3786"
            ],
            [
             0.5555555555555556,
             "#d8576b"
            ],
            [
             0.6666666666666666,
             "#ed7953"
            ],
            [
             0.7777777777777778,
             "#fb9f3a"
            ],
            [
             0.8888888888888888,
             "#fdca26"
            ],
            [
             1,
             "#f0f921"
            ]
           ]
          },
          "colorway": [
           "#636efa",
           "#EF553B",
           "#00cc96",
           "#ab63fa",
           "#FFA15A",
           "#19d3f3",
           "#FF6692",
           "#B6E880",
           "#FF97FF",
           "#FECB52"
          ],
          "font": {
           "color": "#2a3f5f"
          },
          "geo": {
           "bgcolor": "white",
           "lakecolor": "white",
           "landcolor": "#E5ECF6",
           "showlakes": true,
           "showland": true,
           "subunitcolor": "white"
          },
          "hoverlabel": {
           "align": "left"
          },
          "hovermode": "closest",
          "mapbox": {
           "style": "light"
          },
          "paper_bgcolor": "white",
          "plot_bgcolor": "#E5ECF6",
          "polar": {
           "angularaxis": {
            "gridcolor": "white",
            "linecolor": "white",
            "ticks": ""
           },
           "bgcolor": "#E5ECF6",
           "radialaxis": {
            "gridcolor": "white",
            "linecolor": "white",
            "ticks": ""
           }
          },
          "scene": {
           "xaxis": {
            "backgroundcolor": "#E5ECF6",
            "gridcolor": "white",
            "gridwidth": 2,
            "linecolor": "white",
            "showbackground": true,
            "ticks": "",
            "zerolinecolor": "white"
           },
           "yaxis": {
            "backgroundcolor": "#E5ECF6",
            "gridcolor": "white",
            "gridwidth": 2,
            "linecolor": "white",
            "showbackground": true,
            "ticks": "",
            "zerolinecolor": "white"
           },
           "zaxis": {
            "backgroundcolor": "#E5ECF6",
            "gridcolor": "white",
            "gridwidth": 2,
            "linecolor": "white",
            "showbackground": true,
            "ticks": "",
            "zerolinecolor": "white"
           }
          },
          "shapedefaults": {
           "line": {
            "color": "#2a3f5f"
           }
          },
          "ternary": {
           "aaxis": {
            "gridcolor": "white",
            "linecolor": "white",
            "ticks": ""
           },
           "baxis": {
            "gridcolor": "white",
            "linecolor": "white",
            "ticks": ""
           },
           "bgcolor": "#E5ECF6",
           "caxis": {
            "gridcolor": "white",
            "linecolor": "white",
            "ticks": ""
           }
          },
          "title": {
           "x": 0.05
          },
          "xaxis": {
           "automargin": true,
           "gridcolor": "white",
           "linecolor": "white",
           "ticks": "",
           "title": {
            "standoff": 15
           },
           "zerolinecolor": "white",
           "zerolinewidth": 2
          },
          "yaxis": {
           "automargin": true,
           "gridcolor": "white",
           "linecolor": "white",
           "ticks": "",
           "title": {
            "standoff": 15
           },
           "zerolinecolor": "white",
           "zerolinewidth": 2
          }
         }
        },
        "xaxis": {
         "anchor": "y",
         "domain": [
          0,
          1
         ],
         "title": {
          "text": "x"
         }
        },
        "yaxis": {
         "anchor": "x",
         "domain": [
          0,
          1
         ],
         "title": {
          "text": "y"
         }
        }
       }
      },
      "text/html": [
       "<div>                            <div id=\"2339210e-5098-4883-96ba-21071310f4cb\" class=\"plotly-graph-div\" style=\"height:525px; width:100%;\"></div>            <script type=\"text/javascript\">                require([\"plotly\"], function(Plotly) {                    window.PLOTLYENV=window.PLOTLYENV || {};                                    if (document.getElementById(\"2339210e-5098-4883-96ba-21071310f4cb\")) {                    Plotly.newPlot(                        \"2339210e-5098-4883-96ba-21071310f4cb\",                        [{\"hovertemplate\":\"x=%{x}<br>y=%{y}<extra></extra>\",\"legendgroup\":\"\",\"line\":{\"color\":\"#636efa\",\"dash\":\"solid\"},\"marker\":{\"symbol\":\"circle\"},\"mode\":\"lines\",\"name\":\"\",\"orientation\":\"v\",\"showlegend\":false,\"x\":[0.1,0.10101010101010102,0.10202020202020202,0.10303030303030304,0.10404040404040404,0.10505050505050506,0.10606060606060606,0.10707070707070708,0.10808080808080808,0.1090909090909091,0.1101010101010101,0.11111111111111112,0.11212121212121212,0.11313131313131314,0.11414141414141415,0.11515151515151516,0.11616161616161616,0.11717171717171718,0.1181818181818182,0.1191919191919192,0.1202020202020202,0.12121212121212122,0.12222222222222223,0.12323232323232323,0.12424242424242425,0.12525252525252525,0.12626262626262627,0.1272727272727273,0.12828282828282828,0.1292929292929293,0.1303030303030303,0.13131313131313133,0.13232323232323234,0.13333333333333333,0.13434343434343435,0.13535353535353536,0.13636363636363635,0.13737373737373737,0.1383838383838384,0.1393939393939394,0.14040404040404042,0.14141414141414144,0.14242424242424243,0.14343434343434344,0.14444444444444446,0.14545454545454545,0.14646464646464646,0.14747474747474748,0.1484848484848485,0.14949494949494951,0.1505050505050505,0.15151515151515152,0.15252525252525254,0.15353535353535352,0.15454545454545454,0.15555555555555556,0.15656565656565657,0.1575757575757576,0.1585858585858586,0.1595959595959596,0.1606060606060606,0.16161616161616163,0.16262626262626262,0.16363636363636364,0.16464646464646465,0.16565656565656567,0.16666666666666669,0.1676767676767677,0.1686868686868687,0.1696969696969697,0.1707070707070707,0.1717171717171717,0.17272727272727273,0.17373737373737375,0.17474747474747476,0.17575757575757578,0.17676767676767677,0.17777777777777778,0.17878787878787877,0.1797979797979798,0.1808080808080808,0.18181818181818182,0.18282828282828284,0.18383838383838386,0.18484848484848487,0.18585858585858586,0.18686868686868688,0.18787878787878787,0.18888888888888888,0.1898989898989899,0.19090909090909092,0.19191919191919193,0.19292929292929295,0.19393939393939394,0.19494949494949496,0.19595959595959594,0.19696969696969696,0.19797979797979798,0.198989898989899,0.2],\"xaxis\":\"x\",\"y\":[2.0777683729508194,2.0366887534058913,1.996569059699077,1.9574092918303747,1.919209449799786,1.8819695336073097,1.8456895432529465,1.8103694787366964,1.7760093400585586,1.7426091272185338,1.7101688402166224,1.678688479052823,1.6481680437271375,1.6186075342395636,1.5900069505901033,1.5623662927787565,1.5356855608055218,1.5099647546704,1.4852038743733909,1.461402919914495,1.4385618912937121,1.4166807885110417,1.3957596115664843,1.37579836046004,1.3567970351917082,1.3387556357614898,1.3216741621693837,1.3055526144153906,1.2903909924995107,1.2761892964217436,1.262947526182089,1.2506656817805475,1.2393437632171185,1.2289817704918033,1.2195797036046003,1.2111375625555103,1.2036553473445333,1.197133057971669,1.1915706944369175,1.1869682567402793,1.1833257448817533,1.1806431588613406,1.1789204986790405,1.1781577643348538,1.1783549558287796,1.1795120731608182,1.18162911633097,1.1847060853392344,1.1887429801856118,1.193739800870102,1.1996965473927048,1.206613219753421,1.21448981795225,1.2233263419891915,1.233122791864246,1.2438791675774135,1.255595469128694,1.2682716965180871,1.2819078497455934,1.2965039288112117,1.312059933714944,1.3285758644567889,1.3460517210367458,1.3644875034548163,1.3838832117109996,1.4042388458052961,1.4255544057377052,1.4478298915082273,1.471065303116862,1.4952606405636095,1.5204159038484695,1.5465310929714433,1.5736062079325297,1.6016412487317289,1.630636215369041,1.6605911078444662,1.6915059261580032,1.7233806703096541,1.7562153402994167,1.7900099361272936,1.824764457793283,1.8604789052973851,1.8971532786396006,1.9347875778199284,1.97338180283837,2.0129359536949227,2.053450030389589,2.0949240329223673,2.13735796129326,2.1807518155022656,2.225105595549384,2.270419301434615,2.316692933157959,2.3639264907194146,2.4121199741189843,2.461273383356666,2.5113867184324614,2.56245997934637,2.614493166098391,2.667486278688525],\"yaxis\":\"y\",\"type\":\"scatter\"}],                        {\"template\":{\"data\":{\"histogram2dcontour\":[{\"type\":\"histogram2dcontour\",\"colorbar\":{\"outlinewidth\":0,\"ticks\":\"\"},\"colorscale\":[[0.0,\"#0d0887\"],[0.1111111111111111,\"#46039f\"],[0.2222222222222222,\"#7201a8\"],[0.3333333333333333,\"#9c179e\"],[0.4444444444444444,\"#bd3786\"],[0.5555555555555556,\"#d8576b\"],[0.6666666666666666,\"#ed7953\"],[0.7777777777777778,\"#fb9f3a\"],[0.8888888888888888,\"#fdca26\"],[1.0,\"#f0f921\"]]}],\"choropleth\":[{\"type\":\"choropleth\",\"colorbar\":{\"outlinewidth\":0,\"ticks\":\"\"}}],\"histogram2d\":[{\"type\":\"histogram2d\",\"colorbar\":{\"outlinewidth\":0,\"ticks\":\"\"},\"colorscale\":[[0.0,\"#0d0887\"],[0.1111111111111111,\"#46039f\"],[0.2222222222222222,\"#7201a8\"],[0.3333333333333333,\"#9c179e\"],[0.4444444444444444,\"#bd3786\"],[0.5555555555555556,\"#d8576b\"],[0.6666666666666666,\"#ed7953\"],[0.7777777777777778,\"#fb9f3a\"],[0.8888888888888888,\"#fdca26\"],[1.0,\"#f0f921\"]]}],\"heatmap\":[{\"type\":\"heatmap\",\"colorbar\":{\"outlinewidth\":0,\"ticks\":\"\"},\"colorscale\":[[0.0,\"#0d0887\"],[0.1111111111111111,\"#46039f\"],[0.2222222222222222,\"#7201a8\"],[0.3333333333333333,\"#9c179e\"],[0.4444444444444444,\"#bd3786\"],[0.5555555555555556,\"#d8576b\"],[0.6666666666666666,\"#ed7953\"],[0.7777777777777778,\"#fb9f3a\"],[0.8888888888888888,\"#fdca26\"],[1.0,\"#f0f921\"]]}],\"heatmapgl\":[{\"type\":\"heatmapgl\",\"colorbar\":{\"outlinewidth\":0,\"ticks\":\"\"},\"colorscale\":[[0.0,\"#0d0887\"],[0.1111111111111111,\"#46039f\"],[0.2222222222222222,\"#7201a8\"],[0.3333333333333333,\"#9c179e\"],[0.4444444444444444,\"#bd3786\"],[0.5555555555555556,\"#d8576b\"],[0.6666666666666666,\"#ed7953\"],[0.7777777777777778,\"#fb9f3a\"],[0.8888888888888888,\"#fdca26\"],[1.0,\"#f0f921\"]]}],\"contourcarpet\":[{\"type\":\"contourcarpet\",\"colorbar\":{\"outlinewidth\":0,\"ticks\":\"\"}}],\"contour\":[{\"type\":\"contour\",\"colorbar\":{\"outlinewidth\":0,\"ticks\":\"\"},\"colorscale\":[[0.0,\"#0d0887\"],[0.1111111111111111,\"#46039f\"],[0.2222222222222222,\"#7201a8\"],[0.3333333333333333,\"#9c179e\"],[0.4444444444444444,\"#bd3786\"],[0.5555555555555556,\"#d8576b\"],[0.6666666666666666,\"#ed7953\"],[0.7777777777777778,\"#fb9f3a\"],[0.8888888888888888,\"#fdca26\"],[1.0,\"#f0f921\"]]}],\"surface\":[{\"type\":\"surface\",\"colorbar\":{\"outlinewidth\":0,\"ticks\":\"\"},\"colorscale\":[[0.0,\"#0d0887\"],[0.1111111111111111,\"#46039f\"],[0.2222222222222222,\"#7201a8\"],[0.3333333333333333,\"#9c179e\"],[0.4444444444444444,\"#bd3786\"],[0.5555555555555556,\"#d8576b\"],[0.6666666666666666,\"#ed7953\"],[0.7777777777777778,\"#fb9f3a\"],[0.8888888888888888,\"#fdca26\"],[1.0,\"#f0f921\"]]}],\"mesh3d\":[{\"type\":\"mesh3d\",\"colorbar\":{\"outlinewidth\":0,\"ticks\":\"\"}}],\"scatter\":[{\"fillpattern\":{\"fillmode\":\"overlay\",\"size\":10,\"solidity\":0.2},\"type\":\"scatter\"}],\"parcoords\":[{\"type\":\"parcoords\",\"line\":{\"colorbar\":{\"outlinewidth\":0,\"ticks\":\"\"}}}],\"scatterpolargl\":[{\"type\":\"scatterpolargl\",\"marker\":{\"colorbar\":{\"outlinewidth\":0,\"ticks\":\"\"}}}],\"bar\":[{\"error_x\":{\"color\":\"#2a3f5f\"},\"error_y\":{\"color\":\"#2a3f5f\"},\"marker\":{\"line\":{\"color\":\"#E5ECF6\",\"width\":0.5},\"pattern\":{\"fillmode\":\"overlay\",\"size\":10,\"solidity\":0.2}},\"type\":\"bar\"}],\"scattergeo\":[{\"type\":\"scattergeo\",\"marker\":{\"colorbar\":{\"outlinewidth\":0,\"ticks\":\"\"}}}],\"scatterpolar\":[{\"type\":\"scatterpolar\",\"marker\":{\"colorbar\":{\"outlinewidth\":0,\"ticks\":\"\"}}}],\"histogram\":[{\"marker\":{\"pattern\":{\"fillmode\":\"overlay\",\"size\":10,\"solidity\":0.2}},\"type\":\"histogram\"}],\"scattergl\":[{\"type\":\"scattergl\",\"marker\":{\"colorbar\":{\"outlinewidth\":0,\"ticks\":\"\"}}}],\"scatter3d\":[{\"type\":\"scatter3d\",\"line\":{\"colorbar\":{\"outlinewidth\":0,\"ticks\":\"\"}},\"marker\":{\"colorbar\":{\"outlinewidth\":0,\"ticks\":\"\"}}}],\"scattermapbox\":[{\"type\":\"scattermapbox\",\"marker\":{\"colorbar\":{\"outlinewidth\":0,\"ticks\":\"\"}}}],\"scatterternary\":[{\"type\":\"scatterternary\",\"marker\":{\"colorbar\":{\"outlinewidth\":0,\"ticks\":\"\"}}}],\"scattercarpet\":[{\"type\":\"scattercarpet\",\"marker\":{\"colorbar\":{\"outlinewidth\":0,\"ticks\":\"\"}}}],\"carpet\":[{\"aaxis\":{\"endlinecolor\":\"#2a3f5f\",\"gridcolor\":\"white\",\"linecolor\":\"white\",\"minorgridcolor\":\"white\",\"startlinecolor\":\"#2a3f5f\"},\"baxis\":{\"endlinecolor\":\"#2a3f5f\",\"gridcolor\":\"white\",\"linecolor\":\"white\",\"minorgridcolor\":\"white\",\"startlinecolor\":\"#2a3f5f\"},\"type\":\"carpet\"}],\"table\":[{\"cells\":{\"fill\":{\"color\":\"#EBF0F8\"},\"line\":{\"color\":\"white\"}},\"header\":{\"fill\":{\"color\":\"#C8D4E3\"},\"line\":{\"color\":\"white\"}},\"type\":\"table\"}],\"barpolar\":[{\"marker\":{\"line\":{\"color\":\"#E5ECF6\",\"width\":0.5},\"pattern\":{\"fillmode\":\"overlay\",\"size\":10,\"solidity\":0.2}},\"type\":\"barpolar\"}],\"pie\":[{\"automargin\":true,\"type\":\"pie\"}]},\"layout\":{\"autotypenumbers\":\"strict\",\"colorway\":[\"#636efa\",\"#EF553B\",\"#00cc96\",\"#ab63fa\",\"#FFA15A\",\"#19d3f3\",\"#FF6692\",\"#B6E880\",\"#FF97FF\",\"#FECB52\"],\"font\":{\"color\":\"#2a3f5f\"},\"hovermode\":\"closest\",\"hoverlabel\":{\"align\":\"left\"},\"paper_bgcolor\":\"white\",\"plot_bgcolor\":\"#E5ECF6\",\"polar\":{\"bgcolor\":\"#E5ECF6\",\"angularaxis\":{\"gridcolor\":\"white\",\"linecolor\":\"white\",\"ticks\":\"\"},\"radialaxis\":{\"gridcolor\":\"white\",\"linecolor\":\"white\",\"ticks\":\"\"}},\"ternary\":{\"bgcolor\":\"#E5ECF6\",\"aaxis\":{\"gridcolor\":\"white\",\"linecolor\":\"white\",\"ticks\":\"\"},\"baxis\":{\"gridcolor\":\"white\",\"linecolor\":\"white\",\"ticks\":\"\"},\"caxis\":{\"gridcolor\":\"white\",\"linecolor\":\"white\",\"ticks\":\"\"}},\"coloraxis\":{\"colorbar\":{\"outlinewidth\":0,\"ticks\":\"\"}},\"colorscale\":{\"sequential\":[[0.0,\"#0d0887\"],[0.1111111111111111,\"#46039f\"],[0.2222222222222222,\"#7201a8\"],[0.3333333333333333,\"#9c179e\"],[0.4444444444444444,\"#bd3786\"],[0.5555555555555556,\"#d8576b\"],[0.6666666666666666,\"#ed7953\"],[0.7777777777777778,\"#fb9f3a\"],[0.8888888888888888,\"#fdca26\"],[1.0,\"#f0f921\"]],\"sequentialminus\":[[0.0,\"#0d0887\"],[0.1111111111111111,\"#46039f\"],[0.2222222222222222,\"#7201a8\"],[0.3333333333333333,\"#9c179e\"],[0.4444444444444444,\"#bd3786\"],[0.5555555555555556,\"#d8576b\"],[0.6666666666666666,\"#ed7953\"],[0.7777777777777778,\"#fb9f3a\"],[0.8888888888888888,\"#fdca26\"],[1.0,\"#f0f921\"]],\"diverging\":[[0,\"#8e0152\"],[0.1,\"#c51b7d\"],[0.2,\"#de77ae\"],[0.3,\"#f1b6da\"],[0.4,\"#fde0ef\"],[0.5,\"#f7f7f7\"],[0.6,\"#e6f5d0\"],[0.7,\"#b8e186\"],[0.8,\"#7fbc41\"],[0.9,\"#4d9221\"],[1,\"#276419\"]]},\"xaxis\":{\"gridcolor\":\"white\",\"linecolor\":\"white\",\"ticks\":\"\",\"title\":{\"standoff\":15},\"zerolinecolor\":\"white\",\"automargin\":true,\"zerolinewidth\":2},\"yaxis\":{\"gridcolor\":\"white\",\"linecolor\":\"white\",\"ticks\":\"\",\"title\":{\"standoff\":15},\"zerolinecolor\":\"white\",\"automargin\":true,\"zerolinewidth\":2},\"scene\":{\"xaxis\":{\"backgroundcolor\":\"#E5ECF6\",\"gridcolor\":\"white\",\"linecolor\":\"white\",\"showbackground\":true,\"ticks\":\"\",\"zerolinecolor\":\"white\",\"gridwidth\":2},\"yaxis\":{\"backgroundcolor\":\"#E5ECF6\",\"gridcolor\":\"white\",\"linecolor\":\"white\",\"showbackground\":true,\"ticks\":\"\",\"zerolinecolor\":\"white\",\"gridwidth\":2},\"zaxis\":{\"backgroundcolor\":\"#E5ECF6\",\"gridcolor\":\"white\",\"linecolor\":\"white\",\"showbackground\":true,\"ticks\":\"\",\"zerolinecolor\":\"white\",\"gridwidth\":2}},\"shapedefaults\":{\"line\":{\"color\":\"#2a3f5f\"}},\"annotationdefaults\":{\"arrowcolor\":\"#2a3f5f\",\"arrowhead\":0,\"arrowwidth\":1},\"geo\":{\"bgcolor\":\"white\",\"landcolor\":\"#E5ECF6\",\"subunitcolor\":\"white\",\"showland\":true,\"showlakes\":true,\"lakecolor\":\"white\"},\"title\":{\"x\":0.05},\"mapbox\":{\"style\":\"light\"}}},\"xaxis\":{\"anchor\":\"y\",\"domain\":[0.0,1.0],\"title\":{\"text\":\"x\"}},\"yaxis\":{\"anchor\":\"x\",\"domain\":[0.0,1.0],\"title\":{\"text\":\"y\"}},\"legend\":{\"tracegroupgap\":0},\"margin\":{\"t\":60}},                        {\"responsive\": true}                    ).then(function(){\n",
       "                            \n",
       "var gd = document.getElementById('2339210e-5098-4883-96ba-21071310f4cb');\n",
       "var x = new MutationObserver(function (mutations, observer) {{\n",
       "        var display = window.getComputedStyle(gd).display;\n",
       "        if (!display || display === 'none') {{\n",
       "            console.log([gd, 'removed!']);\n",
       "            Plotly.purge(gd);\n",
       "            observer.disconnect();\n",
       "        }}\n",
       "}});\n",
       "\n",
       "// Listen for the removal of the full notebook cells\n",
       "var notebookContainer = gd.closest('#notebook-container');\n",
       "if (notebookContainer) {{\n",
       "    x.observe(notebookContainer, {childList: true});\n",
       "}}\n",
       "\n",
       "// Listen for the clearing of the current output cell\n",
       "var outputEl = gd.closest('.output');\n",
       "if (outputEl) {{\n",
       "    x.observe(outputEl, {childList: true});\n",
       "}}\n",
       "\n",
       "                        })                };                });            </script>        </div>"
      ]
     },
     "metadata": {},
     "output_type": "display_data"
    }
   ],
   "source": [
    "#mse\n",
    "data = sns.load_dataset(\"tips\")\n",
    "data.head(5)\n",
    "features = data[[\"total_bill\"]]\n",
    "tip = data['tip']\n",
    "f = linear_model.LinearRegression(fit_intercept = False).fit(data[['total_bill']], data['tip'])\n",
    "mse = mean_squared_error(data['tip'], f.predict(data[['total_bill']]))\n",
    "thetas = np.linspace(0.1, 0.2, 100)\n",
    "thetas\n",
    "def mse_given_theta(theta):\n",
    "    return mean_squared_error(data['total_bill'] * theta, data['tip'])\n",
    "mses = [mse_given_theta(theta) for theta in thetas]\n",
    "print(mses)\n",
    "px.line(x = thetas, y = mses)"
   ]
  },
  {
   "cell_type": "code",
   "execution_count": 75,
   "metadata": {},
   "outputs": [],
   "source": [
    "plot2 = px.line(x = thetas, y = mses)"
   ]
  },
  {
   "cell_type": "code",
   "execution_count": 56,
   "metadata": {},
   "outputs": [
    {
     "name": "stdout",
     "output_type": "stream",
     "text": [
      "1.1781577643348538\n",
      "0.14343434343434344\n"
     ]
    }
   ],
   "source": [
    "min_mse = None\n",
    "theta_min = ''\n",
    "for theta in thetas:\n",
    "    mse = mean_squared_error(data['total_bill'] * theta, data['tip'])\n",
    "    if min_mse == None:\n",
    "        theta_min = theta\n",
    "        min_mse = mse\n",
    "    elif min_mse > mse:\n",
    "        min_mse = mse\n",
    "        theta_min = theta\n",
    "        \n",
    "print(min_mse)\n",
    "print(theta_min)"
   ]
  },
  {
   "cell_type": "code",
   "execution_count": 77,
   "metadata": {},
   "outputs": [
    {
     "name": "stdout",
     "output_type": "stream",
     "text": [
      "[1.157217213114754, 1.1432579897333994, 1.1294634459347572, 1.1160683060109289, 1.1031471684053653, 1.090654247391952, 1.078470566318927, 1.0668091571452225, 1.0555076585527405, 1.0443472429210134, 1.0331868272892861, 1.0220264116575593, 1.0109139344262295, 0.9999016393442622, 0.9888893442622949, 0.9778770491803278, 0.9669479632389468, 0.9565744328531214, 0.9465555141579731, 0.9369427885411492, 0.927434384831926, 0.9180104321907601, 0.9092026411657558, 0.9005556383507203, 0.8921851713859911, 0.8840602748799471, 0.8762963652922668, 0.8685819672131146, 0.8609771071369433, 0.8535838715019042, 0.8462932190760059, 0.8396924159629077, 0.8333600347739691, 0.8271311475409836, 0.8209073108130485, 0.8147709057791025, 0.8087909836065574, 0.8031377711541646, 0.7977234227521112, 0.7924935419771485, 0.7881639758238117, 0.7842465640006624, 0.7812624192747143, 0.7789043715846994, 0.7766898907103824, 0.7746840536512667, 0.7729427471435669, 0.7717921013412816, 0.7710117983109788, 0.7706171551581389, 0.7710690925649941, 0.7718343268753105, 0.772730129160457, 0.7741940718662029, 0.7762149776453056, 0.7785054644808743, 0.7813005050505051, 0.7844913065076999, 0.7880397002815035, 0.7918361483689351, 0.7960016145057128, 0.8004851796655075, 0.805117610531545, 0.8101870342771981, 0.8155267014406359, 0.820949826130154, 0.826454918032787, 0.8323228183474086, 0.838327330683888, 0.8444058618976653, 0.8509598029475077, 0.8576879450240107, 0.864761177347243, 0.8720856102003643, 0.879599892366286, 0.8872804272230504, 0.8952622536843847, 0.9033260473588344, 0.911625558867362, 0.9199780592813379, 0.9285832505381685, 0.9374292101341283, 0.9465843268753105, 0.955739443616493, 0.96519088425236, 0.975147706573936, 0.9856335899983442, 0.9963723298559364, 1.0073428961748634, 1.0183929458519623, 1.029469821162444, 1.0406743666169895, 1.0521377297565824, 1.064025832091406, 1.076066774300381, 1.0888152839874148, 1.101880899155489, 1.115451233647955, 1.1296575178009605, 1.1442704918032787]\n"
     ]
    },
    {
     "data": {
      "application/vnd.plotly.v1+json": {
       "config": {
        "plotlyServerURL": "https://plot.ly"
       },
       "data": [
        {
         "hovertemplate": "x=%{x}<br>y=%{y}<extra></extra>",
         "legendgroup": "",
         "line": {
          "color": "#636efa",
          "dash": "solid"
         },
         "marker": {
          "symbol": "circle"
         },
         "mode": "lines",
         "name": "",
         "orientation": "v",
         "showlegend": false,
         "type": "scatter",
         "x": [
          0.1,
          0.10101010101010102,
          0.10202020202020202,
          0.10303030303030304,
          0.10404040404040404,
          0.10505050505050506,
          0.10606060606060606,
          0.10707070707070708,
          0.10808080808080808,
          0.1090909090909091,
          0.1101010101010101,
          0.11111111111111112,
          0.11212121212121212,
          0.11313131313131314,
          0.11414141414141415,
          0.11515151515151516,
          0.11616161616161616,
          0.11717171717171718,
          0.1181818181818182,
          0.1191919191919192,
          0.1202020202020202,
          0.12121212121212122,
          0.12222222222222223,
          0.12323232323232323,
          0.12424242424242425,
          0.12525252525252525,
          0.12626262626262627,
          0.1272727272727273,
          0.12828282828282828,
          0.1292929292929293,
          0.1303030303030303,
          0.13131313131313133,
          0.13232323232323234,
          0.13333333333333333,
          0.13434343434343435,
          0.13535353535353536,
          0.13636363636363635,
          0.13737373737373737,
          0.1383838383838384,
          0.1393939393939394,
          0.14040404040404042,
          0.14141414141414144,
          0.14242424242424243,
          0.14343434343434344,
          0.14444444444444446,
          0.14545454545454545,
          0.14646464646464646,
          0.14747474747474748,
          0.1484848484848485,
          0.14949494949494951,
          0.1505050505050505,
          0.15151515151515152,
          0.15252525252525254,
          0.15353535353535352,
          0.15454545454545454,
          0.15555555555555556,
          0.15656565656565657,
          0.1575757575757576,
          0.1585858585858586,
          0.1595959595959596,
          0.1606060606060606,
          0.16161616161616163,
          0.16262626262626262,
          0.16363636363636364,
          0.16464646464646465,
          0.16565656565656567,
          0.16666666666666669,
          0.1676767676767677,
          0.1686868686868687,
          0.1696969696969697,
          0.1707070707070707,
          0.1717171717171717,
          0.17272727272727273,
          0.17373737373737375,
          0.17474747474747476,
          0.17575757575757578,
          0.17676767676767677,
          0.17777777777777778,
          0.17878787878787877,
          0.1797979797979798,
          0.1808080808080808,
          0.18181818181818182,
          0.18282828282828284,
          0.18383838383838386,
          0.18484848484848487,
          0.18585858585858586,
          0.18686868686868688,
          0.18787878787878787,
          0.18888888888888888,
          0.1898989898989899,
          0.19090909090909092,
          0.19191919191919193,
          0.19292929292929295,
          0.19393939393939394,
          0.19494949494949496,
          0.19595959595959594,
          0.19696969696969696,
          0.19797979797979798,
          0.198989898989899,
          0.2
         ],
         "xaxis": "x",
         "y": [
          1.157217213114754,
          1.1432579897333994,
          1.1294634459347572,
          1.1160683060109289,
          1.1031471684053653,
          1.090654247391952,
          1.078470566318927,
          1.0668091571452225,
          1.0555076585527405,
          1.0443472429210134,
          1.0331868272892861,
          1.0220264116575593,
          1.0109139344262295,
          0.9999016393442622,
          0.9888893442622949,
          0.9778770491803278,
          0.9669479632389468,
          0.9565744328531214,
          0.9465555141579731,
          0.9369427885411492,
          0.927434384831926,
          0.9180104321907601,
          0.9092026411657558,
          0.9005556383507203,
          0.8921851713859911,
          0.8840602748799471,
          0.8762963652922668,
          0.8685819672131146,
          0.8609771071369433,
          0.8535838715019042,
          0.8462932190760059,
          0.8396924159629077,
          0.8333600347739691,
          0.8271311475409836,
          0.8209073108130485,
          0.8147709057791025,
          0.8087909836065574,
          0.8031377711541646,
          0.7977234227521112,
          0.7924935419771485,
          0.7881639758238117,
          0.7842465640006624,
          0.7812624192747143,
          0.7789043715846994,
          0.7766898907103824,
          0.7746840536512667,
          0.7729427471435669,
          0.7717921013412816,
          0.7710117983109788,
          0.7706171551581389,
          0.7710690925649941,
          0.7718343268753105,
          0.772730129160457,
          0.7741940718662029,
          0.7762149776453056,
          0.7785054644808743,
          0.7813005050505051,
          0.7844913065076999,
          0.7880397002815035,
          0.7918361483689351,
          0.7960016145057128,
          0.8004851796655075,
          0.805117610531545,
          0.8101870342771981,
          0.8155267014406359,
          0.820949826130154,
          0.826454918032787,
          0.8323228183474086,
          0.838327330683888,
          0.8444058618976653,
          0.8509598029475077,
          0.8576879450240107,
          0.864761177347243,
          0.8720856102003643,
          0.879599892366286,
          0.8872804272230504,
          0.8952622536843847,
          0.9033260473588344,
          0.911625558867362,
          0.9199780592813379,
          0.9285832505381685,
          0.9374292101341283,
          0.9465843268753105,
          0.955739443616493,
          0.96519088425236,
          0.975147706573936,
          0.9856335899983442,
          0.9963723298559364,
          1.0073428961748634,
          1.0183929458519623,
          1.029469821162444,
          1.0406743666169895,
          1.0521377297565824,
          1.064025832091406,
          1.076066774300381,
          1.0888152839874148,
          1.101880899155489,
          1.115451233647955,
          1.1296575178009605,
          1.1442704918032787
         ],
         "yaxis": "y"
        }
       ],
       "layout": {
        "legend": {
         "tracegroupgap": 0
        },
        "margin": {
         "t": 60
        },
        "template": {
         "data": {
          "bar": [
           {
            "error_x": {
             "color": "#2a3f5f"
            },
            "error_y": {
             "color": "#2a3f5f"
            },
            "marker": {
             "line": {
              "color": "#E5ECF6",
              "width": 0.5
             },
             "pattern": {
              "fillmode": "overlay",
              "size": 10,
              "solidity": 0.2
             }
            },
            "type": "bar"
           }
          ],
          "barpolar": [
           {
            "marker": {
             "line": {
              "color": "#E5ECF6",
              "width": 0.5
             },
             "pattern": {
              "fillmode": "overlay",
              "size": 10,
              "solidity": 0.2
             }
            },
            "type": "barpolar"
           }
          ],
          "carpet": [
           {
            "aaxis": {
             "endlinecolor": "#2a3f5f",
             "gridcolor": "white",
             "linecolor": "white",
             "minorgridcolor": "white",
             "startlinecolor": "#2a3f5f"
            },
            "baxis": {
             "endlinecolor": "#2a3f5f",
             "gridcolor": "white",
             "linecolor": "white",
             "minorgridcolor": "white",
             "startlinecolor": "#2a3f5f"
            },
            "type": "carpet"
           }
          ],
          "choropleth": [
           {
            "colorbar": {
             "outlinewidth": 0,
             "ticks": ""
            },
            "type": "choropleth"
           }
          ],
          "contour": [
           {
            "colorbar": {
             "outlinewidth": 0,
             "ticks": ""
            },
            "colorscale": [
             [
              0,
              "#0d0887"
             ],
             [
              0.1111111111111111,
              "#46039f"
             ],
             [
              0.2222222222222222,
              "#7201a8"
             ],
             [
              0.3333333333333333,
              "#9c179e"
             ],
             [
              0.4444444444444444,
              "#bd3786"
             ],
             [
              0.5555555555555556,
              "#d8576b"
             ],
             [
              0.6666666666666666,
              "#ed7953"
             ],
             [
              0.7777777777777778,
              "#fb9f3a"
             ],
             [
              0.8888888888888888,
              "#fdca26"
             ],
             [
              1,
              "#f0f921"
             ]
            ],
            "type": "contour"
           }
          ],
          "contourcarpet": [
           {
            "colorbar": {
             "outlinewidth": 0,
             "ticks": ""
            },
            "type": "contourcarpet"
           }
          ],
          "heatmap": [
           {
            "colorbar": {
             "outlinewidth": 0,
             "ticks": ""
            },
            "colorscale": [
             [
              0,
              "#0d0887"
             ],
             [
              0.1111111111111111,
              "#46039f"
             ],
             [
              0.2222222222222222,
              "#7201a8"
             ],
             [
              0.3333333333333333,
              "#9c179e"
             ],
             [
              0.4444444444444444,
              "#bd3786"
             ],
             [
              0.5555555555555556,
              "#d8576b"
             ],
             [
              0.6666666666666666,
              "#ed7953"
             ],
             [
              0.7777777777777778,
              "#fb9f3a"
             ],
             [
              0.8888888888888888,
              "#fdca26"
             ],
             [
              1,
              "#f0f921"
             ]
            ],
            "type": "heatmap"
           }
          ],
          "heatmapgl": [
           {
            "colorbar": {
             "outlinewidth": 0,
             "ticks": ""
            },
            "colorscale": [
             [
              0,
              "#0d0887"
             ],
             [
              0.1111111111111111,
              "#46039f"
             ],
             [
              0.2222222222222222,
              "#7201a8"
             ],
             [
              0.3333333333333333,
              "#9c179e"
             ],
             [
              0.4444444444444444,
              "#bd3786"
             ],
             [
              0.5555555555555556,
              "#d8576b"
             ],
             [
              0.6666666666666666,
              "#ed7953"
             ],
             [
              0.7777777777777778,
              "#fb9f3a"
             ],
             [
              0.8888888888888888,
              "#fdca26"
             ],
             [
              1,
              "#f0f921"
             ]
            ],
            "type": "heatmapgl"
           }
          ],
          "histogram": [
           {
            "marker": {
             "pattern": {
              "fillmode": "overlay",
              "size": 10,
              "solidity": 0.2
             }
            },
            "type": "histogram"
           }
          ],
          "histogram2d": [
           {
            "colorbar": {
             "outlinewidth": 0,
             "ticks": ""
            },
            "colorscale": [
             [
              0,
              "#0d0887"
             ],
             [
              0.1111111111111111,
              "#46039f"
             ],
             [
              0.2222222222222222,
              "#7201a8"
             ],
             [
              0.3333333333333333,
              "#9c179e"
             ],
             [
              0.4444444444444444,
              "#bd3786"
             ],
             [
              0.5555555555555556,
              "#d8576b"
             ],
             [
              0.6666666666666666,
              "#ed7953"
             ],
             [
              0.7777777777777778,
              "#fb9f3a"
             ],
             [
              0.8888888888888888,
              "#fdca26"
             ],
             [
              1,
              "#f0f921"
             ]
            ],
            "type": "histogram2d"
           }
          ],
          "histogram2dcontour": [
           {
            "colorbar": {
             "outlinewidth": 0,
             "ticks": ""
            },
            "colorscale": [
             [
              0,
              "#0d0887"
             ],
             [
              0.1111111111111111,
              "#46039f"
             ],
             [
              0.2222222222222222,
              "#7201a8"
             ],
             [
              0.3333333333333333,
              "#9c179e"
             ],
             [
              0.4444444444444444,
              "#bd3786"
             ],
             [
              0.5555555555555556,
              "#d8576b"
             ],
             [
              0.6666666666666666,
              "#ed7953"
             ],
             [
              0.7777777777777778,
              "#fb9f3a"
             ],
             [
              0.8888888888888888,
              "#fdca26"
             ],
             [
              1,
              "#f0f921"
             ]
            ],
            "type": "histogram2dcontour"
           }
          ],
          "mesh3d": [
           {
            "colorbar": {
             "outlinewidth": 0,
             "ticks": ""
            },
            "type": "mesh3d"
           }
          ],
          "parcoords": [
           {
            "line": {
             "colorbar": {
              "outlinewidth": 0,
              "ticks": ""
             }
            },
            "type": "parcoords"
           }
          ],
          "pie": [
           {
            "automargin": true,
            "type": "pie"
           }
          ],
          "scatter": [
           {
            "fillpattern": {
             "fillmode": "overlay",
             "size": 10,
             "solidity": 0.2
            },
            "type": "scatter"
           }
          ],
          "scatter3d": [
           {
            "line": {
             "colorbar": {
              "outlinewidth": 0,
              "ticks": ""
             }
            },
            "marker": {
             "colorbar": {
              "outlinewidth": 0,
              "ticks": ""
             }
            },
            "type": "scatter3d"
           }
          ],
          "scattercarpet": [
           {
            "marker": {
             "colorbar": {
              "outlinewidth": 0,
              "ticks": ""
             }
            },
            "type": "scattercarpet"
           }
          ],
          "scattergeo": [
           {
            "marker": {
             "colorbar": {
              "outlinewidth": 0,
              "ticks": ""
             }
            },
            "type": "scattergeo"
           }
          ],
          "scattergl": [
           {
            "marker": {
             "colorbar": {
              "outlinewidth": 0,
              "ticks": ""
             }
            },
            "type": "scattergl"
           }
          ],
          "scattermapbox": [
           {
            "marker": {
             "colorbar": {
              "outlinewidth": 0,
              "ticks": ""
             }
            },
            "type": "scattermapbox"
           }
          ],
          "scatterpolar": [
           {
            "marker": {
             "colorbar": {
              "outlinewidth": 0,
              "ticks": ""
             }
            },
            "type": "scatterpolar"
           }
          ],
          "scatterpolargl": [
           {
            "marker": {
             "colorbar": {
              "outlinewidth": 0,
              "ticks": ""
             }
            },
            "type": "scatterpolargl"
           }
          ],
          "scatterternary": [
           {
            "marker": {
             "colorbar": {
              "outlinewidth": 0,
              "ticks": ""
             }
            },
            "type": "scatterternary"
           }
          ],
          "surface": [
           {
            "colorbar": {
             "outlinewidth": 0,
             "ticks": ""
            },
            "colorscale": [
             [
              0,
              "#0d0887"
             ],
             [
              0.1111111111111111,
              "#46039f"
             ],
             [
              0.2222222222222222,
              "#7201a8"
             ],
             [
              0.3333333333333333,
              "#9c179e"
             ],
             [
              0.4444444444444444,
              "#bd3786"
             ],
             [
              0.5555555555555556,
              "#d8576b"
             ],
             [
              0.6666666666666666,
              "#ed7953"
             ],
             [
              0.7777777777777778,
              "#fb9f3a"
             ],
             [
              0.8888888888888888,
              "#fdca26"
             ],
             [
              1,
              "#f0f921"
             ]
            ],
            "type": "surface"
           }
          ],
          "table": [
           {
            "cells": {
             "fill": {
              "color": "#EBF0F8"
             },
             "line": {
              "color": "white"
             }
            },
            "header": {
             "fill": {
              "color": "#C8D4E3"
             },
             "line": {
              "color": "white"
             }
            },
            "type": "table"
           }
          ]
         },
         "layout": {
          "annotationdefaults": {
           "arrowcolor": "#2a3f5f",
           "arrowhead": 0,
           "arrowwidth": 1
          },
          "autotypenumbers": "strict",
          "coloraxis": {
           "colorbar": {
            "outlinewidth": 0,
            "ticks": ""
           }
          },
          "colorscale": {
           "diverging": [
            [
             0,
             "#8e0152"
            ],
            [
             0.1,
             "#c51b7d"
            ],
            [
             0.2,
             "#de77ae"
            ],
            [
             0.3,
             "#f1b6da"
            ],
            [
             0.4,
             "#fde0ef"
            ],
            [
             0.5,
             "#f7f7f7"
            ],
            [
             0.6,
             "#e6f5d0"
            ],
            [
             0.7,
             "#b8e186"
            ],
            [
             0.8,
             "#7fbc41"
            ],
            [
             0.9,
             "#4d9221"
            ],
            [
             1,
             "#276419"
            ]
           ],
           "sequential": [
            [
             0,
             "#0d0887"
            ],
            [
             0.1111111111111111,
             "#46039f"
            ],
            [
             0.2222222222222222,
             "#7201a8"
            ],
            [
             0.3333333333333333,
             "#9c179e"
            ],
            [
             0.4444444444444444,
             "#bd3786"
            ],
            [
             0.5555555555555556,
             "#d8576b"
            ],
            [
             0.6666666666666666,
             "#ed7953"
            ],
            [
             0.7777777777777778,
             "#fb9f3a"
            ],
            [
             0.8888888888888888,
             "#fdca26"
            ],
            [
             1,
             "#f0f921"
            ]
           ],
           "sequentialminus": [
            [
             0,
             "#0d0887"
            ],
            [
             0.1111111111111111,
             "#46039f"
            ],
            [
             0.2222222222222222,
             "#7201a8"
            ],
            [
             0.3333333333333333,
             "#9c179e"
            ],
            [
             0.4444444444444444,
             "#bd3786"
            ],
            [
             0.5555555555555556,
             "#d8576b"
            ],
            [
             0.6666666666666666,
             "#ed7953"
            ],
            [
             0.7777777777777778,
             "#fb9f3a"
            ],
            [
             0.8888888888888888,
             "#fdca26"
            ],
            [
             1,
             "#f0f921"
            ]
           ]
          },
          "colorway": [
           "#636efa",
           "#EF553B",
           "#00cc96",
           "#ab63fa",
           "#FFA15A",
           "#19d3f3",
           "#FF6692",
           "#B6E880",
           "#FF97FF",
           "#FECB52"
          ],
          "font": {
           "color": "#2a3f5f"
          },
          "geo": {
           "bgcolor": "white",
           "lakecolor": "white",
           "landcolor": "#E5ECF6",
           "showlakes": true,
           "showland": true,
           "subunitcolor": "white"
          },
          "hoverlabel": {
           "align": "left"
          },
          "hovermode": "closest",
          "mapbox": {
           "style": "light"
          },
          "paper_bgcolor": "white",
          "plot_bgcolor": "#E5ECF6",
          "polar": {
           "angularaxis": {
            "gridcolor": "white",
            "linecolor": "white",
            "ticks": ""
           },
           "bgcolor": "#E5ECF6",
           "radialaxis": {
            "gridcolor": "white",
            "linecolor": "white",
            "ticks": ""
           }
          },
          "scene": {
           "xaxis": {
            "backgroundcolor": "#E5ECF6",
            "gridcolor": "white",
            "gridwidth": 2,
            "linecolor": "white",
            "showbackground": true,
            "ticks": "",
            "zerolinecolor": "white"
           },
           "yaxis": {
            "backgroundcolor": "#E5ECF6",
            "gridcolor": "white",
            "gridwidth": 2,
            "linecolor": "white",
            "showbackground": true,
            "ticks": "",
            "zerolinecolor": "white"
           },
           "zaxis": {
            "backgroundcolor": "#E5ECF6",
            "gridcolor": "white",
            "gridwidth": 2,
            "linecolor": "white",
            "showbackground": true,
            "ticks": "",
            "zerolinecolor": "white"
           }
          },
          "shapedefaults": {
           "line": {
            "color": "#2a3f5f"
           }
          },
          "ternary": {
           "aaxis": {
            "gridcolor": "white",
            "linecolor": "white",
            "ticks": ""
           },
           "baxis": {
            "gridcolor": "white",
            "linecolor": "white",
            "ticks": ""
           },
           "bgcolor": "#E5ECF6",
           "caxis": {
            "gridcolor": "white",
            "linecolor": "white",
            "ticks": ""
           }
          },
          "title": {
           "x": 0.05
          },
          "xaxis": {
           "automargin": true,
           "gridcolor": "white",
           "linecolor": "white",
           "ticks": "",
           "title": {
            "standoff": 15
           },
           "zerolinecolor": "white",
           "zerolinewidth": 2
          },
          "yaxis": {
           "automargin": true,
           "gridcolor": "white",
           "linecolor": "white",
           "ticks": "",
           "title": {
            "standoff": 15
           },
           "zerolinecolor": "white",
           "zerolinewidth": 2
          }
         }
        },
        "xaxis": {
         "anchor": "y",
         "domain": [
          0,
          1
         ],
         "title": {
          "text": "x"
         }
        },
        "yaxis": {
         "anchor": "x",
         "domain": [
          0,
          1
         ],
         "title": {
          "text": "y"
         }
        }
       }
      },
      "text/html": [
       "<div>                            <div id=\"bfd24cd5-df0f-487c-8870-9507796ed5b2\" class=\"plotly-graph-div\" style=\"height:525px; width:100%;\"></div>            <script type=\"text/javascript\">                require([\"plotly\"], function(Plotly) {                    window.PLOTLYENV=window.PLOTLYENV || {};                                    if (document.getElementById(\"bfd24cd5-df0f-487c-8870-9507796ed5b2\")) {                    Plotly.newPlot(                        \"bfd24cd5-df0f-487c-8870-9507796ed5b2\",                        [{\"hovertemplate\":\"x=%{x}<br>y=%{y}<extra></extra>\",\"legendgroup\":\"\",\"line\":{\"color\":\"#636efa\",\"dash\":\"solid\"},\"marker\":{\"symbol\":\"circle\"},\"mode\":\"lines\",\"name\":\"\",\"orientation\":\"v\",\"showlegend\":false,\"x\":[0.1,0.10101010101010102,0.10202020202020202,0.10303030303030304,0.10404040404040404,0.10505050505050506,0.10606060606060606,0.10707070707070708,0.10808080808080808,0.1090909090909091,0.1101010101010101,0.11111111111111112,0.11212121212121212,0.11313131313131314,0.11414141414141415,0.11515151515151516,0.11616161616161616,0.11717171717171718,0.1181818181818182,0.1191919191919192,0.1202020202020202,0.12121212121212122,0.12222222222222223,0.12323232323232323,0.12424242424242425,0.12525252525252525,0.12626262626262627,0.1272727272727273,0.12828282828282828,0.1292929292929293,0.1303030303030303,0.13131313131313133,0.13232323232323234,0.13333333333333333,0.13434343434343435,0.13535353535353536,0.13636363636363635,0.13737373737373737,0.1383838383838384,0.1393939393939394,0.14040404040404042,0.14141414141414144,0.14242424242424243,0.14343434343434344,0.14444444444444446,0.14545454545454545,0.14646464646464646,0.14747474747474748,0.1484848484848485,0.14949494949494951,0.1505050505050505,0.15151515151515152,0.15252525252525254,0.15353535353535352,0.15454545454545454,0.15555555555555556,0.15656565656565657,0.1575757575757576,0.1585858585858586,0.1595959595959596,0.1606060606060606,0.16161616161616163,0.16262626262626262,0.16363636363636364,0.16464646464646465,0.16565656565656567,0.16666666666666669,0.1676767676767677,0.1686868686868687,0.1696969696969697,0.1707070707070707,0.1717171717171717,0.17272727272727273,0.17373737373737375,0.17474747474747476,0.17575757575757578,0.17676767676767677,0.17777777777777778,0.17878787878787877,0.1797979797979798,0.1808080808080808,0.18181818181818182,0.18282828282828284,0.18383838383838386,0.18484848484848487,0.18585858585858586,0.18686868686868688,0.18787878787878787,0.18888888888888888,0.1898989898989899,0.19090909090909092,0.19191919191919193,0.19292929292929295,0.19393939393939394,0.19494949494949496,0.19595959595959594,0.19696969696969696,0.19797979797979798,0.198989898989899,0.2],\"xaxis\":\"x\",\"y\":[1.157217213114754,1.1432579897333994,1.1294634459347572,1.1160683060109289,1.1031471684053653,1.090654247391952,1.078470566318927,1.0668091571452225,1.0555076585527405,1.0443472429210134,1.0331868272892861,1.0220264116575593,1.0109139344262295,0.9999016393442622,0.9888893442622949,0.9778770491803278,0.9669479632389468,0.9565744328531214,0.9465555141579731,0.9369427885411492,0.927434384831926,0.9180104321907601,0.9092026411657558,0.9005556383507203,0.8921851713859911,0.8840602748799471,0.8762963652922668,0.8685819672131146,0.8609771071369433,0.8535838715019042,0.8462932190760059,0.8396924159629077,0.8333600347739691,0.8271311475409836,0.8209073108130485,0.8147709057791025,0.8087909836065574,0.8031377711541646,0.7977234227521112,0.7924935419771485,0.7881639758238117,0.7842465640006624,0.7812624192747143,0.7789043715846994,0.7766898907103824,0.7746840536512667,0.7729427471435669,0.7717921013412816,0.7710117983109788,0.7706171551581389,0.7710690925649941,0.7718343268753105,0.772730129160457,0.7741940718662029,0.7762149776453056,0.7785054644808743,0.7813005050505051,0.7844913065076999,0.7880397002815035,0.7918361483689351,0.7960016145057128,0.8004851796655075,0.805117610531545,0.8101870342771981,0.8155267014406359,0.820949826130154,0.826454918032787,0.8323228183474086,0.838327330683888,0.8444058618976653,0.8509598029475077,0.8576879450240107,0.864761177347243,0.8720856102003643,0.879599892366286,0.8872804272230504,0.8952622536843847,0.9033260473588344,0.911625558867362,0.9199780592813379,0.9285832505381685,0.9374292101341283,0.9465843268753105,0.955739443616493,0.96519088425236,0.975147706573936,0.9856335899983442,0.9963723298559364,1.0073428961748634,1.0183929458519623,1.029469821162444,1.0406743666169895,1.0521377297565824,1.064025832091406,1.076066774300381,1.0888152839874148,1.101880899155489,1.115451233647955,1.1296575178009605,1.1442704918032787],\"yaxis\":\"y\",\"type\":\"scatter\"}],                        {\"template\":{\"data\":{\"histogram2dcontour\":[{\"type\":\"histogram2dcontour\",\"colorbar\":{\"outlinewidth\":0,\"ticks\":\"\"},\"colorscale\":[[0.0,\"#0d0887\"],[0.1111111111111111,\"#46039f\"],[0.2222222222222222,\"#7201a8\"],[0.3333333333333333,\"#9c179e\"],[0.4444444444444444,\"#bd3786\"],[0.5555555555555556,\"#d8576b\"],[0.6666666666666666,\"#ed7953\"],[0.7777777777777778,\"#fb9f3a\"],[0.8888888888888888,\"#fdca26\"],[1.0,\"#f0f921\"]]}],\"choropleth\":[{\"type\":\"choropleth\",\"colorbar\":{\"outlinewidth\":0,\"ticks\":\"\"}}],\"histogram2d\":[{\"type\":\"histogram2d\",\"colorbar\":{\"outlinewidth\":0,\"ticks\":\"\"},\"colorscale\":[[0.0,\"#0d0887\"],[0.1111111111111111,\"#46039f\"],[0.2222222222222222,\"#7201a8\"],[0.3333333333333333,\"#9c179e\"],[0.4444444444444444,\"#bd3786\"],[0.5555555555555556,\"#d8576b\"],[0.6666666666666666,\"#ed7953\"],[0.7777777777777778,\"#fb9f3a\"],[0.8888888888888888,\"#fdca26\"],[1.0,\"#f0f921\"]]}],\"heatmap\":[{\"type\":\"heatmap\",\"colorbar\":{\"outlinewidth\":0,\"ticks\":\"\"},\"colorscale\":[[0.0,\"#0d0887\"],[0.1111111111111111,\"#46039f\"],[0.2222222222222222,\"#7201a8\"],[0.3333333333333333,\"#9c179e\"],[0.4444444444444444,\"#bd3786\"],[0.5555555555555556,\"#d8576b\"],[0.6666666666666666,\"#ed7953\"],[0.7777777777777778,\"#fb9f3a\"],[0.8888888888888888,\"#fdca26\"],[1.0,\"#f0f921\"]]}],\"heatmapgl\":[{\"type\":\"heatmapgl\",\"colorbar\":{\"outlinewidth\":0,\"ticks\":\"\"},\"colorscale\":[[0.0,\"#0d0887\"],[0.1111111111111111,\"#46039f\"],[0.2222222222222222,\"#7201a8\"],[0.3333333333333333,\"#9c179e\"],[0.4444444444444444,\"#bd3786\"],[0.5555555555555556,\"#d8576b\"],[0.6666666666666666,\"#ed7953\"],[0.7777777777777778,\"#fb9f3a\"],[0.8888888888888888,\"#fdca26\"],[1.0,\"#f0f921\"]]}],\"contourcarpet\":[{\"type\":\"contourcarpet\",\"colorbar\":{\"outlinewidth\":0,\"ticks\":\"\"}}],\"contour\":[{\"type\":\"contour\",\"colorbar\":{\"outlinewidth\":0,\"ticks\":\"\"},\"colorscale\":[[0.0,\"#0d0887\"],[0.1111111111111111,\"#46039f\"],[0.2222222222222222,\"#7201a8\"],[0.3333333333333333,\"#9c179e\"],[0.4444444444444444,\"#bd3786\"],[0.5555555555555556,\"#d8576b\"],[0.6666666666666666,\"#ed7953\"],[0.7777777777777778,\"#fb9f3a\"],[0.8888888888888888,\"#fdca26\"],[1.0,\"#f0f921\"]]}],\"surface\":[{\"type\":\"surface\",\"colorbar\":{\"outlinewidth\":0,\"ticks\":\"\"},\"colorscale\":[[0.0,\"#0d0887\"],[0.1111111111111111,\"#46039f\"],[0.2222222222222222,\"#7201a8\"],[0.3333333333333333,\"#9c179e\"],[0.4444444444444444,\"#bd3786\"],[0.5555555555555556,\"#d8576b\"],[0.6666666666666666,\"#ed7953\"],[0.7777777777777778,\"#fb9f3a\"],[0.8888888888888888,\"#fdca26\"],[1.0,\"#f0f921\"]]}],\"mesh3d\":[{\"type\":\"mesh3d\",\"colorbar\":{\"outlinewidth\":0,\"ticks\":\"\"}}],\"scatter\":[{\"fillpattern\":{\"fillmode\":\"overlay\",\"size\":10,\"solidity\":0.2},\"type\":\"scatter\"}],\"parcoords\":[{\"type\":\"parcoords\",\"line\":{\"colorbar\":{\"outlinewidth\":0,\"ticks\":\"\"}}}],\"scatterpolargl\":[{\"type\":\"scatterpolargl\",\"marker\":{\"colorbar\":{\"outlinewidth\":0,\"ticks\":\"\"}}}],\"bar\":[{\"error_x\":{\"color\":\"#2a3f5f\"},\"error_y\":{\"color\":\"#2a3f5f\"},\"marker\":{\"line\":{\"color\":\"#E5ECF6\",\"width\":0.5},\"pattern\":{\"fillmode\":\"overlay\",\"size\":10,\"solidity\":0.2}},\"type\":\"bar\"}],\"scattergeo\":[{\"type\":\"scattergeo\",\"marker\":{\"colorbar\":{\"outlinewidth\":0,\"ticks\":\"\"}}}],\"scatterpolar\":[{\"type\":\"scatterpolar\",\"marker\":{\"colorbar\":{\"outlinewidth\":0,\"ticks\":\"\"}}}],\"histogram\":[{\"marker\":{\"pattern\":{\"fillmode\":\"overlay\",\"size\":10,\"solidity\":0.2}},\"type\":\"histogram\"}],\"scattergl\":[{\"type\":\"scattergl\",\"marker\":{\"colorbar\":{\"outlinewidth\":0,\"ticks\":\"\"}}}],\"scatter3d\":[{\"type\":\"scatter3d\",\"line\":{\"colorbar\":{\"outlinewidth\":0,\"ticks\":\"\"}},\"marker\":{\"colorbar\":{\"outlinewidth\":0,\"ticks\":\"\"}}}],\"scattermapbox\":[{\"type\":\"scattermapbox\",\"marker\":{\"colorbar\":{\"outlinewidth\":0,\"ticks\":\"\"}}}],\"scatterternary\":[{\"type\":\"scatterternary\",\"marker\":{\"colorbar\":{\"outlinewidth\":0,\"ticks\":\"\"}}}],\"scattercarpet\":[{\"type\":\"scattercarpet\",\"marker\":{\"colorbar\":{\"outlinewidth\":0,\"ticks\":\"\"}}}],\"carpet\":[{\"aaxis\":{\"endlinecolor\":\"#2a3f5f\",\"gridcolor\":\"white\",\"linecolor\":\"white\",\"minorgridcolor\":\"white\",\"startlinecolor\":\"#2a3f5f\"},\"baxis\":{\"endlinecolor\":\"#2a3f5f\",\"gridcolor\":\"white\",\"linecolor\":\"white\",\"minorgridcolor\":\"white\",\"startlinecolor\":\"#2a3f5f\"},\"type\":\"carpet\"}],\"table\":[{\"cells\":{\"fill\":{\"color\":\"#EBF0F8\"},\"line\":{\"color\":\"white\"}},\"header\":{\"fill\":{\"color\":\"#C8D4E3\"},\"line\":{\"color\":\"white\"}},\"type\":\"table\"}],\"barpolar\":[{\"marker\":{\"line\":{\"color\":\"#E5ECF6\",\"width\":0.5},\"pattern\":{\"fillmode\":\"overlay\",\"size\":10,\"solidity\":0.2}},\"type\":\"barpolar\"}],\"pie\":[{\"automargin\":true,\"type\":\"pie\"}]},\"layout\":{\"autotypenumbers\":\"strict\",\"colorway\":[\"#636efa\",\"#EF553B\",\"#00cc96\",\"#ab63fa\",\"#FFA15A\",\"#19d3f3\",\"#FF6692\",\"#B6E880\",\"#FF97FF\",\"#FECB52\"],\"font\":{\"color\":\"#2a3f5f\"},\"hovermode\":\"closest\",\"hoverlabel\":{\"align\":\"left\"},\"paper_bgcolor\":\"white\",\"plot_bgcolor\":\"#E5ECF6\",\"polar\":{\"bgcolor\":\"#E5ECF6\",\"angularaxis\":{\"gridcolor\":\"white\",\"linecolor\":\"white\",\"ticks\":\"\"},\"radialaxis\":{\"gridcolor\":\"white\",\"linecolor\":\"white\",\"ticks\":\"\"}},\"ternary\":{\"bgcolor\":\"#E5ECF6\",\"aaxis\":{\"gridcolor\":\"white\",\"linecolor\":\"white\",\"ticks\":\"\"},\"baxis\":{\"gridcolor\":\"white\",\"linecolor\":\"white\",\"ticks\":\"\"},\"caxis\":{\"gridcolor\":\"white\",\"linecolor\":\"white\",\"ticks\":\"\"}},\"coloraxis\":{\"colorbar\":{\"outlinewidth\":0,\"ticks\":\"\"}},\"colorscale\":{\"sequential\":[[0.0,\"#0d0887\"],[0.1111111111111111,\"#46039f\"],[0.2222222222222222,\"#7201a8\"],[0.3333333333333333,\"#9c179e\"],[0.4444444444444444,\"#bd3786\"],[0.5555555555555556,\"#d8576b\"],[0.6666666666666666,\"#ed7953\"],[0.7777777777777778,\"#fb9f3a\"],[0.8888888888888888,\"#fdca26\"],[1.0,\"#f0f921\"]],\"sequentialminus\":[[0.0,\"#0d0887\"],[0.1111111111111111,\"#46039f\"],[0.2222222222222222,\"#7201a8\"],[0.3333333333333333,\"#9c179e\"],[0.4444444444444444,\"#bd3786\"],[0.5555555555555556,\"#d8576b\"],[0.6666666666666666,\"#ed7953\"],[0.7777777777777778,\"#fb9f3a\"],[0.8888888888888888,\"#fdca26\"],[1.0,\"#f0f921\"]],\"diverging\":[[0,\"#8e0152\"],[0.1,\"#c51b7d\"],[0.2,\"#de77ae\"],[0.3,\"#f1b6da\"],[0.4,\"#fde0ef\"],[0.5,\"#f7f7f7\"],[0.6,\"#e6f5d0\"],[0.7,\"#b8e186\"],[0.8,\"#7fbc41\"],[0.9,\"#4d9221\"],[1,\"#276419\"]]},\"xaxis\":{\"gridcolor\":\"white\",\"linecolor\":\"white\",\"ticks\":\"\",\"title\":{\"standoff\":15},\"zerolinecolor\":\"white\",\"automargin\":true,\"zerolinewidth\":2},\"yaxis\":{\"gridcolor\":\"white\",\"linecolor\":\"white\",\"ticks\":\"\",\"title\":{\"standoff\":15},\"zerolinecolor\":\"white\",\"automargin\":true,\"zerolinewidth\":2},\"scene\":{\"xaxis\":{\"backgroundcolor\":\"#E5ECF6\",\"gridcolor\":\"white\",\"linecolor\":\"white\",\"showbackground\":true,\"ticks\":\"\",\"zerolinecolor\":\"white\",\"gridwidth\":2},\"yaxis\":{\"backgroundcolor\":\"#E5ECF6\",\"gridcolor\":\"white\",\"linecolor\":\"white\",\"showbackground\":true,\"ticks\":\"\",\"zerolinecolor\":\"white\",\"gridwidth\":2},\"zaxis\":{\"backgroundcolor\":\"#E5ECF6\",\"gridcolor\":\"white\",\"linecolor\":\"white\",\"showbackground\":true,\"ticks\":\"\",\"zerolinecolor\":\"white\",\"gridwidth\":2}},\"shapedefaults\":{\"line\":{\"color\":\"#2a3f5f\"}},\"annotationdefaults\":{\"arrowcolor\":\"#2a3f5f\",\"arrowhead\":0,\"arrowwidth\":1},\"geo\":{\"bgcolor\":\"white\",\"landcolor\":\"#E5ECF6\",\"subunitcolor\":\"white\",\"showland\":true,\"showlakes\":true,\"lakecolor\":\"white\"},\"title\":{\"x\":0.05},\"mapbox\":{\"style\":\"light\"}}},\"xaxis\":{\"anchor\":\"y\",\"domain\":[0.0,1.0],\"title\":{\"text\":\"x\"}},\"yaxis\":{\"anchor\":\"x\",\"domain\":[0.0,1.0],\"title\":{\"text\":\"y\"}},\"legend\":{\"tracegroupgap\":0},\"margin\":{\"t\":60}},                        {\"responsive\": true}                    ).then(function(){\n",
       "                            \n",
       "var gd = document.getElementById('bfd24cd5-df0f-487c-8870-9507796ed5b2');\n",
       "var x = new MutationObserver(function (mutations, observer) {{\n",
       "        var display = window.getComputedStyle(gd).display;\n",
       "        if (!display || display === 'none') {{\n",
       "            console.log([gd, 'removed!']);\n",
       "            Plotly.purge(gd);\n",
       "            observer.disconnect();\n",
       "        }}\n",
       "}});\n",
       "\n",
       "// Listen for the removal of the full notebook cells\n",
       "var notebookContainer = gd.closest('#notebook-container');\n",
       "if (notebookContainer) {{\n",
       "    x.observe(notebookContainer, {childList: true});\n",
       "}}\n",
       "\n",
       "// Listen for the clearing of the current output cell\n",
       "var outputEl = gd.closest('.output');\n",
       "if (outputEl) {{\n",
       "    x.observe(outputEl, {childList: true});\n",
       "}}\n",
       "\n",
       "                        })                };                });            </script>        </div>"
      ]
     },
     "metadata": {},
     "output_type": "display_data"
    }
   ],
   "source": [
    "#mae\n",
    "mae = mean_absolute_error(data['tip'], f.predict(data[['total_bill']]))\n",
    "thetas = np.linspace(0.1, 0.2, 100)\n",
    "def mae_given_theta(theta):\n",
    "    return mean_absolute_error(data['total_bill'] * theta, data['tip'])\n",
    "maes = [mae_given_theta(theta) for theta in thetas]\n",
    "print(maes)\n",
    "px.line(x = thetas, y = maes)\n",
    "plot3 = px.line(x = thetas, y = maes)\n",
    "px.line(x = thetas, y = maes)"
   ]
  },
  {
   "cell_type": "code",
   "execution_count": 62,
   "metadata": {},
   "outputs": [
    {
     "name": "stdout",
     "output_type": "stream",
     "text": [
      "0.7706171551581389\n",
      "0.14949494949494951\n"
     ]
    }
   ],
   "source": [
    "min_mae = None\n",
    "theta_min = ''\n",
    "for theta in thetas:\n",
    "    mae = mean_absolute_error(data['total_bill'] * theta, data['tip'])\n",
    "    if min_mae == None:\n",
    "        theta_min = theta\n",
    "        min_mae = mae\n",
    "    elif min_mae > mae:\n",
    "        min_mae = mae\n",
    "        theta_min = theta\n",
    "        \n",
    "print(min_mae)\n",
    "print(theta_min)"
   ]
  },
  {
   "cell_type": "code",
   "execution_count": 64,
   "metadata": {},
   "outputs": [
    {
     "name": "stdout",
     "output_type": "stream",
     "text": [
      "      fun: 126.1752379831355\n",
      " hess_inv: array([[1.265877e-05]])\n",
      "      jac: array([0.])\n",
      "  message: 'Optimization terminated successfully.'\n",
      "     nfev: 16\n",
      "      nit: 5\n",
      "     njev: 8\n",
      "   status: 0\n",
      "  success: True\n",
      "        x: array([0.14626753])\n",
      "0.14626752601211537\n"
     ]
    }
   ],
   "source": [
    "# huber loss\n",
    "def huber_loss(theta, delta = 1.5):\n",
    "    y_predicted = theta * X\n",
    "    y_error = np.abs(y - y_predicted)\n",
    "    return sum(np.where(y_error <= delta, ((y_error)**2)/2, delta * (y_error - (delta / 2))))\n",
    "\n",
    "\n",
    "\n",
    "minimum_theta = minimize(huber_loss, x0 = .5)\n",
    "theta_huber = minimum_theta.x[0]\n",
    "print(minimum_theta)\n",
    "print(theta_huber)"
   ]
  },
  {
   "cell_type": "code",
   "execution_count": 70,
   "metadata": {},
   "outputs": [
    {
     "name": "stdout",
     "output_type": "stream",
     "text": [
      "      fun: 0.5171116310784242\n",
      " hess_inv: array([[0.00308874]])\n",
      "      jac: array([0.])\n",
      "  message: 'Optimization terminated successfully.'\n",
      "     nfev: 16\n",
      "      nit: 5\n",
      "     njev: 8\n",
      "   status: 0\n",
      "  success: True\n",
      "        x: array([0.14626753])\n",
      "0.14626752597928258\n"
     ]
    }
   ],
   "source": [
    "# huber loss \n",
    "# huber loss\n",
    "def huber_loss(theta, delta = 1.5):\n",
    "    y_predicted = theta * X\n",
    "    y_error = np.abs(y - y_predicted)\n",
    "    return np.mean(np.where(y_error <= delta, ((y_error)**2)/2, delta * (y_error - (delta / 2))))\n",
    "\n",
    "\n",
    "\n",
    "minimum_theta = minimize(huber_loss, x0 = .5)\n",
    "theta_huber = minimum_theta.x[0]\n",
    "print(minimum_theta)\n",
    "print(theta_huber)\n",
    "\n"
   ]
  },
  {
   "cell_type": "code",
   "execution_count": 68,
   "metadata": {},
   "outputs": [],
   "source": [
    "hubers = [huber_loss(theta) for theta in thetas]"
   ]
  },
  {
   "cell_type": "code",
   "execution_count": 79,
   "metadata": {},
   "outputs": [
    {
     "data": {
      "application/vnd.plotly.v1+json": {
       "config": {
        "plotlyServerURL": "https://plot.ly"
       },
       "data": [
        {
         "hovertemplate": "x=%{x}<br>y=%{y}<extra></extra>",
         "legendgroup": "",
         "line": {
          "color": "#636efa",
          "dash": "solid"
         },
         "marker": {
          "symbol": "circle"
         },
         "mode": "lines",
         "name": "",
         "orientation": "v",
         "showlegend": false,
         "type": "scatter",
         "x": [
          0.1,
          0.10101010101010102,
          0.10202020202020202,
          0.10303030303030304,
          0.10404040404040404,
          0.10505050505050506,
          0.10606060606060606,
          0.10707070707070708,
          0.10808080808080808,
          0.1090909090909091,
          0.1101010101010101,
          0.11111111111111112,
          0.11212121212121212,
          0.11313131313131314,
          0.11414141414141415,
          0.11515151515151516,
          0.11616161616161616,
          0.11717171717171718,
          0.1181818181818182,
          0.1191919191919192,
          0.1202020202020202,
          0.12121212121212122,
          0.12222222222222223,
          0.12323232323232323,
          0.12424242424242425,
          0.12525252525252525,
          0.12626262626262627,
          0.1272727272727273,
          0.12828282828282828,
          0.1292929292929293,
          0.1303030303030303,
          0.13131313131313133,
          0.13232323232323234,
          0.13333333333333333,
          0.13434343434343435,
          0.13535353535353536,
          0.13636363636363635,
          0.13737373737373737,
          0.1383838383838384,
          0.1393939393939394,
          0.14040404040404042,
          0.14141414141414144,
          0.14242424242424243,
          0.14343434343434344,
          0.14444444444444446,
          0.14545454545454545,
          0.14646464646464646,
          0.14747474747474748,
          0.1484848484848485,
          0.14949494949494951,
          0.1505050505050505,
          0.15151515151515152,
          0.15252525252525254,
          0.15353535353535352,
          0.15454545454545454,
          0.15555555555555556,
          0.15656565656565657,
          0.1575757575757576,
          0.1585858585858586,
          0.1595959595959596,
          0.1606060606060606,
          0.16161616161616163,
          0.16262626262626262,
          0.16363636363636364,
          0.16464646464646465,
          0.16565656565656567,
          0.16666666666666669,
          0.1676767676767677,
          0.1686868686868687,
          0.1696969696969697,
          0.1707070707070707,
          0.1717171717171717,
          0.17272727272727273,
          0.17373737373737375,
          0.17474747474747476,
          0.17575757575757578,
          0.17676767676767677,
          0.17777777777777778,
          0.17878787878787877,
          0.1797979797979798,
          0.1808080808080808,
          0.18181818181818182,
          0.18282828282828284,
          0.18383838383838386,
          0.18484848484848487,
          0.18585858585858586,
          0.18686868686868688,
          0.18787878787878787,
          0.18888888888888888,
          0.1898989898989899,
          0.19090909090909092,
          0.19191919191919193,
          0.19292929292929295,
          0.19393939393939394,
          0.19494949494949496,
          0.19595959595959594,
          0.19696969696969696,
          0.19797979797979798,
          0.198989898989899,
          0.2
         ],
         "xaxis": "x",
         "y": [
          0.8766459200819671,
          0.8612850098308802,
          0.8462394218992793,
          0.8315092854551476,
          0.8170959348433415,
          0.8030004084486193,
          0.7892250578625299,
          0.7757760526359806,
          0.7626598171431151,
          0.7498829042812626,
          0.7374534777676165,
          0.7253695633475005,
          0.7136257578203796,
          0.7022253420059176,
          0.6911704938942745,
          0.6804598762739166,
          0.6700921639342171,
          0.660063274425828,
          0.6503679823025333,
          0.6410054627204316,
          0.6319735486381868,
          0.6232742778003582,
          0.6149079804948392,
          0.6068785812697266,
          0.5991884720039441,
          0.5918394408022936,
          0.5848311216884025,
          0.5781640711963149,
          0.5718402281046514,
          0.5658598254544117,
          0.5602231586505894,
          0.5549322043083593,
          0.5499869765614415,
          0.5453874754098361,
          0.5411340779581291,
          0.5372274402879599,
          0.5336638472090502,
          0.5304444072869781,
          0.5275703590738483,
          0.5250435280976682,
          0.5228685279258055,
          0.5210427410593768,
          0.5195665184539131,
          0.5184394426622576,
          0.5176576574074074,
          0.517219085489771,
          0.5171179206266172,
          0.517346949926488,
          0.5179025302352889,
          0.5187842142922853,
          0.5199901929518316,
          0.5215161951105691,
          0.5233596800349497,
          0.5255231259582076,
          0.5280058047351307,
          0.5308102668488159,
          0.5339370597273029,
          0.5373860085805898,
          0.5411551588105347,
          0.5452401682473016,
          0.5496399448057324,
          0.5543520614323397,
          0.5593748221593313,
          0.5647079653163527,
          0.5703518495438321,
          0.5763064823102695,
          0.5825718636156649,
          0.5891487852234886,
          0.5960451958837423,
          0.6032629841183821,
          0.6108015048683975,
          0.6186543033832279,
          0.6268172017341823,
          0.6352831782245373,
          0.6440488513542447,
          0.6531141778364873,
          0.6624802076747354,
          0.6721484244080146,
          0.6821210372992216,
          0.6924001956633731,
          0.7029855340785733,
          0.7138757400758705,
          0.7250705704783388,
          0.7365689379387517,
          0.7483682356971356,
          0.7604620029714265,
          0.7728486179532117,
          0.7855280806424902,
          0.7985003910392631,
          0.8117645844744849,
          0.8253176397507114,
          0.8391570048890965,
          0.8532740520162717,
          0.8676638323247375,
          0.882325583074494,
          0.8972592372859242,
          0.9124638363421846,
          0.9279389932501033,
          0.9436821184679633,
          0.9596880409836066
         ],
         "yaxis": "y"
        }
       ],
       "layout": {
        "legend": {
         "tracegroupgap": 0
        },
        "margin": {
         "t": 60
        },
        "template": {
         "data": {
          "bar": [
           {
            "error_x": {
             "color": "#2a3f5f"
            },
            "error_y": {
             "color": "#2a3f5f"
            },
            "marker": {
             "line": {
              "color": "#E5ECF6",
              "width": 0.5
             },
             "pattern": {
              "fillmode": "overlay",
              "size": 10,
              "solidity": 0.2
             }
            },
            "type": "bar"
           }
          ],
          "barpolar": [
           {
            "marker": {
             "line": {
              "color": "#E5ECF6",
              "width": 0.5
             },
             "pattern": {
              "fillmode": "overlay",
              "size": 10,
              "solidity": 0.2
             }
            },
            "type": "barpolar"
           }
          ],
          "carpet": [
           {
            "aaxis": {
             "endlinecolor": "#2a3f5f",
             "gridcolor": "white",
             "linecolor": "white",
             "minorgridcolor": "white",
             "startlinecolor": "#2a3f5f"
            },
            "baxis": {
             "endlinecolor": "#2a3f5f",
             "gridcolor": "white",
             "linecolor": "white",
             "minorgridcolor": "white",
             "startlinecolor": "#2a3f5f"
            },
            "type": "carpet"
           }
          ],
          "choropleth": [
           {
            "colorbar": {
             "outlinewidth": 0,
             "ticks": ""
            },
            "type": "choropleth"
           }
          ],
          "contour": [
           {
            "colorbar": {
             "outlinewidth": 0,
             "ticks": ""
            },
            "colorscale": [
             [
              0,
              "#0d0887"
             ],
             [
              0.1111111111111111,
              "#46039f"
             ],
             [
              0.2222222222222222,
              "#7201a8"
             ],
             [
              0.3333333333333333,
              "#9c179e"
             ],
             [
              0.4444444444444444,
              "#bd3786"
             ],
             [
              0.5555555555555556,
              "#d8576b"
             ],
             [
              0.6666666666666666,
              "#ed7953"
             ],
             [
              0.7777777777777778,
              "#fb9f3a"
             ],
             [
              0.8888888888888888,
              "#fdca26"
             ],
             [
              1,
              "#f0f921"
             ]
            ],
            "type": "contour"
           }
          ],
          "contourcarpet": [
           {
            "colorbar": {
             "outlinewidth": 0,
             "ticks": ""
            },
            "type": "contourcarpet"
           }
          ],
          "heatmap": [
           {
            "colorbar": {
             "outlinewidth": 0,
             "ticks": ""
            },
            "colorscale": [
             [
              0,
              "#0d0887"
             ],
             [
              0.1111111111111111,
              "#46039f"
             ],
             [
              0.2222222222222222,
              "#7201a8"
             ],
             [
              0.3333333333333333,
              "#9c179e"
             ],
             [
              0.4444444444444444,
              "#bd3786"
             ],
             [
              0.5555555555555556,
              "#d8576b"
             ],
             [
              0.6666666666666666,
              "#ed7953"
             ],
             [
              0.7777777777777778,
              "#fb9f3a"
             ],
             [
              0.8888888888888888,
              "#fdca26"
             ],
             [
              1,
              "#f0f921"
             ]
            ],
            "type": "heatmap"
           }
          ],
          "heatmapgl": [
           {
            "colorbar": {
             "outlinewidth": 0,
             "ticks": ""
            },
            "colorscale": [
             [
              0,
              "#0d0887"
             ],
             [
              0.1111111111111111,
              "#46039f"
             ],
             [
              0.2222222222222222,
              "#7201a8"
             ],
             [
              0.3333333333333333,
              "#9c179e"
             ],
             [
              0.4444444444444444,
              "#bd3786"
             ],
             [
              0.5555555555555556,
              "#d8576b"
             ],
             [
              0.6666666666666666,
              "#ed7953"
             ],
             [
              0.7777777777777778,
              "#fb9f3a"
             ],
             [
              0.8888888888888888,
              "#fdca26"
             ],
             [
              1,
              "#f0f921"
             ]
            ],
            "type": "heatmapgl"
           }
          ],
          "histogram": [
           {
            "marker": {
             "pattern": {
              "fillmode": "overlay",
              "size": 10,
              "solidity": 0.2
             }
            },
            "type": "histogram"
           }
          ],
          "histogram2d": [
           {
            "colorbar": {
             "outlinewidth": 0,
             "ticks": ""
            },
            "colorscale": [
             [
              0,
              "#0d0887"
             ],
             [
              0.1111111111111111,
              "#46039f"
             ],
             [
              0.2222222222222222,
              "#7201a8"
             ],
             [
              0.3333333333333333,
              "#9c179e"
             ],
             [
              0.4444444444444444,
              "#bd3786"
             ],
             [
              0.5555555555555556,
              "#d8576b"
             ],
             [
              0.6666666666666666,
              "#ed7953"
             ],
             [
              0.7777777777777778,
              "#fb9f3a"
             ],
             [
              0.8888888888888888,
              "#fdca26"
             ],
             [
              1,
              "#f0f921"
             ]
            ],
            "type": "histogram2d"
           }
          ],
          "histogram2dcontour": [
           {
            "colorbar": {
             "outlinewidth": 0,
             "ticks": ""
            },
            "colorscale": [
             [
              0,
              "#0d0887"
             ],
             [
              0.1111111111111111,
              "#46039f"
             ],
             [
              0.2222222222222222,
              "#7201a8"
             ],
             [
              0.3333333333333333,
              "#9c179e"
             ],
             [
              0.4444444444444444,
              "#bd3786"
             ],
             [
              0.5555555555555556,
              "#d8576b"
             ],
             [
              0.6666666666666666,
              "#ed7953"
             ],
             [
              0.7777777777777778,
              "#fb9f3a"
             ],
             [
              0.8888888888888888,
              "#fdca26"
             ],
             [
              1,
              "#f0f921"
             ]
            ],
            "type": "histogram2dcontour"
           }
          ],
          "mesh3d": [
           {
            "colorbar": {
             "outlinewidth": 0,
             "ticks": ""
            },
            "type": "mesh3d"
           }
          ],
          "parcoords": [
           {
            "line": {
             "colorbar": {
              "outlinewidth": 0,
              "ticks": ""
             }
            },
            "type": "parcoords"
           }
          ],
          "pie": [
           {
            "automargin": true,
            "type": "pie"
           }
          ],
          "scatter": [
           {
            "fillpattern": {
             "fillmode": "overlay",
             "size": 10,
             "solidity": 0.2
            },
            "type": "scatter"
           }
          ],
          "scatter3d": [
           {
            "line": {
             "colorbar": {
              "outlinewidth": 0,
              "ticks": ""
             }
            },
            "marker": {
             "colorbar": {
              "outlinewidth": 0,
              "ticks": ""
             }
            },
            "type": "scatter3d"
           }
          ],
          "scattercarpet": [
           {
            "marker": {
             "colorbar": {
              "outlinewidth": 0,
              "ticks": ""
             }
            },
            "type": "scattercarpet"
           }
          ],
          "scattergeo": [
           {
            "marker": {
             "colorbar": {
              "outlinewidth": 0,
              "ticks": ""
             }
            },
            "type": "scattergeo"
           }
          ],
          "scattergl": [
           {
            "marker": {
             "colorbar": {
              "outlinewidth": 0,
              "ticks": ""
             }
            },
            "type": "scattergl"
           }
          ],
          "scattermapbox": [
           {
            "marker": {
             "colorbar": {
              "outlinewidth": 0,
              "ticks": ""
             }
            },
            "type": "scattermapbox"
           }
          ],
          "scatterpolar": [
           {
            "marker": {
             "colorbar": {
              "outlinewidth": 0,
              "ticks": ""
             }
            },
            "type": "scatterpolar"
           }
          ],
          "scatterpolargl": [
           {
            "marker": {
             "colorbar": {
              "outlinewidth": 0,
              "ticks": ""
             }
            },
            "type": "scatterpolargl"
           }
          ],
          "scatterternary": [
           {
            "marker": {
             "colorbar": {
              "outlinewidth": 0,
              "ticks": ""
             }
            },
            "type": "scatterternary"
           }
          ],
          "surface": [
           {
            "colorbar": {
             "outlinewidth": 0,
             "ticks": ""
            },
            "colorscale": [
             [
              0,
              "#0d0887"
             ],
             [
              0.1111111111111111,
              "#46039f"
             ],
             [
              0.2222222222222222,
              "#7201a8"
             ],
             [
              0.3333333333333333,
              "#9c179e"
             ],
             [
              0.4444444444444444,
              "#bd3786"
             ],
             [
              0.5555555555555556,
              "#d8576b"
             ],
             [
              0.6666666666666666,
              "#ed7953"
             ],
             [
              0.7777777777777778,
              "#fb9f3a"
             ],
             [
              0.8888888888888888,
              "#fdca26"
             ],
             [
              1,
              "#f0f921"
             ]
            ],
            "type": "surface"
           }
          ],
          "table": [
           {
            "cells": {
             "fill": {
              "color": "#EBF0F8"
             },
             "line": {
              "color": "white"
             }
            },
            "header": {
             "fill": {
              "color": "#C8D4E3"
             },
             "line": {
              "color": "white"
             }
            },
            "type": "table"
           }
          ]
         },
         "layout": {
          "annotationdefaults": {
           "arrowcolor": "#2a3f5f",
           "arrowhead": 0,
           "arrowwidth": 1
          },
          "autotypenumbers": "strict",
          "coloraxis": {
           "colorbar": {
            "outlinewidth": 0,
            "ticks": ""
           }
          },
          "colorscale": {
           "diverging": [
            [
             0,
             "#8e0152"
            ],
            [
             0.1,
             "#c51b7d"
            ],
            [
             0.2,
             "#de77ae"
            ],
            [
             0.3,
             "#f1b6da"
            ],
            [
             0.4,
             "#fde0ef"
            ],
            [
             0.5,
             "#f7f7f7"
            ],
            [
             0.6,
             "#e6f5d0"
            ],
            [
             0.7,
             "#b8e186"
            ],
            [
             0.8,
             "#7fbc41"
            ],
            [
             0.9,
             "#4d9221"
            ],
            [
             1,
             "#276419"
            ]
           ],
           "sequential": [
            [
             0,
             "#0d0887"
            ],
            [
             0.1111111111111111,
             "#46039f"
            ],
            [
             0.2222222222222222,
             "#7201a8"
            ],
            [
             0.3333333333333333,
             "#9c179e"
            ],
            [
             0.4444444444444444,
             "#bd3786"
            ],
            [
             0.5555555555555556,
             "#d8576b"
            ],
            [
             0.6666666666666666,
             "#ed7953"
            ],
            [
             0.7777777777777778,
             "#fb9f3a"
            ],
            [
             0.8888888888888888,
             "#fdca26"
            ],
            [
             1,
             "#f0f921"
            ]
           ],
           "sequentialminus": [
            [
             0,
             "#0d0887"
            ],
            [
             0.1111111111111111,
             "#46039f"
            ],
            [
             0.2222222222222222,
             "#7201a8"
            ],
            [
             0.3333333333333333,
             "#9c179e"
            ],
            [
             0.4444444444444444,
             "#bd3786"
            ],
            [
             0.5555555555555556,
             "#d8576b"
            ],
            [
             0.6666666666666666,
             "#ed7953"
            ],
            [
             0.7777777777777778,
             "#fb9f3a"
            ],
            [
             0.8888888888888888,
             "#fdca26"
            ],
            [
             1,
             "#f0f921"
            ]
           ]
          },
          "colorway": [
           "#636efa",
           "#EF553B",
           "#00cc96",
           "#ab63fa",
           "#FFA15A",
           "#19d3f3",
           "#FF6692",
           "#B6E880",
           "#FF97FF",
           "#FECB52"
          ],
          "font": {
           "color": "#2a3f5f"
          },
          "geo": {
           "bgcolor": "white",
           "lakecolor": "white",
           "landcolor": "#E5ECF6",
           "showlakes": true,
           "showland": true,
           "subunitcolor": "white"
          },
          "hoverlabel": {
           "align": "left"
          },
          "hovermode": "closest",
          "mapbox": {
           "style": "light"
          },
          "paper_bgcolor": "white",
          "plot_bgcolor": "#E5ECF6",
          "polar": {
           "angularaxis": {
            "gridcolor": "white",
            "linecolor": "white",
            "ticks": ""
           },
           "bgcolor": "#E5ECF6",
           "radialaxis": {
            "gridcolor": "white",
            "linecolor": "white",
            "ticks": ""
           }
          },
          "scene": {
           "xaxis": {
            "backgroundcolor": "#E5ECF6",
            "gridcolor": "white",
            "gridwidth": 2,
            "linecolor": "white",
            "showbackground": true,
            "ticks": "",
            "zerolinecolor": "white"
           },
           "yaxis": {
            "backgroundcolor": "#E5ECF6",
            "gridcolor": "white",
            "gridwidth": 2,
            "linecolor": "white",
            "showbackground": true,
            "ticks": "",
            "zerolinecolor": "white"
           },
           "zaxis": {
            "backgroundcolor": "#E5ECF6",
            "gridcolor": "white",
            "gridwidth": 2,
            "linecolor": "white",
            "showbackground": true,
            "ticks": "",
            "zerolinecolor": "white"
           }
          },
          "shapedefaults": {
           "line": {
            "color": "#2a3f5f"
           }
          },
          "ternary": {
           "aaxis": {
            "gridcolor": "white",
            "linecolor": "white",
            "ticks": ""
           },
           "baxis": {
            "gridcolor": "white",
            "linecolor": "white",
            "ticks": ""
           },
           "bgcolor": "#E5ECF6",
           "caxis": {
            "gridcolor": "white",
            "linecolor": "white",
            "ticks": ""
           }
          },
          "title": {
           "x": 0.05
          },
          "xaxis": {
           "automargin": true,
           "gridcolor": "white",
           "linecolor": "white",
           "ticks": "",
           "title": {
            "standoff": 15
           },
           "zerolinecolor": "white",
           "zerolinewidth": 2
          },
          "yaxis": {
           "automargin": true,
           "gridcolor": "white",
           "linecolor": "white",
           "ticks": "",
           "title": {
            "standoff": 15
           },
           "zerolinecolor": "white",
           "zerolinewidth": 2
          }
         }
        },
        "xaxis": {
         "anchor": "y",
         "domain": [
          0,
          1
         ],
         "title": {
          "text": "x"
         }
        },
        "yaxis": {
         "anchor": "x",
         "domain": [
          0,
          1
         ],
         "title": {
          "text": "y"
         }
        }
       }
      },
      "text/html": [
       "<div>                            <div id=\"dcaa2ab0-da73-408c-8b46-a1db52601a19\" class=\"plotly-graph-div\" style=\"height:525px; width:100%;\"></div>            <script type=\"text/javascript\">                require([\"plotly\"], function(Plotly) {                    window.PLOTLYENV=window.PLOTLYENV || {};                                    if (document.getElementById(\"dcaa2ab0-da73-408c-8b46-a1db52601a19\")) {                    Plotly.newPlot(                        \"dcaa2ab0-da73-408c-8b46-a1db52601a19\",                        [{\"hovertemplate\":\"x=%{x}<br>y=%{y}<extra></extra>\",\"legendgroup\":\"\",\"line\":{\"color\":\"#636efa\",\"dash\":\"solid\"},\"marker\":{\"symbol\":\"circle\"},\"mode\":\"lines\",\"name\":\"\",\"orientation\":\"v\",\"showlegend\":false,\"x\":[0.1,0.10101010101010102,0.10202020202020202,0.10303030303030304,0.10404040404040404,0.10505050505050506,0.10606060606060606,0.10707070707070708,0.10808080808080808,0.1090909090909091,0.1101010101010101,0.11111111111111112,0.11212121212121212,0.11313131313131314,0.11414141414141415,0.11515151515151516,0.11616161616161616,0.11717171717171718,0.1181818181818182,0.1191919191919192,0.1202020202020202,0.12121212121212122,0.12222222222222223,0.12323232323232323,0.12424242424242425,0.12525252525252525,0.12626262626262627,0.1272727272727273,0.12828282828282828,0.1292929292929293,0.1303030303030303,0.13131313131313133,0.13232323232323234,0.13333333333333333,0.13434343434343435,0.13535353535353536,0.13636363636363635,0.13737373737373737,0.1383838383838384,0.1393939393939394,0.14040404040404042,0.14141414141414144,0.14242424242424243,0.14343434343434344,0.14444444444444446,0.14545454545454545,0.14646464646464646,0.14747474747474748,0.1484848484848485,0.14949494949494951,0.1505050505050505,0.15151515151515152,0.15252525252525254,0.15353535353535352,0.15454545454545454,0.15555555555555556,0.15656565656565657,0.1575757575757576,0.1585858585858586,0.1595959595959596,0.1606060606060606,0.16161616161616163,0.16262626262626262,0.16363636363636364,0.16464646464646465,0.16565656565656567,0.16666666666666669,0.1676767676767677,0.1686868686868687,0.1696969696969697,0.1707070707070707,0.1717171717171717,0.17272727272727273,0.17373737373737375,0.17474747474747476,0.17575757575757578,0.17676767676767677,0.17777777777777778,0.17878787878787877,0.1797979797979798,0.1808080808080808,0.18181818181818182,0.18282828282828284,0.18383838383838386,0.18484848484848487,0.18585858585858586,0.18686868686868688,0.18787878787878787,0.18888888888888888,0.1898989898989899,0.19090909090909092,0.19191919191919193,0.19292929292929295,0.19393939393939394,0.19494949494949496,0.19595959595959594,0.19696969696969696,0.19797979797979798,0.198989898989899,0.2],\"xaxis\":\"x\",\"y\":[0.8766459200819671,0.8612850098308802,0.8462394218992793,0.8315092854551476,0.8170959348433415,0.8030004084486193,0.7892250578625299,0.7757760526359806,0.7626598171431151,0.7498829042812626,0.7374534777676165,0.7253695633475005,0.7136257578203796,0.7022253420059176,0.6911704938942745,0.6804598762739166,0.6700921639342171,0.660063274425828,0.6503679823025333,0.6410054627204316,0.6319735486381868,0.6232742778003582,0.6149079804948392,0.6068785812697266,0.5991884720039441,0.5918394408022936,0.5848311216884025,0.5781640711963149,0.5718402281046514,0.5658598254544117,0.5602231586505894,0.5549322043083593,0.5499869765614415,0.5453874754098361,0.5411340779581291,0.5372274402879599,0.5336638472090502,0.5304444072869781,0.5275703590738483,0.5250435280976682,0.5228685279258055,0.5210427410593768,0.5195665184539131,0.5184394426622576,0.5176576574074074,0.517219085489771,0.5171179206266172,0.517346949926488,0.5179025302352889,0.5187842142922853,0.5199901929518316,0.5215161951105691,0.5233596800349497,0.5255231259582076,0.5280058047351307,0.5308102668488159,0.5339370597273029,0.5373860085805898,0.5411551588105347,0.5452401682473016,0.5496399448057324,0.5543520614323397,0.5593748221593313,0.5647079653163527,0.5703518495438321,0.5763064823102695,0.5825718636156649,0.5891487852234886,0.5960451958837423,0.6032629841183821,0.6108015048683975,0.6186543033832279,0.6268172017341823,0.6352831782245373,0.6440488513542447,0.6531141778364873,0.6624802076747354,0.6721484244080146,0.6821210372992216,0.6924001956633731,0.7029855340785733,0.7138757400758705,0.7250705704783388,0.7365689379387517,0.7483682356971356,0.7604620029714265,0.7728486179532117,0.7855280806424902,0.7985003910392631,0.8117645844744849,0.8253176397507114,0.8391570048890965,0.8532740520162717,0.8676638323247375,0.882325583074494,0.8972592372859242,0.9124638363421846,0.9279389932501033,0.9436821184679633,0.9596880409836066],\"yaxis\":\"y\",\"type\":\"scatter\"}],                        {\"template\":{\"data\":{\"histogram2dcontour\":[{\"type\":\"histogram2dcontour\",\"colorbar\":{\"outlinewidth\":0,\"ticks\":\"\"},\"colorscale\":[[0.0,\"#0d0887\"],[0.1111111111111111,\"#46039f\"],[0.2222222222222222,\"#7201a8\"],[0.3333333333333333,\"#9c179e\"],[0.4444444444444444,\"#bd3786\"],[0.5555555555555556,\"#d8576b\"],[0.6666666666666666,\"#ed7953\"],[0.7777777777777778,\"#fb9f3a\"],[0.8888888888888888,\"#fdca26\"],[1.0,\"#f0f921\"]]}],\"choropleth\":[{\"type\":\"choropleth\",\"colorbar\":{\"outlinewidth\":0,\"ticks\":\"\"}}],\"histogram2d\":[{\"type\":\"histogram2d\",\"colorbar\":{\"outlinewidth\":0,\"ticks\":\"\"},\"colorscale\":[[0.0,\"#0d0887\"],[0.1111111111111111,\"#46039f\"],[0.2222222222222222,\"#7201a8\"],[0.3333333333333333,\"#9c179e\"],[0.4444444444444444,\"#bd3786\"],[0.5555555555555556,\"#d8576b\"],[0.6666666666666666,\"#ed7953\"],[0.7777777777777778,\"#fb9f3a\"],[0.8888888888888888,\"#fdca26\"],[1.0,\"#f0f921\"]]}],\"heatmap\":[{\"type\":\"heatmap\",\"colorbar\":{\"outlinewidth\":0,\"ticks\":\"\"},\"colorscale\":[[0.0,\"#0d0887\"],[0.1111111111111111,\"#46039f\"],[0.2222222222222222,\"#7201a8\"],[0.3333333333333333,\"#9c179e\"],[0.4444444444444444,\"#bd3786\"],[0.5555555555555556,\"#d8576b\"],[0.6666666666666666,\"#ed7953\"],[0.7777777777777778,\"#fb9f3a\"],[0.8888888888888888,\"#fdca26\"],[1.0,\"#f0f921\"]]}],\"heatmapgl\":[{\"type\":\"heatmapgl\",\"colorbar\":{\"outlinewidth\":0,\"ticks\":\"\"},\"colorscale\":[[0.0,\"#0d0887\"],[0.1111111111111111,\"#46039f\"],[0.2222222222222222,\"#7201a8\"],[0.3333333333333333,\"#9c179e\"],[0.4444444444444444,\"#bd3786\"],[0.5555555555555556,\"#d8576b\"],[0.6666666666666666,\"#ed7953\"],[0.7777777777777778,\"#fb9f3a\"],[0.8888888888888888,\"#fdca26\"],[1.0,\"#f0f921\"]]}],\"contourcarpet\":[{\"type\":\"contourcarpet\",\"colorbar\":{\"outlinewidth\":0,\"ticks\":\"\"}}],\"contour\":[{\"type\":\"contour\",\"colorbar\":{\"outlinewidth\":0,\"ticks\":\"\"},\"colorscale\":[[0.0,\"#0d0887\"],[0.1111111111111111,\"#46039f\"],[0.2222222222222222,\"#7201a8\"],[0.3333333333333333,\"#9c179e\"],[0.4444444444444444,\"#bd3786\"],[0.5555555555555556,\"#d8576b\"],[0.6666666666666666,\"#ed7953\"],[0.7777777777777778,\"#fb9f3a\"],[0.8888888888888888,\"#fdca26\"],[1.0,\"#f0f921\"]]}],\"surface\":[{\"type\":\"surface\",\"colorbar\":{\"outlinewidth\":0,\"ticks\":\"\"},\"colorscale\":[[0.0,\"#0d0887\"],[0.1111111111111111,\"#46039f\"],[0.2222222222222222,\"#7201a8\"],[0.3333333333333333,\"#9c179e\"],[0.4444444444444444,\"#bd3786\"],[0.5555555555555556,\"#d8576b\"],[0.6666666666666666,\"#ed7953\"],[0.7777777777777778,\"#fb9f3a\"],[0.8888888888888888,\"#fdca26\"],[1.0,\"#f0f921\"]]}],\"mesh3d\":[{\"type\":\"mesh3d\",\"colorbar\":{\"outlinewidth\":0,\"ticks\":\"\"}}],\"scatter\":[{\"fillpattern\":{\"fillmode\":\"overlay\",\"size\":10,\"solidity\":0.2},\"type\":\"scatter\"}],\"parcoords\":[{\"type\":\"parcoords\",\"line\":{\"colorbar\":{\"outlinewidth\":0,\"ticks\":\"\"}}}],\"scatterpolargl\":[{\"type\":\"scatterpolargl\",\"marker\":{\"colorbar\":{\"outlinewidth\":0,\"ticks\":\"\"}}}],\"bar\":[{\"error_x\":{\"color\":\"#2a3f5f\"},\"error_y\":{\"color\":\"#2a3f5f\"},\"marker\":{\"line\":{\"color\":\"#E5ECF6\",\"width\":0.5},\"pattern\":{\"fillmode\":\"overlay\",\"size\":10,\"solidity\":0.2}},\"type\":\"bar\"}],\"scattergeo\":[{\"type\":\"scattergeo\",\"marker\":{\"colorbar\":{\"outlinewidth\":0,\"ticks\":\"\"}}}],\"scatterpolar\":[{\"type\":\"scatterpolar\",\"marker\":{\"colorbar\":{\"outlinewidth\":0,\"ticks\":\"\"}}}],\"histogram\":[{\"marker\":{\"pattern\":{\"fillmode\":\"overlay\",\"size\":10,\"solidity\":0.2}},\"type\":\"histogram\"}],\"scattergl\":[{\"type\":\"scattergl\",\"marker\":{\"colorbar\":{\"outlinewidth\":0,\"ticks\":\"\"}}}],\"scatter3d\":[{\"type\":\"scatter3d\",\"line\":{\"colorbar\":{\"outlinewidth\":0,\"ticks\":\"\"}},\"marker\":{\"colorbar\":{\"outlinewidth\":0,\"ticks\":\"\"}}}],\"scattermapbox\":[{\"type\":\"scattermapbox\",\"marker\":{\"colorbar\":{\"outlinewidth\":0,\"ticks\":\"\"}}}],\"scatterternary\":[{\"type\":\"scatterternary\",\"marker\":{\"colorbar\":{\"outlinewidth\":0,\"ticks\":\"\"}}}],\"scattercarpet\":[{\"type\":\"scattercarpet\",\"marker\":{\"colorbar\":{\"outlinewidth\":0,\"ticks\":\"\"}}}],\"carpet\":[{\"aaxis\":{\"endlinecolor\":\"#2a3f5f\",\"gridcolor\":\"white\",\"linecolor\":\"white\",\"minorgridcolor\":\"white\",\"startlinecolor\":\"#2a3f5f\"},\"baxis\":{\"endlinecolor\":\"#2a3f5f\",\"gridcolor\":\"white\",\"linecolor\":\"white\",\"minorgridcolor\":\"white\",\"startlinecolor\":\"#2a3f5f\"},\"type\":\"carpet\"}],\"table\":[{\"cells\":{\"fill\":{\"color\":\"#EBF0F8\"},\"line\":{\"color\":\"white\"}},\"header\":{\"fill\":{\"color\":\"#C8D4E3\"},\"line\":{\"color\":\"white\"}},\"type\":\"table\"}],\"barpolar\":[{\"marker\":{\"line\":{\"color\":\"#E5ECF6\",\"width\":0.5},\"pattern\":{\"fillmode\":\"overlay\",\"size\":10,\"solidity\":0.2}},\"type\":\"barpolar\"}],\"pie\":[{\"automargin\":true,\"type\":\"pie\"}]},\"layout\":{\"autotypenumbers\":\"strict\",\"colorway\":[\"#636efa\",\"#EF553B\",\"#00cc96\",\"#ab63fa\",\"#FFA15A\",\"#19d3f3\",\"#FF6692\",\"#B6E880\",\"#FF97FF\",\"#FECB52\"],\"font\":{\"color\":\"#2a3f5f\"},\"hovermode\":\"closest\",\"hoverlabel\":{\"align\":\"left\"},\"paper_bgcolor\":\"white\",\"plot_bgcolor\":\"#E5ECF6\",\"polar\":{\"bgcolor\":\"#E5ECF6\",\"angularaxis\":{\"gridcolor\":\"white\",\"linecolor\":\"white\",\"ticks\":\"\"},\"radialaxis\":{\"gridcolor\":\"white\",\"linecolor\":\"white\",\"ticks\":\"\"}},\"ternary\":{\"bgcolor\":\"#E5ECF6\",\"aaxis\":{\"gridcolor\":\"white\",\"linecolor\":\"white\",\"ticks\":\"\"},\"baxis\":{\"gridcolor\":\"white\",\"linecolor\":\"white\",\"ticks\":\"\"},\"caxis\":{\"gridcolor\":\"white\",\"linecolor\":\"white\",\"ticks\":\"\"}},\"coloraxis\":{\"colorbar\":{\"outlinewidth\":0,\"ticks\":\"\"}},\"colorscale\":{\"sequential\":[[0.0,\"#0d0887\"],[0.1111111111111111,\"#46039f\"],[0.2222222222222222,\"#7201a8\"],[0.3333333333333333,\"#9c179e\"],[0.4444444444444444,\"#bd3786\"],[0.5555555555555556,\"#d8576b\"],[0.6666666666666666,\"#ed7953\"],[0.7777777777777778,\"#fb9f3a\"],[0.8888888888888888,\"#fdca26\"],[1.0,\"#f0f921\"]],\"sequentialminus\":[[0.0,\"#0d0887\"],[0.1111111111111111,\"#46039f\"],[0.2222222222222222,\"#7201a8\"],[0.3333333333333333,\"#9c179e\"],[0.4444444444444444,\"#bd3786\"],[0.5555555555555556,\"#d8576b\"],[0.6666666666666666,\"#ed7953\"],[0.7777777777777778,\"#fb9f3a\"],[0.8888888888888888,\"#fdca26\"],[1.0,\"#f0f921\"]],\"diverging\":[[0,\"#8e0152\"],[0.1,\"#c51b7d\"],[0.2,\"#de77ae\"],[0.3,\"#f1b6da\"],[0.4,\"#fde0ef\"],[0.5,\"#f7f7f7\"],[0.6,\"#e6f5d0\"],[0.7,\"#b8e186\"],[0.8,\"#7fbc41\"],[0.9,\"#4d9221\"],[1,\"#276419\"]]},\"xaxis\":{\"gridcolor\":\"white\",\"linecolor\":\"white\",\"ticks\":\"\",\"title\":{\"standoff\":15},\"zerolinecolor\":\"white\",\"automargin\":true,\"zerolinewidth\":2},\"yaxis\":{\"gridcolor\":\"white\",\"linecolor\":\"white\",\"ticks\":\"\",\"title\":{\"standoff\":15},\"zerolinecolor\":\"white\",\"automargin\":true,\"zerolinewidth\":2},\"scene\":{\"xaxis\":{\"backgroundcolor\":\"#E5ECF6\",\"gridcolor\":\"white\",\"linecolor\":\"white\",\"showbackground\":true,\"ticks\":\"\",\"zerolinecolor\":\"white\",\"gridwidth\":2},\"yaxis\":{\"backgroundcolor\":\"#E5ECF6\",\"gridcolor\":\"white\",\"linecolor\":\"white\",\"showbackground\":true,\"ticks\":\"\",\"zerolinecolor\":\"white\",\"gridwidth\":2},\"zaxis\":{\"backgroundcolor\":\"#E5ECF6\",\"gridcolor\":\"white\",\"linecolor\":\"white\",\"showbackground\":true,\"ticks\":\"\",\"zerolinecolor\":\"white\",\"gridwidth\":2}},\"shapedefaults\":{\"line\":{\"color\":\"#2a3f5f\"}},\"annotationdefaults\":{\"arrowcolor\":\"#2a3f5f\",\"arrowhead\":0,\"arrowwidth\":1},\"geo\":{\"bgcolor\":\"white\",\"landcolor\":\"#E5ECF6\",\"subunitcolor\":\"white\",\"showland\":true,\"showlakes\":true,\"lakecolor\":\"white\"},\"title\":{\"x\":0.05},\"mapbox\":{\"style\":\"light\"}}},\"xaxis\":{\"anchor\":\"y\",\"domain\":[0.0,1.0],\"title\":{\"text\":\"x\"}},\"yaxis\":{\"anchor\":\"x\",\"domain\":[0.0,1.0],\"title\":{\"text\":\"y\"}},\"legend\":{\"tracegroupgap\":0},\"margin\":{\"t\":60}},                        {\"responsive\": true}                    ).then(function(){\n",
       "                            \n",
       "var gd = document.getElementById('dcaa2ab0-da73-408c-8b46-a1db52601a19');\n",
       "var x = new MutationObserver(function (mutations, observer) {{\n",
       "        var display = window.getComputedStyle(gd).display;\n",
       "        if (!display || display === 'none') {{\n",
       "            console.log([gd, 'removed!']);\n",
       "            Plotly.purge(gd);\n",
       "            observer.disconnect();\n",
       "        }}\n",
       "}});\n",
       "\n",
       "// Listen for the removal of the full notebook cells\n",
       "var notebookContainer = gd.closest('#notebook-container');\n",
       "if (notebookContainer) {{\n",
       "    x.observe(notebookContainer, {childList: true});\n",
       "}}\n",
       "\n",
       "// Listen for the clearing of the current output cell\n",
       "var outputEl = gd.closest('.output');\n",
       "if (outputEl) {{\n",
       "    x.observe(outputEl, {childList: true});\n",
       "}}\n",
       "\n",
       "                        })                };                });            </script>        </div>"
      ]
     },
     "metadata": {},
     "output_type": "display_data"
    }
   ],
   "source": [
    "px.line(x = thetas, y = hubers)\n",
    "plot4 = px.line(x = thetas, y = hubers)\n",
    "px.line(x = thetas, y = hubers)"
   ]
  },
  {
   "cell_type": "code",
   "execution_count": 72,
   "metadata": {},
   "outputs": [
    {
     "data": {
      "application/vnd.plotly.v1+json": {
       "config": {
        "plotlyServerURL": "https://plot.ly"
       },
       "data": [
        {
         "hovertemplate": "x=%{x}<br>y=%{y}<extra></extra>",
         "legendgroup": "",
         "line": {
          "color": "#636efa",
          "dash": "solid"
         },
         "marker": {
          "symbol": "circle"
         },
         "mode": "lines",
         "name": "",
         "orientation": "v",
         "showlegend": false,
         "type": "scatter",
         "x": [
          0.1,
          0.10101010101010102,
          0.10202020202020202,
          0.10303030303030304,
          0.10404040404040404,
          0.10505050505050506,
          0.10606060606060606,
          0.10707070707070708,
          0.10808080808080808,
          0.1090909090909091,
          0.1101010101010101,
          0.11111111111111112,
          0.11212121212121212,
          0.11313131313131314,
          0.11414141414141415,
          0.11515151515151516,
          0.11616161616161616,
          0.11717171717171718,
          0.1181818181818182,
          0.1191919191919192,
          0.1202020202020202,
          0.12121212121212122,
          0.12222222222222223,
          0.12323232323232323,
          0.12424242424242425,
          0.12525252525252525,
          0.12626262626262627,
          0.1272727272727273,
          0.12828282828282828,
          0.1292929292929293,
          0.1303030303030303,
          0.13131313131313133,
          0.13232323232323234,
          0.13333333333333333,
          0.13434343434343435,
          0.13535353535353536,
          0.13636363636363635,
          0.13737373737373737,
          0.1383838383838384,
          0.1393939393939394,
          0.14040404040404042,
          0.14141414141414144,
          0.14242424242424243,
          0.14343434343434344,
          0.14444444444444446,
          0.14545454545454545,
          0.14646464646464646,
          0.14747474747474748,
          0.1484848484848485,
          0.14949494949494951,
          0.1505050505050505,
          0.15151515151515152,
          0.15252525252525254,
          0.15353535353535352,
          0.15454545454545454,
          0.15555555555555556,
          0.15656565656565657,
          0.1575757575757576,
          0.1585858585858586,
          0.1595959595959596,
          0.1606060606060606,
          0.16161616161616163,
          0.16262626262626262,
          0.16363636363636364,
          0.16464646464646465,
          0.16565656565656567,
          0.16666666666666669,
          0.1676767676767677,
          0.1686868686868687,
          0.1696969696969697,
          0.1707070707070707,
          0.1717171717171717,
          0.17272727272727273,
          0.17373737373737375,
          0.17474747474747476,
          0.17575757575757578,
          0.17676767676767677,
          0.17777777777777778,
          0.17878787878787877,
          0.1797979797979798,
          0.1808080808080808,
          0.18181818181818182,
          0.18282828282828284,
          0.18383838383838386,
          0.18484848484848487,
          0.18585858585858586,
          0.18686868686868688,
          0.18787878787878787,
          0.18888888888888888,
          0.1898989898989899,
          0.19090909090909092,
          0.19191919191919193,
          0.19292929292929295,
          0.19393939393939394,
          0.19494949494949496,
          0.19595959595959594,
          0.19696969696969696,
          0.19797979797979798,
          0.198989898989899,
          0.2
         ],
         "xaxis": "x",
         "y": [
          1.157217213114754,
          1.1432579897333994,
          1.1294634459347572,
          1.1160683060109289,
          1.1031471684053653,
          1.090654247391952,
          1.078470566318927,
          1.0668091571452225,
          1.0555076585527405,
          1.0443472429210134,
          1.0331868272892861,
          1.0220264116575593,
          1.0109139344262295,
          0.9999016393442622,
          0.9888893442622949,
          0.9778770491803278,
          0.9669479632389468,
          0.9565744328531214,
          0.9465555141579731,
          0.9369427885411492,
          0.927434384831926,
          0.9180104321907601,
          0.9092026411657558,
          0.9005556383507203,
          0.8921851713859911,
          0.8840602748799471,
          0.8762963652922668,
          0.8685819672131146,
          0.8609771071369433,
          0.8535838715019042,
          0.8462932190760059,
          0.8396924159629077,
          0.8333600347739691,
          0.8271311475409836,
          0.8209073108130485,
          0.8147709057791025,
          0.8087909836065574,
          0.8031377711541646,
          0.7977234227521112,
          0.7924935419771485,
          0.7881639758238117,
          0.7842465640006624,
          0.7812624192747143,
          0.7789043715846994,
          0.7766898907103824,
          0.7746840536512667,
          0.7729427471435669,
          0.7717921013412816,
          0.7710117983109788,
          0.7706171551581389,
          0.7710690925649941,
          0.7718343268753105,
          0.772730129160457,
          0.7741940718662029,
          0.7762149776453056,
          0.7785054644808743,
          0.7813005050505051,
          0.7844913065076999,
          0.7880397002815035,
          0.7918361483689351,
          0.7960016145057128,
          0.8004851796655075,
          0.805117610531545,
          0.8101870342771981,
          0.8155267014406359,
          0.820949826130154,
          0.826454918032787,
          0.8323228183474086,
          0.838327330683888,
          0.8444058618976653,
          0.8509598029475077,
          0.8576879450240107,
          0.864761177347243,
          0.8720856102003643,
          0.879599892366286,
          0.8872804272230504,
          0.8952622536843847,
          0.9033260473588344,
          0.911625558867362,
          0.9199780592813379,
          0.9285832505381685,
          0.9374292101341283,
          0.9465843268753105,
          0.955739443616493,
          0.96519088425236,
          0.975147706573936,
          0.9856335899983442,
          0.9963723298559364,
          1.0073428961748634,
          1.0183929458519623,
          1.029469821162444,
          1.0406743666169895,
          1.0521377297565824,
          1.064025832091406,
          1.076066774300381,
          1.0888152839874148,
          1.101880899155489,
          1.115451233647955,
          1.1296575178009605,
          1.1442704918032787
         ],
         "yaxis": "y"
        }
       ],
       "layout": {
        "legend": {
         "tracegroupgap": 0
        },
        "margin": {
         "t": 60
        },
        "template": {
         "data": {
          "bar": [
           {
            "error_x": {
             "color": "#2a3f5f"
            },
            "error_y": {
             "color": "#2a3f5f"
            },
            "marker": {
             "line": {
              "color": "#E5ECF6",
              "width": 0.5
             },
             "pattern": {
              "fillmode": "overlay",
              "size": 10,
              "solidity": 0.2
             }
            },
            "type": "bar"
           }
          ],
          "barpolar": [
           {
            "marker": {
             "line": {
              "color": "#E5ECF6",
              "width": 0.5
             },
             "pattern": {
              "fillmode": "overlay",
              "size": 10,
              "solidity": 0.2
             }
            },
            "type": "barpolar"
           }
          ],
          "carpet": [
           {
            "aaxis": {
             "endlinecolor": "#2a3f5f",
             "gridcolor": "white",
             "linecolor": "white",
             "minorgridcolor": "white",
             "startlinecolor": "#2a3f5f"
            },
            "baxis": {
             "endlinecolor": "#2a3f5f",
             "gridcolor": "white",
             "linecolor": "white",
             "minorgridcolor": "white",
             "startlinecolor": "#2a3f5f"
            },
            "type": "carpet"
           }
          ],
          "choropleth": [
           {
            "colorbar": {
             "outlinewidth": 0,
             "ticks": ""
            },
            "type": "choropleth"
           }
          ],
          "contour": [
           {
            "colorbar": {
             "outlinewidth": 0,
             "ticks": ""
            },
            "colorscale": [
             [
              0,
              "#0d0887"
             ],
             [
              0.1111111111111111,
              "#46039f"
             ],
             [
              0.2222222222222222,
              "#7201a8"
             ],
             [
              0.3333333333333333,
              "#9c179e"
             ],
             [
              0.4444444444444444,
              "#bd3786"
             ],
             [
              0.5555555555555556,
              "#d8576b"
             ],
             [
              0.6666666666666666,
              "#ed7953"
             ],
             [
              0.7777777777777778,
              "#fb9f3a"
             ],
             [
              0.8888888888888888,
              "#fdca26"
             ],
             [
              1,
              "#f0f921"
             ]
            ],
            "type": "contour"
           }
          ],
          "contourcarpet": [
           {
            "colorbar": {
             "outlinewidth": 0,
             "ticks": ""
            },
            "type": "contourcarpet"
           }
          ],
          "heatmap": [
           {
            "colorbar": {
             "outlinewidth": 0,
             "ticks": ""
            },
            "colorscale": [
             [
              0,
              "#0d0887"
             ],
             [
              0.1111111111111111,
              "#46039f"
             ],
             [
              0.2222222222222222,
              "#7201a8"
             ],
             [
              0.3333333333333333,
              "#9c179e"
             ],
             [
              0.4444444444444444,
              "#bd3786"
             ],
             [
              0.5555555555555556,
              "#d8576b"
             ],
             [
              0.6666666666666666,
              "#ed7953"
             ],
             [
              0.7777777777777778,
              "#fb9f3a"
             ],
             [
              0.8888888888888888,
              "#fdca26"
             ],
             [
              1,
              "#f0f921"
             ]
            ],
            "type": "heatmap"
           }
          ],
          "heatmapgl": [
           {
            "colorbar": {
             "outlinewidth": 0,
             "ticks": ""
            },
            "colorscale": [
             [
              0,
              "#0d0887"
             ],
             [
              0.1111111111111111,
              "#46039f"
             ],
             [
              0.2222222222222222,
              "#7201a8"
             ],
             [
              0.3333333333333333,
              "#9c179e"
             ],
             [
              0.4444444444444444,
              "#bd3786"
             ],
             [
              0.5555555555555556,
              "#d8576b"
             ],
             [
              0.6666666666666666,
              "#ed7953"
             ],
             [
              0.7777777777777778,
              "#fb9f3a"
             ],
             [
              0.8888888888888888,
              "#fdca26"
             ],
             [
              1,
              "#f0f921"
             ]
            ],
            "type": "heatmapgl"
           }
          ],
          "histogram": [
           {
            "marker": {
             "pattern": {
              "fillmode": "overlay",
              "size": 10,
              "solidity": 0.2
             }
            },
            "type": "histogram"
           }
          ],
          "histogram2d": [
           {
            "colorbar": {
             "outlinewidth": 0,
             "ticks": ""
            },
            "colorscale": [
             [
              0,
              "#0d0887"
             ],
             [
              0.1111111111111111,
              "#46039f"
             ],
             [
              0.2222222222222222,
              "#7201a8"
             ],
             [
              0.3333333333333333,
              "#9c179e"
             ],
             [
              0.4444444444444444,
              "#bd3786"
             ],
             [
              0.5555555555555556,
              "#d8576b"
             ],
             [
              0.6666666666666666,
              "#ed7953"
             ],
             [
              0.7777777777777778,
              "#fb9f3a"
             ],
             [
              0.8888888888888888,
              "#fdca26"
             ],
             [
              1,
              "#f0f921"
             ]
            ],
            "type": "histogram2d"
           }
          ],
          "histogram2dcontour": [
           {
            "colorbar": {
             "outlinewidth": 0,
             "ticks": ""
            },
            "colorscale": [
             [
              0,
              "#0d0887"
             ],
             [
              0.1111111111111111,
              "#46039f"
             ],
             [
              0.2222222222222222,
              "#7201a8"
             ],
             [
              0.3333333333333333,
              "#9c179e"
             ],
             [
              0.4444444444444444,
              "#bd3786"
             ],
             [
              0.5555555555555556,
              "#d8576b"
             ],
             [
              0.6666666666666666,
              "#ed7953"
             ],
             [
              0.7777777777777778,
              "#fb9f3a"
             ],
             [
              0.8888888888888888,
              "#fdca26"
             ],
             [
              1,
              "#f0f921"
             ]
            ],
            "type": "histogram2dcontour"
           }
          ],
          "mesh3d": [
           {
            "colorbar": {
             "outlinewidth": 0,
             "ticks": ""
            },
            "type": "mesh3d"
           }
          ],
          "parcoords": [
           {
            "line": {
             "colorbar": {
              "outlinewidth": 0,
              "ticks": ""
             }
            },
            "type": "parcoords"
           }
          ],
          "pie": [
           {
            "automargin": true,
            "type": "pie"
           }
          ],
          "scatter": [
           {
            "fillpattern": {
             "fillmode": "overlay",
             "size": 10,
             "solidity": 0.2
            },
            "type": "scatter"
           }
          ],
          "scatter3d": [
           {
            "line": {
             "colorbar": {
              "outlinewidth": 0,
              "ticks": ""
             }
            },
            "marker": {
             "colorbar": {
              "outlinewidth": 0,
              "ticks": ""
             }
            },
            "type": "scatter3d"
           }
          ],
          "scattercarpet": [
           {
            "marker": {
             "colorbar": {
              "outlinewidth": 0,
              "ticks": ""
             }
            },
            "type": "scattercarpet"
           }
          ],
          "scattergeo": [
           {
            "marker": {
             "colorbar": {
              "outlinewidth": 0,
              "ticks": ""
             }
            },
            "type": "scattergeo"
           }
          ],
          "scattergl": [
           {
            "marker": {
             "colorbar": {
              "outlinewidth": 0,
              "ticks": ""
             }
            },
            "type": "scattergl"
           }
          ],
          "scattermapbox": [
           {
            "marker": {
             "colorbar": {
              "outlinewidth": 0,
              "ticks": ""
             }
            },
            "type": "scattermapbox"
           }
          ],
          "scatterpolar": [
           {
            "marker": {
             "colorbar": {
              "outlinewidth": 0,
              "ticks": ""
             }
            },
            "type": "scatterpolar"
           }
          ],
          "scatterpolargl": [
           {
            "marker": {
             "colorbar": {
              "outlinewidth": 0,
              "ticks": ""
             }
            },
            "type": "scatterpolargl"
           }
          ],
          "scatterternary": [
           {
            "marker": {
             "colorbar": {
              "outlinewidth": 0,
              "ticks": ""
             }
            },
            "type": "scatterternary"
           }
          ],
          "surface": [
           {
            "colorbar": {
             "outlinewidth": 0,
             "ticks": ""
            },
            "colorscale": [
             [
              0,
              "#0d0887"
             ],
             [
              0.1111111111111111,
              "#46039f"
             ],
             [
              0.2222222222222222,
              "#7201a8"
             ],
             [
              0.3333333333333333,
              "#9c179e"
             ],
             [
              0.4444444444444444,
              "#bd3786"
             ],
             [
              0.5555555555555556,
              "#d8576b"
             ],
             [
              0.6666666666666666,
              "#ed7953"
             ],
             [
              0.7777777777777778,
              "#fb9f3a"
             ],
             [
              0.8888888888888888,
              "#fdca26"
             ],
             [
              1,
              "#f0f921"
             ]
            ],
            "type": "surface"
           }
          ],
          "table": [
           {
            "cells": {
             "fill": {
              "color": "#EBF0F8"
             },
             "line": {
              "color": "white"
             }
            },
            "header": {
             "fill": {
              "color": "#C8D4E3"
             },
             "line": {
              "color": "white"
             }
            },
            "type": "table"
           }
          ]
         },
         "layout": {
          "annotationdefaults": {
           "arrowcolor": "#2a3f5f",
           "arrowhead": 0,
           "arrowwidth": 1
          },
          "autotypenumbers": "strict",
          "coloraxis": {
           "colorbar": {
            "outlinewidth": 0,
            "ticks": ""
           }
          },
          "colorscale": {
           "diverging": [
            [
             0,
             "#8e0152"
            ],
            [
             0.1,
             "#c51b7d"
            ],
            [
             0.2,
             "#de77ae"
            ],
            [
             0.3,
             "#f1b6da"
            ],
            [
             0.4,
             "#fde0ef"
            ],
            [
             0.5,
             "#f7f7f7"
            ],
            [
             0.6,
             "#e6f5d0"
            ],
            [
             0.7,
             "#b8e186"
            ],
            [
             0.8,
             "#7fbc41"
            ],
            [
             0.9,
             "#4d9221"
            ],
            [
             1,
             "#276419"
            ]
           ],
           "sequential": [
            [
             0,
             "#0d0887"
            ],
            [
             0.1111111111111111,
             "#46039f"
            ],
            [
             0.2222222222222222,
             "#7201a8"
            ],
            [
             0.3333333333333333,
             "#9c179e"
            ],
            [
             0.4444444444444444,
             "#bd3786"
            ],
            [
             0.5555555555555556,
             "#d8576b"
            ],
            [
             0.6666666666666666,
             "#ed7953"
            ],
            [
             0.7777777777777778,
             "#fb9f3a"
            ],
            [
             0.8888888888888888,
             "#fdca26"
            ],
            [
             1,
             "#f0f921"
            ]
           ],
           "sequentialminus": [
            [
             0,
             "#0d0887"
            ],
            [
             0.1111111111111111,
             "#46039f"
            ],
            [
             0.2222222222222222,
             "#7201a8"
            ],
            [
             0.3333333333333333,
             "#9c179e"
            ],
            [
             0.4444444444444444,
             "#bd3786"
            ],
            [
             0.5555555555555556,
             "#d8576b"
            ],
            [
             0.6666666666666666,
             "#ed7953"
            ],
            [
             0.7777777777777778,
             "#fb9f3a"
            ],
            [
             0.8888888888888888,
             "#fdca26"
            ],
            [
             1,
             "#f0f921"
            ]
           ]
          },
          "colorway": [
           "#636efa",
           "#EF553B",
           "#00cc96",
           "#ab63fa",
           "#FFA15A",
           "#19d3f3",
           "#FF6692",
           "#B6E880",
           "#FF97FF",
           "#FECB52"
          ],
          "font": {
           "color": "#2a3f5f"
          },
          "geo": {
           "bgcolor": "white",
           "lakecolor": "white",
           "landcolor": "#E5ECF6",
           "showlakes": true,
           "showland": true,
           "subunitcolor": "white"
          },
          "hoverlabel": {
           "align": "left"
          },
          "hovermode": "closest",
          "mapbox": {
           "style": "light"
          },
          "paper_bgcolor": "white",
          "plot_bgcolor": "#E5ECF6",
          "polar": {
           "angularaxis": {
            "gridcolor": "white",
            "linecolor": "white",
            "ticks": ""
           },
           "bgcolor": "#E5ECF6",
           "radialaxis": {
            "gridcolor": "white",
            "linecolor": "white",
            "ticks": ""
           }
          },
          "scene": {
           "xaxis": {
            "backgroundcolor": "#E5ECF6",
            "gridcolor": "white",
            "gridwidth": 2,
            "linecolor": "white",
            "showbackground": true,
            "ticks": "",
            "zerolinecolor": "white"
           },
           "yaxis": {
            "backgroundcolor": "#E5ECF6",
            "gridcolor": "white",
            "gridwidth": 2,
            "linecolor": "white",
            "showbackground": true,
            "ticks": "",
            "zerolinecolor": "white"
           },
           "zaxis": {
            "backgroundcolor": "#E5ECF6",
            "gridcolor": "white",
            "gridwidth": 2,
            "linecolor": "white",
            "showbackground": true,
            "ticks": "",
            "zerolinecolor": "white"
           }
          },
          "shapedefaults": {
           "line": {
            "color": "#2a3f5f"
           }
          },
          "ternary": {
           "aaxis": {
            "gridcolor": "white",
            "linecolor": "white",
            "ticks": ""
           },
           "baxis": {
            "gridcolor": "white",
            "linecolor": "white",
            "ticks": ""
           },
           "bgcolor": "#E5ECF6",
           "caxis": {
            "gridcolor": "white",
            "linecolor": "white",
            "ticks": ""
           }
          },
          "title": {
           "x": 0.05
          },
          "xaxis": {
           "automargin": true,
           "gridcolor": "white",
           "linecolor": "white",
           "ticks": "",
           "title": {
            "standoff": 15
           },
           "zerolinecolor": "white",
           "zerolinewidth": 2
          },
          "yaxis": {
           "automargin": true,
           "gridcolor": "white",
           "linecolor": "white",
           "ticks": "",
           "title": {
            "standoff": 15
           },
           "zerolinecolor": "white",
           "zerolinewidth": 2
          }
         }
        },
        "xaxis": {
         "anchor": "y",
         "domain": [
          0,
          1
         ],
         "title": {
          "text": "x"
         }
        },
        "yaxis": {
         "anchor": "x",
         "domain": [
          0,
          1
         ],
         "title": {
          "text": "y"
         }
        }
       }
      },
      "text/html": [
       "<div>                            <div id=\"9dec0fa3-8d11-4351-8b0f-ec7e3fa5b6e8\" class=\"plotly-graph-div\" style=\"height:525px; width:100%;\"></div>            <script type=\"text/javascript\">                require([\"plotly\"], function(Plotly) {                    window.PLOTLYENV=window.PLOTLYENV || {};                                    if (document.getElementById(\"9dec0fa3-8d11-4351-8b0f-ec7e3fa5b6e8\")) {                    Plotly.newPlot(                        \"9dec0fa3-8d11-4351-8b0f-ec7e3fa5b6e8\",                        [{\"hovertemplate\":\"x=%{x}<br>y=%{y}<extra></extra>\",\"legendgroup\":\"\",\"line\":{\"color\":\"#636efa\",\"dash\":\"solid\"},\"marker\":{\"symbol\":\"circle\"},\"mode\":\"lines\",\"name\":\"\",\"orientation\":\"v\",\"showlegend\":false,\"x\":[0.1,0.10101010101010102,0.10202020202020202,0.10303030303030304,0.10404040404040404,0.10505050505050506,0.10606060606060606,0.10707070707070708,0.10808080808080808,0.1090909090909091,0.1101010101010101,0.11111111111111112,0.11212121212121212,0.11313131313131314,0.11414141414141415,0.11515151515151516,0.11616161616161616,0.11717171717171718,0.1181818181818182,0.1191919191919192,0.1202020202020202,0.12121212121212122,0.12222222222222223,0.12323232323232323,0.12424242424242425,0.12525252525252525,0.12626262626262627,0.1272727272727273,0.12828282828282828,0.1292929292929293,0.1303030303030303,0.13131313131313133,0.13232323232323234,0.13333333333333333,0.13434343434343435,0.13535353535353536,0.13636363636363635,0.13737373737373737,0.1383838383838384,0.1393939393939394,0.14040404040404042,0.14141414141414144,0.14242424242424243,0.14343434343434344,0.14444444444444446,0.14545454545454545,0.14646464646464646,0.14747474747474748,0.1484848484848485,0.14949494949494951,0.1505050505050505,0.15151515151515152,0.15252525252525254,0.15353535353535352,0.15454545454545454,0.15555555555555556,0.15656565656565657,0.1575757575757576,0.1585858585858586,0.1595959595959596,0.1606060606060606,0.16161616161616163,0.16262626262626262,0.16363636363636364,0.16464646464646465,0.16565656565656567,0.16666666666666669,0.1676767676767677,0.1686868686868687,0.1696969696969697,0.1707070707070707,0.1717171717171717,0.17272727272727273,0.17373737373737375,0.17474747474747476,0.17575757575757578,0.17676767676767677,0.17777777777777778,0.17878787878787877,0.1797979797979798,0.1808080808080808,0.18181818181818182,0.18282828282828284,0.18383838383838386,0.18484848484848487,0.18585858585858586,0.18686868686868688,0.18787878787878787,0.18888888888888888,0.1898989898989899,0.19090909090909092,0.19191919191919193,0.19292929292929295,0.19393939393939394,0.19494949494949496,0.19595959595959594,0.19696969696969696,0.19797979797979798,0.198989898989899,0.2],\"xaxis\":\"x\",\"y\":[1.157217213114754,1.1432579897333994,1.1294634459347572,1.1160683060109289,1.1031471684053653,1.090654247391952,1.078470566318927,1.0668091571452225,1.0555076585527405,1.0443472429210134,1.0331868272892861,1.0220264116575593,1.0109139344262295,0.9999016393442622,0.9888893442622949,0.9778770491803278,0.9669479632389468,0.9565744328531214,0.9465555141579731,0.9369427885411492,0.927434384831926,0.9180104321907601,0.9092026411657558,0.9005556383507203,0.8921851713859911,0.8840602748799471,0.8762963652922668,0.8685819672131146,0.8609771071369433,0.8535838715019042,0.8462932190760059,0.8396924159629077,0.8333600347739691,0.8271311475409836,0.8209073108130485,0.8147709057791025,0.8087909836065574,0.8031377711541646,0.7977234227521112,0.7924935419771485,0.7881639758238117,0.7842465640006624,0.7812624192747143,0.7789043715846994,0.7766898907103824,0.7746840536512667,0.7729427471435669,0.7717921013412816,0.7710117983109788,0.7706171551581389,0.7710690925649941,0.7718343268753105,0.772730129160457,0.7741940718662029,0.7762149776453056,0.7785054644808743,0.7813005050505051,0.7844913065076999,0.7880397002815035,0.7918361483689351,0.7960016145057128,0.8004851796655075,0.805117610531545,0.8101870342771981,0.8155267014406359,0.820949826130154,0.826454918032787,0.8323228183474086,0.838327330683888,0.8444058618976653,0.8509598029475077,0.8576879450240107,0.864761177347243,0.8720856102003643,0.879599892366286,0.8872804272230504,0.8952622536843847,0.9033260473588344,0.911625558867362,0.9199780592813379,0.9285832505381685,0.9374292101341283,0.9465843268753105,0.955739443616493,0.96519088425236,0.975147706573936,0.9856335899983442,0.9963723298559364,1.0073428961748634,1.0183929458519623,1.029469821162444,1.0406743666169895,1.0521377297565824,1.064025832091406,1.076066774300381,1.0888152839874148,1.101880899155489,1.115451233647955,1.1296575178009605,1.1442704918032787],\"yaxis\":\"y\",\"type\":\"scatter\"}],                        {\"template\":{\"data\":{\"histogram2dcontour\":[{\"type\":\"histogram2dcontour\",\"colorbar\":{\"outlinewidth\":0,\"ticks\":\"\"},\"colorscale\":[[0.0,\"#0d0887\"],[0.1111111111111111,\"#46039f\"],[0.2222222222222222,\"#7201a8\"],[0.3333333333333333,\"#9c179e\"],[0.4444444444444444,\"#bd3786\"],[0.5555555555555556,\"#d8576b\"],[0.6666666666666666,\"#ed7953\"],[0.7777777777777778,\"#fb9f3a\"],[0.8888888888888888,\"#fdca26\"],[1.0,\"#f0f921\"]]}],\"choropleth\":[{\"type\":\"choropleth\",\"colorbar\":{\"outlinewidth\":0,\"ticks\":\"\"}}],\"histogram2d\":[{\"type\":\"histogram2d\",\"colorbar\":{\"outlinewidth\":0,\"ticks\":\"\"},\"colorscale\":[[0.0,\"#0d0887\"],[0.1111111111111111,\"#46039f\"],[0.2222222222222222,\"#7201a8\"],[0.3333333333333333,\"#9c179e\"],[0.4444444444444444,\"#bd3786\"],[0.5555555555555556,\"#d8576b\"],[0.6666666666666666,\"#ed7953\"],[0.7777777777777778,\"#fb9f3a\"],[0.8888888888888888,\"#fdca26\"],[1.0,\"#f0f921\"]]}],\"heatmap\":[{\"type\":\"heatmap\",\"colorbar\":{\"outlinewidth\":0,\"ticks\":\"\"},\"colorscale\":[[0.0,\"#0d0887\"],[0.1111111111111111,\"#46039f\"],[0.2222222222222222,\"#7201a8\"],[0.3333333333333333,\"#9c179e\"],[0.4444444444444444,\"#bd3786\"],[0.5555555555555556,\"#d8576b\"],[0.6666666666666666,\"#ed7953\"],[0.7777777777777778,\"#fb9f3a\"],[0.8888888888888888,\"#fdca26\"],[1.0,\"#f0f921\"]]}],\"heatmapgl\":[{\"type\":\"heatmapgl\",\"colorbar\":{\"outlinewidth\":0,\"ticks\":\"\"},\"colorscale\":[[0.0,\"#0d0887\"],[0.1111111111111111,\"#46039f\"],[0.2222222222222222,\"#7201a8\"],[0.3333333333333333,\"#9c179e\"],[0.4444444444444444,\"#bd3786\"],[0.5555555555555556,\"#d8576b\"],[0.6666666666666666,\"#ed7953\"],[0.7777777777777778,\"#fb9f3a\"],[0.8888888888888888,\"#fdca26\"],[1.0,\"#f0f921\"]]}],\"contourcarpet\":[{\"type\":\"contourcarpet\",\"colorbar\":{\"outlinewidth\":0,\"ticks\":\"\"}}],\"contour\":[{\"type\":\"contour\",\"colorbar\":{\"outlinewidth\":0,\"ticks\":\"\"},\"colorscale\":[[0.0,\"#0d0887\"],[0.1111111111111111,\"#46039f\"],[0.2222222222222222,\"#7201a8\"],[0.3333333333333333,\"#9c179e\"],[0.4444444444444444,\"#bd3786\"],[0.5555555555555556,\"#d8576b\"],[0.6666666666666666,\"#ed7953\"],[0.7777777777777778,\"#fb9f3a\"],[0.8888888888888888,\"#fdca26\"],[1.0,\"#f0f921\"]]}],\"surface\":[{\"type\":\"surface\",\"colorbar\":{\"outlinewidth\":0,\"ticks\":\"\"},\"colorscale\":[[0.0,\"#0d0887\"],[0.1111111111111111,\"#46039f\"],[0.2222222222222222,\"#7201a8\"],[0.3333333333333333,\"#9c179e\"],[0.4444444444444444,\"#bd3786\"],[0.5555555555555556,\"#d8576b\"],[0.6666666666666666,\"#ed7953\"],[0.7777777777777778,\"#fb9f3a\"],[0.8888888888888888,\"#fdca26\"],[1.0,\"#f0f921\"]]}],\"mesh3d\":[{\"type\":\"mesh3d\",\"colorbar\":{\"outlinewidth\":0,\"ticks\":\"\"}}],\"scatter\":[{\"fillpattern\":{\"fillmode\":\"overlay\",\"size\":10,\"solidity\":0.2},\"type\":\"scatter\"}],\"parcoords\":[{\"type\":\"parcoords\",\"line\":{\"colorbar\":{\"outlinewidth\":0,\"ticks\":\"\"}}}],\"scatterpolargl\":[{\"type\":\"scatterpolargl\",\"marker\":{\"colorbar\":{\"outlinewidth\":0,\"ticks\":\"\"}}}],\"bar\":[{\"error_x\":{\"color\":\"#2a3f5f\"},\"error_y\":{\"color\":\"#2a3f5f\"},\"marker\":{\"line\":{\"color\":\"#E5ECF6\",\"width\":0.5},\"pattern\":{\"fillmode\":\"overlay\",\"size\":10,\"solidity\":0.2}},\"type\":\"bar\"}],\"scattergeo\":[{\"type\":\"scattergeo\",\"marker\":{\"colorbar\":{\"outlinewidth\":0,\"ticks\":\"\"}}}],\"scatterpolar\":[{\"type\":\"scatterpolar\",\"marker\":{\"colorbar\":{\"outlinewidth\":0,\"ticks\":\"\"}}}],\"histogram\":[{\"marker\":{\"pattern\":{\"fillmode\":\"overlay\",\"size\":10,\"solidity\":0.2}},\"type\":\"histogram\"}],\"scattergl\":[{\"type\":\"scattergl\",\"marker\":{\"colorbar\":{\"outlinewidth\":0,\"ticks\":\"\"}}}],\"scatter3d\":[{\"type\":\"scatter3d\",\"line\":{\"colorbar\":{\"outlinewidth\":0,\"ticks\":\"\"}},\"marker\":{\"colorbar\":{\"outlinewidth\":0,\"ticks\":\"\"}}}],\"scattermapbox\":[{\"type\":\"scattermapbox\",\"marker\":{\"colorbar\":{\"outlinewidth\":0,\"ticks\":\"\"}}}],\"scatterternary\":[{\"type\":\"scatterternary\",\"marker\":{\"colorbar\":{\"outlinewidth\":0,\"ticks\":\"\"}}}],\"scattercarpet\":[{\"type\":\"scattercarpet\",\"marker\":{\"colorbar\":{\"outlinewidth\":0,\"ticks\":\"\"}}}],\"carpet\":[{\"aaxis\":{\"endlinecolor\":\"#2a3f5f\",\"gridcolor\":\"white\",\"linecolor\":\"white\",\"minorgridcolor\":\"white\",\"startlinecolor\":\"#2a3f5f\"},\"baxis\":{\"endlinecolor\":\"#2a3f5f\",\"gridcolor\":\"white\",\"linecolor\":\"white\",\"minorgridcolor\":\"white\",\"startlinecolor\":\"#2a3f5f\"},\"type\":\"carpet\"}],\"table\":[{\"cells\":{\"fill\":{\"color\":\"#EBF0F8\"},\"line\":{\"color\":\"white\"}},\"header\":{\"fill\":{\"color\":\"#C8D4E3\"},\"line\":{\"color\":\"white\"}},\"type\":\"table\"}],\"barpolar\":[{\"marker\":{\"line\":{\"color\":\"#E5ECF6\",\"width\":0.5},\"pattern\":{\"fillmode\":\"overlay\",\"size\":10,\"solidity\":0.2}},\"type\":\"barpolar\"}],\"pie\":[{\"automargin\":true,\"type\":\"pie\"}]},\"layout\":{\"autotypenumbers\":\"strict\",\"colorway\":[\"#636efa\",\"#EF553B\",\"#00cc96\",\"#ab63fa\",\"#FFA15A\",\"#19d3f3\",\"#FF6692\",\"#B6E880\",\"#FF97FF\",\"#FECB52\"],\"font\":{\"color\":\"#2a3f5f\"},\"hovermode\":\"closest\",\"hoverlabel\":{\"align\":\"left\"},\"paper_bgcolor\":\"white\",\"plot_bgcolor\":\"#E5ECF6\",\"polar\":{\"bgcolor\":\"#E5ECF6\",\"angularaxis\":{\"gridcolor\":\"white\",\"linecolor\":\"white\",\"ticks\":\"\"},\"radialaxis\":{\"gridcolor\":\"white\",\"linecolor\":\"white\",\"ticks\":\"\"}},\"ternary\":{\"bgcolor\":\"#E5ECF6\",\"aaxis\":{\"gridcolor\":\"white\",\"linecolor\":\"white\",\"ticks\":\"\"},\"baxis\":{\"gridcolor\":\"white\",\"linecolor\":\"white\",\"ticks\":\"\"},\"caxis\":{\"gridcolor\":\"white\",\"linecolor\":\"white\",\"ticks\":\"\"}},\"coloraxis\":{\"colorbar\":{\"outlinewidth\":0,\"ticks\":\"\"}},\"colorscale\":{\"sequential\":[[0.0,\"#0d0887\"],[0.1111111111111111,\"#46039f\"],[0.2222222222222222,\"#7201a8\"],[0.3333333333333333,\"#9c179e\"],[0.4444444444444444,\"#bd3786\"],[0.5555555555555556,\"#d8576b\"],[0.6666666666666666,\"#ed7953\"],[0.7777777777777778,\"#fb9f3a\"],[0.8888888888888888,\"#fdca26\"],[1.0,\"#f0f921\"]],\"sequentialminus\":[[0.0,\"#0d0887\"],[0.1111111111111111,\"#46039f\"],[0.2222222222222222,\"#7201a8\"],[0.3333333333333333,\"#9c179e\"],[0.4444444444444444,\"#bd3786\"],[0.5555555555555556,\"#d8576b\"],[0.6666666666666666,\"#ed7953\"],[0.7777777777777778,\"#fb9f3a\"],[0.8888888888888888,\"#fdca26\"],[1.0,\"#f0f921\"]],\"diverging\":[[0,\"#8e0152\"],[0.1,\"#c51b7d\"],[0.2,\"#de77ae\"],[0.3,\"#f1b6da\"],[0.4,\"#fde0ef\"],[0.5,\"#f7f7f7\"],[0.6,\"#e6f5d0\"],[0.7,\"#b8e186\"],[0.8,\"#7fbc41\"],[0.9,\"#4d9221\"],[1,\"#276419\"]]},\"xaxis\":{\"gridcolor\":\"white\",\"linecolor\":\"white\",\"ticks\":\"\",\"title\":{\"standoff\":15},\"zerolinecolor\":\"white\",\"automargin\":true,\"zerolinewidth\":2},\"yaxis\":{\"gridcolor\":\"white\",\"linecolor\":\"white\",\"ticks\":\"\",\"title\":{\"standoff\":15},\"zerolinecolor\":\"white\",\"automargin\":true,\"zerolinewidth\":2},\"scene\":{\"xaxis\":{\"backgroundcolor\":\"#E5ECF6\",\"gridcolor\":\"white\",\"linecolor\":\"white\",\"showbackground\":true,\"ticks\":\"\",\"zerolinecolor\":\"white\",\"gridwidth\":2},\"yaxis\":{\"backgroundcolor\":\"#E5ECF6\",\"gridcolor\":\"white\",\"linecolor\":\"white\",\"showbackground\":true,\"ticks\":\"\",\"zerolinecolor\":\"white\",\"gridwidth\":2},\"zaxis\":{\"backgroundcolor\":\"#E5ECF6\",\"gridcolor\":\"white\",\"linecolor\":\"white\",\"showbackground\":true,\"ticks\":\"\",\"zerolinecolor\":\"white\",\"gridwidth\":2}},\"shapedefaults\":{\"line\":{\"color\":\"#2a3f5f\"}},\"annotationdefaults\":{\"arrowcolor\":\"#2a3f5f\",\"arrowhead\":0,\"arrowwidth\":1},\"geo\":{\"bgcolor\":\"white\",\"landcolor\":\"#E5ECF6\",\"subunitcolor\":\"white\",\"showland\":true,\"showlakes\":true,\"lakecolor\":\"white\"},\"title\":{\"x\":0.05},\"mapbox\":{\"style\":\"light\"}}},\"xaxis\":{\"anchor\":\"y\",\"domain\":[0.0,1.0],\"title\":{\"text\":\"x\"}},\"yaxis\":{\"anchor\":\"x\",\"domain\":[0.0,1.0],\"title\":{\"text\":\"y\"}},\"legend\":{\"tracegroupgap\":0},\"margin\":{\"t\":60}},                        {\"responsive\": true}                    ).then(function(){\n",
       "                            \n",
       "var gd = document.getElementById('9dec0fa3-8d11-4351-8b0f-ec7e3fa5b6e8');\n",
       "var x = new MutationObserver(function (mutations, observer) {{\n",
       "        var display = window.getComputedStyle(gd).display;\n",
       "        if (!display || display === 'none') {{\n",
       "            console.log([gd, 'removed!']);\n",
       "            Plotly.purge(gd);\n",
       "            observer.disconnect();\n",
       "        }}\n",
       "}});\n",
       "\n",
       "// Listen for the removal of the full notebook cells\n",
       "var notebookContainer = gd.closest('#notebook-container');\n",
       "if (notebookContainer) {{\n",
       "    x.observe(notebookContainer, {childList: true});\n",
       "}}\n",
       "\n",
       "// Listen for the clearing of the current output cell\n",
       "var outputEl = gd.closest('.output');\n",
       "if (outputEl) {{\n",
       "    x.observe(outputEl, {childList: true});\n",
       "}}\n",
       "\n",
       "                        })                };                });            </script>        </div>"
      ]
     },
     "metadata": {},
     "output_type": "display_data"
    }
   ],
   "source": [
    "px.line(x = thetas, y = hubers)\n",
    "px.line(x = thetas, y = mses)\n",
    "px.line(x = thetas, y = maes)"
   ]
  },
  {
   "cell_type": "code",
   "execution_count": 73,
   "metadata": {},
   "outputs": [
    {
     "data": {
      "application/vnd.plotly.v1+json": {
       "config": {
        "plotlyServerURL": "https://plot.ly"
       },
       "data": [
        {
         "mode": "lines",
         "name": "Huber",
         "type": "scatter",
         "x": [
          0.1,
          0.10101010101010102,
          0.10202020202020202,
          0.10303030303030304,
          0.10404040404040404,
          0.10505050505050506,
          0.10606060606060606,
          0.10707070707070708,
          0.10808080808080808,
          0.1090909090909091,
          0.1101010101010101,
          0.11111111111111112,
          0.11212121212121212,
          0.11313131313131314,
          0.11414141414141415,
          0.11515151515151516,
          0.11616161616161616,
          0.11717171717171718,
          0.1181818181818182,
          0.1191919191919192,
          0.1202020202020202,
          0.12121212121212122,
          0.12222222222222223,
          0.12323232323232323,
          0.12424242424242425,
          0.12525252525252525,
          0.12626262626262627,
          0.1272727272727273,
          0.12828282828282828,
          0.1292929292929293,
          0.1303030303030303,
          0.13131313131313133,
          0.13232323232323234,
          0.13333333333333333,
          0.13434343434343435,
          0.13535353535353536,
          0.13636363636363635,
          0.13737373737373737,
          0.1383838383838384,
          0.1393939393939394,
          0.14040404040404042,
          0.14141414141414144,
          0.14242424242424243,
          0.14343434343434344,
          0.14444444444444446,
          0.14545454545454545,
          0.14646464646464646,
          0.14747474747474748,
          0.1484848484848485,
          0.14949494949494951,
          0.1505050505050505,
          0.15151515151515152,
          0.15252525252525254,
          0.15353535353535352,
          0.15454545454545454,
          0.15555555555555556,
          0.15656565656565657,
          0.1575757575757576,
          0.1585858585858586,
          0.1595959595959596,
          0.1606060606060606,
          0.16161616161616163,
          0.16262626262626262,
          0.16363636363636364,
          0.16464646464646465,
          0.16565656565656567,
          0.16666666666666669,
          0.1676767676767677,
          0.1686868686868687,
          0.1696969696969697,
          0.1707070707070707,
          0.1717171717171717,
          0.17272727272727273,
          0.17373737373737375,
          0.17474747474747476,
          0.17575757575757578,
          0.17676767676767677,
          0.17777777777777778,
          0.17878787878787877,
          0.1797979797979798,
          0.1808080808080808,
          0.18181818181818182,
          0.18282828282828284,
          0.18383838383838386,
          0.18484848484848487,
          0.18585858585858586,
          0.18686868686868688,
          0.18787878787878787,
          0.18888888888888888,
          0.1898989898989899,
          0.19090909090909092,
          0.19191919191919193,
          0.19292929292929295,
          0.19393939393939394,
          0.19494949494949496,
          0.19595959595959594,
          0.19696969696969696,
          0.19797979797979798,
          0.198989898989899,
          0.2
         ],
         "y": [
          0.8766459200819671,
          0.8612850098308802,
          0.8462394218992793,
          0.8315092854551476,
          0.8170959348433415,
          0.8030004084486193,
          0.7892250578625299,
          0.7757760526359806,
          0.7626598171431151,
          0.7498829042812626,
          0.7374534777676165,
          0.7253695633475005,
          0.7136257578203796,
          0.7022253420059176,
          0.6911704938942745,
          0.6804598762739166,
          0.6700921639342171,
          0.660063274425828,
          0.6503679823025333,
          0.6410054627204316,
          0.6319735486381868,
          0.6232742778003582,
          0.6149079804948392,
          0.6068785812697266,
          0.5991884720039441,
          0.5918394408022936,
          0.5848311216884025,
          0.5781640711963149,
          0.5718402281046514,
          0.5658598254544117,
          0.5602231586505894,
          0.5549322043083593,
          0.5499869765614415,
          0.5453874754098361,
          0.5411340779581291,
          0.5372274402879599,
          0.5336638472090502,
          0.5304444072869781,
          0.5275703590738483,
          0.5250435280976682,
          0.5228685279258055,
          0.5210427410593768,
          0.5195665184539131,
          0.5184394426622576,
          0.5176576574074074,
          0.517219085489771,
          0.5171179206266172,
          0.517346949926488,
          0.5179025302352889,
          0.5187842142922853,
          0.5199901929518316,
          0.5215161951105691,
          0.5233596800349497,
          0.5255231259582076,
          0.5280058047351307,
          0.5308102668488159,
          0.5339370597273029,
          0.5373860085805898,
          0.5411551588105347,
          0.5452401682473016,
          0.5496399448057324,
          0.5543520614323397,
          0.5593748221593313,
          0.5647079653163527,
          0.5703518495438321,
          0.5763064823102695,
          0.5825718636156649,
          0.5891487852234886,
          0.5960451958837423,
          0.6032629841183821,
          0.6108015048683975,
          0.6186543033832279,
          0.6268172017341823,
          0.6352831782245373,
          0.6440488513542447,
          0.6531141778364873,
          0.6624802076747354,
          0.6721484244080146,
          0.6821210372992216,
          0.6924001956633731,
          0.7029855340785733,
          0.7138757400758705,
          0.7250705704783388,
          0.7365689379387517,
          0.7483682356971356,
          0.7604620029714265,
          0.7728486179532117,
          0.7855280806424902,
          0.7985003910392631,
          0.8117645844744849,
          0.8253176397507114,
          0.8391570048890965,
          0.8532740520162717,
          0.8676638323247375,
          0.882325583074494,
          0.8972592372859242,
          0.9124638363421846,
          0.9279389932501033,
          0.9436821184679633,
          0.9596880409836066
         ]
        },
        {
         "mode": "lines",
         "name": "MSE",
         "type": "scatter",
         "x": [
          0.1,
          0.10101010101010102,
          0.10202020202020202,
          0.10303030303030304,
          0.10404040404040404,
          0.10505050505050506,
          0.10606060606060606,
          0.10707070707070708,
          0.10808080808080808,
          0.1090909090909091,
          0.1101010101010101,
          0.11111111111111112,
          0.11212121212121212,
          0.11313131313131314,
          0.11414141414141415,
          0.11515151515151516,
          0.11616161616161616,
          0.11717171717171718,
          0.1181818181818182,
          0.1191919191919192,
          0.1202020202020202,
          0.12121212121212122,
          0.12222222222222223,
          0.12323232323232323,
          0.12424242424242425,
          0.12525252525252525,
          0.12626262626262627,
          0.1272727272727273,
          0.12828282828282828,
          0.1292929292929293,
          0.1303030303030303,
          0.13131313131313133,
          0.13232323232323234,
          0.13333333333333333,
          0.13434343434343435,
          0.13535353535353536,
          0.13636363636363635,
          0.13737373737373737,
          0.1383838383838384,
          0.1393939393939394,
          0.14040404040404042,
          0.14141414141414144,
          0.14242424242424243,
          0.14343434343434344,
          0.14444444444444446,
          0.14545454545454545,
          0.14646464646464646,
          0.14747474747474748,
          0.1484848484848485,
          0.14949494949494951,
          0.1505050505050505,
          0.15151515151515152,
          0.15252525252525254,
          0.15353535353535352,
          0.15454545454545454,
          0.15555555555555556,
          0.15656565656565657,
          0.1575757575757576,
          0.1585858585858586,
          0.1595959595959596,
          0.1606060606060606,
          0.16161616161616163,
          0.16262626262626262,
          0.16363636363636364,
          0.16464646464646465,
          0.16565656565656567,
          0.16666666666666669,
          0.1676767676767677,
          0.1686868686868687,
          0.1696969696969697,
          0.1707070707070707,
          0.1717171717171717,
          0.17272727272727273,
          0.17373737373737375,
          0.17474747474747476,
          0.17575757575757578,
          0.17676767676767677,
          0.17777777777777778,
          0.17878787878787877,
          0.1797979797979798,
          0.1808080808080808,
          0.18181818181818182,
          0.18282828282828284,
          0.18383838383838386,
          0.18484848484848487,
          0.18585858585858586,
          0.18686868686868688,
          0.18787878787878787,
          0.18888888888888888,
          0.1898989898989899,
          0.19090909090909092,
          0.19191919191919193,
          0.19292929292929295,
          0.19393939393939394,
          0.19494949494949496,
          0.19595959595959594,
          0.19696969696969696,
          0.19797979797979798,
          0.198989898989899,
          0.2
         ],
         "y": [
          2.0777683729508194,
          2.0366887534058913,
          1.996569059699077,
          1.9574092918303747,
          1.919209449799786,
          1.8819695336073097,
          1.8456895432529465,
          1.8103694787366964,
          1.7760093400585586,
          1.7426091272185338,
          1.7101688402166224,
          1.678688479052823,
          1.6481680437271375,
          1.6186075342395636,
          1.5900069505901033,
          1.5623662927787565,
          1.5356855608055218,
          1.5099647546704,
          1.4852038743733909,
          1.461402919914495,
          1.4385618912937121,
          1.4166807885110417,
          1.3957596115664843,
          1.37579836046004,
          1.3567970351917082,
          1.3387556357614898,
          1.3216741621693837,
          1.3055526144153906,
          1.2903909924995107,
          1.2761892964217436,
          1.262947526182089,
          1.2506656817805475,
          1.2393437632171185,
          1.2289817704918033,
          1.2195797036046003,
          1.2111375625555103,
          1.2036553473445333,
          1.197133057971669,
          1.1915706944369175,
          1.1869682567402793,
          1.1833257448817533,
          1.1806431588613406,
          1.1789204986790405,
          1.1781577643348538,
          1.1783549558287796,
          1.1795120731608182,
          1.18162911633097,
          1.1847060853392344,
          1.1887429801856118,
          1.193739800870102,
          1.1996965473927048,
          1.206613219753421,
          1.21448981795225,
          1.2233263419891915,
          1.233122791864246,
          1.2438791675774135,
          1.255595469128694,
          1.2682716965180871,
          1.2819078497455934,
          1.2965039288112117,
          1.312059933714944,
          1.3285758644567889,
          1.3460517210367458,
          1.3644875034548163,
          1.3838832117109996,
          1.4042388458052961,
          1.4255544057377052,
          1.4478298915082273,
          1.471065303116862,
          1.4952606405636095,
          1.5204159038484695,
          1.5465310929714433,
          1.5736062079325297,
          1.6016412487317289,
          1.630636215369041,
          1.6605911078444662,
          1.6915059261580032,
          1.7233806703096541,
          1.7562153402994167,
          1.7900099361272936,
          1.824764457793283,
          1.8604789052973851,
          1.8971532786396006,
          1.9347875778199284,
          1.97338180283837,
          2.0129359536949227,
          2.053450030389589,
          2.0949240329223673,
          2.13735796129326,
          2.1807518155022656,
          2.225105595549384,
          2.270419301434615,
          2.316692933157959,
          2.3639264907194146,
          2.4121199741189843,
          2.461273383356666,
          2.5113867184324614,
          2.56245997934637,
          2.614493166098391,
          2.667486278688525
         ]
        },
        {
         "mode": "lines",
         "name": "MAE",
         "type": "scatter",
         "x": [
          0.1,
          0.10101010101010102,
          0.10202020202020202,
          0.10303030303030304,
          0.10404040404040404,
          0.10505050505050506,
          0.10606060606060606,
          0.10707070707070708,
          0.10808080808080808,
          0.1090909090909091,
          0.1101010101010101,
          0.11111111111111112,
          0.11212121212121212,
          0.11313131313131314,
          0.11414141414141415,
          0.11515151515151516,
          0.11616161616161616,
          0.11717171717171718,
          0.1181818181818182,
          0.1191919191919192,
          0.1202020202020202,
          0.12121212121212122,
          0.12222222222222223,
          0.12323232323232323,
          0.12424242424242425,
          0.12525252525252525,
          0.12626262626262627,
          0.1272727272727273,
          0.12828282828282828,
          0.1292929292929293,
          0.1303030303030303,
          0.13131313131313133,
          0.13232323232323234,
          0.13333333333333333,
          0.13434343434343435,
          0.13535353535353536,
          0.13636363636363635,
          0.13737373737373737,
          0.1383838383838384,
          0.1393939393939394,
          0.14040404040404042,
          0.14141414141414144,
          0.14242424242424243,
          0.14343434343434344,
          0.14444444444444446,
          0.14545454545454545,
          0.14646464646464646,
          0.14747474747474748,
          0.1484848484848485,
          0.14949494949494951,
          0.1505050505050505,
          0.15151515151515152,
          0.15252525252525254,
          0.15353535353535352,
          0.15454545454545454,
          0.15555555555555556,
          0.15656565656565657,
          0.1575757575757576,
          0.1585858585858586,
          0.1595959595959596,
          0.1606060606060606,
          0.16161616161616163,
          0.16262626262626262,
          0.16363636363636364,
          0.16464646464646465,
          0.16565656565656567,
          0.16666666666666669,
          0.1676767676767677,
          0.1686868686868687,
          0.1696969696969697,
          0.1707070707070707,
          0.1717171717171717,
          0.17272727272727273,
          0.17373737373737375,
          0.17474747474747476,
          0.17575757575757578,
          0.17676767676767677,
          0.17777777777777778,
          0.17878787878787877,
          0.1797979797979798,
          0.1808080808080808,
          0.18181818181818182,
          0.18282828282828284,
          0.18383838383838386,
          0.18484848484848487,
          0.18585858585858586,
          0.18686868686868688,
          0.18787878787878787,
          0.18888888888888888,
          0.1898989898989899,
          0.19090909090909092,
          0.19191919191919193,
          0.19292929292929295,
          0.19393939393939394,
          0.19494949494949496,
          0.19595959595959594,
          0.19696969696969696,
          0.19797979797979798,
          0.198989898989899,
          0.2
         ],
         "y": [
          1.157217213114754,
          1.1432579897333994,
          1.1294634459347572,
          1.1160683060109289,
          1.1031471684053653,
          1.090654247391952,
          1.078470566318927,
          1.0668091571452225,
          1.0555076585527405,
          1.0443472429210134,
          1.0331868272892861,
          1.0220264116575593,
          1.0109139344262295,
          0.9999016393442622,
          0.9888893442622949,
          0.9778770491803278,
          0.9669479632389468,
          0.9565744328531214,
          0.9465555141579731,
          0.9369427885411492,
          0.927434384831926,
          0.9180104321907601,
          0.9092026411657558,
          0.9005556383507203,
          0.8921851713859911,
          0.8840602748799471,
          0.8762963652922668,
          0.8685819672131146,
          0.8609771071369433,
          0.8535838715019042,
          0.8462932190760059,
          0.8396924159629077,
          0.8333600347739691,
          0.8271311475409836,
          0.8209073108130485,
          0.8147709057791025,
          0.8087909836065574,
          0.8031377711541646,
          0.7977234227521112,
          0.7924935419771485,
          0.7881639758238117,
          0.7842465640006624,
          0.7812624192747143,
          0.7789043715846994,
          0.7766898907103824,
          0.7746840536512667,
          0.7729427471435669,
          0.7717921013412816,
          0.7710117983109788,
          0.7706171551581389,
          0.7710690925649941,
          0.7718343268753105,
          0.772730129160457,
          0.7741940718662029,
          0.7762149776453056,
          0.7785054644808743,
          0.7813005050505051,
          0.7844913065076999,
          0.7880397002815035,
          0.7918361483689351,
          0.7960016145057128,
          0.8004851796655075,
          0.805117610531545,
          0.8101870342771981,
          0.8155267014406359,
          0.820949826130154,
          0.826454918032787,
          0.8323228183474086,
          0.838327330683888,
          0.8444058618976653,
          0.8509598029475077,
          0.8576879450240107,
          0.864761177347243,
          0.8720856102003643,
          0.879599892366286,
          0.8872804272230504,
          0.8952622536843847,
          0.9033260473588344,
          0.911625558867362,
          0.9199780592813379,
          0.9285832505381685,
          0.9374292101341283,
          0.9465843268753105,
          0.955739443616493,
          0.96519088425236,
          0.975147706573936,
          0.9856335899983442,
          0.9963723298559364,
          1.0073428961748634,
          1.0183929458519623,
          1.029469821162444,
          1.0406743666169895,
          1.0521377297565824,
          1.064025832091406,
          1.076066774300381,
          1.0888152839874148,
          1.101880899155489,
          1.115451233647955,
          1.1296575178009605,
          1.1442704918032787
         ]
        }
       ],
       "layout": {
        "template": {
         "data": {
          "bar": [
           {
            "error_x": {
             "color": "#2a3f5f"
            },
            "error_y": {
             "color": "#2a3f5f"
            },
            "marker": {
             "line": {
              "color": "#E5ECF6",
              "width": 0.5
             },
             "pattern": {
              "fillmode": "overlay",
              "size": 10,
              "solidity": 0.2
             }
            },
            "type": "bar"
           }
          ],
          "barpolar": [
           {
            "marker": {
             "line": {
              "color": "#E5ECF6",
              "width": 0.5
             },
             "pattern": {
              "fillmode": "overlay",
              "size": 10,
              "solidity": 0.2
             }
            },
            "type": "barpolar"
           }
          ],
          "carpet": [
           {
            "aaxis": {
             "endlinecolor": "#2a3f5f",
             "gridcolor": "white",
             "linecolor": "white",
             "minorgridcolor": "white",
             "startlinecolor": "#2a3f5f"
            },
            "baxis": {
             "endlinecolor": "#2a3f5f",
             "gridcolor": "white",
             "linecolor": "white",
             "minorgridcolor": "white",
             "startlinecolor": "#2a3f5f"
            },
            "type": "carpet"
           }
          ],
          "choropleth": [
           {
            "colorbar": {
             "outlinewidth": 0,
             "ticks": ""
            },
            "type": "choropleth"
           }
          ],
          "contour": [
           {
            "colorbar": {
             "outlinewidth": 0,
             "ticks": ""
            },
            "colorscale": [
             [
              0,
              "#0d0887"
             ],
             [
              0.1111111111111111,
              "#46039f"
             ],
             [
              0.2222222222222222,
              "#7201a8"
             ],
             [
              0.3333333333333333,
              "#9c179e"
             ],
             [
              0.4444444444444444,
              "#bd3786"
             ],
             [
              0.5555555555555556,
              "#d8576b"
             ],
             [
              0.6666666666666666,
              "#ed7953"
             ],
             [
              0.7777777777777778,
              "#fb9f3a"
             ],
             [
              0.8888888888888888,
              "#fdca26"
             ],
             [
              1,
              "#f0f921"
             ]
            ],
            "type": "contour"
           }
          ],
          "contourcarpet": [
           {
            "colorbar": {
             "outlinewidth": 0,
             "ticks": ""
            },
            "type": "contourcarpet"
           }
          ],
          "heatmap": [
           {
            "colorbar": {
             "outlinewidth": 0,
             "ticks": ""
            },
            "colorscale": [
             [
              0,
              "#0d0887"
             ],
             [
              0.1111111111111111,
              "#46039f"
             ],
             [
              0.2222222222222222,
              "#7201a8"
             ],
             [
              0.3333333333333333,
              "#9c179e"
             ],
             [
              0.4444444444444444,
              "#bd3786"
             ],
             [
              0.5555555555555556,
              "#d8576b"
             ],
             [
              0.6666666666666666,
              "#ed7953"
             ],
             [
              0.7777777777777778,
              "#fb9f3a"
             ],
             [
              0.8888888888888888,
              "#fdca26"
             ],
             [
              1,
              "#f0f921"
             ]
            ],
            "type": "heatmap"
           }
          ],
          "heatmapgl": [
           {
            "colorbar": {
             "outlinewidth": 0,
             "ticks": ""
            },
            "colorscale": [
             [
              0,
              "#0d0887"
             ],
             [
              0.1111111111111111,
              "#46039f"
             ],
             [
              0.2222222222222222,
              "#7201a8"
             ],
             [
              0.3333333333333333,
              "#9c179e"
             ],
             [
              0.4444444444444444,
              "#bd3786"
             ],
             [
              0.5555555555555556,
              "#d8576b"
             ],
             [
              0.6666666666666666,
              "#ed7953"
             ],
             [
              0.7777777777777778,
              "#fb9f3a"
             ],
             [
              0.8888888888888888,
              "#fdca26"
             ],
             [
              1,
              "#f0f921"
             ]
            ],
            "type": "heatmapgl"
           }
          ],
          "histogram": [
           {
            "marker": {
             "pattern": {
              "fillmode": "overlay",
              "size": 10,
              "solidity": 0.2
             }
            },
            "type": "histogram"
           }
          ],
          "histogram2d": [
           {
            "colorbar": {
             "outlinewidth": 0,
             "ticks": ""
            },
            "colorscale": [
             [
              0,
              "#0d0887"
             ],
             [
              0.1111111111111111,
              "#46039f"
             ],
             [
              0.2222222222222222,
              "#7201a8"
             ],
             [
              0.3333333333333333,
              "#9c179e"
             ],
             [
              0.4444444444444444,
              "#bd3786"
             ],
             [
              0.5555555555555556,
              "#d8576b"
             ],
             [
              0.6666666666666666,
              "#ed7953"
             ],
             [
              0.7777777777777778,
              "#fb9f3a"
             ],
             [
              0.8888888888888888,
              "#fdca26"
             ],
             [
              1,
              "#f0f921"
             ]
            ],
            "type": "histogram2d"
           }
          ],
          "histogram2dcontour": [
           {
            "colorbar": {
             "outlinewidth": 0,
             "ticks": ""
            },
            "colorscale": [
             [
              0,
              "#0d0887"
             ],
             [
              0.1111111111111111,
              "#46039f"
             ],
             [
              0.2222222222222222,
              "#7201a8"
             ],
             [
              0.3333333333333333,
              "#9c179e"
             ],
             [
              0.4444444444444444,
              "#bd3786"
             ],
             [
              0.5555555555555556,
              "#d8576b"
             ],
             [
              0.6666666666666666,
              "#ed7953"
             ],
             [
              0.7777777777777778,
              "#fb9f3a"
             ],
             [
              0.8888888888888888,
              "#fdca26"
             ],
             [
              1,
              "#f0f921"
             ]
            ],
            "type": "histogram2dcontour"
           }
          ],
          "mesh3d": [
           {
            "colorbar": {
             "outlinewidth": 0,
             "ticks": ""
            },
            "type": "mesh3d"
           }
          ],
          "parcoords": [
           {
            "line": {
             "colorbar": {
              "outlinewidth": 0,
              "ticks": ""
             }
            },
            "type": "parcoords"
           }
          ],
          "pie": [
           {
            "automargin": true,
            "type": "pie"
           }
          ],
          "scatter": [
           {
            "fillpattern": {
             "fillmode": "overlay",
             "size": 10,
             "solidity": 0.2
            },
            "type": "scatter"
           }
          ],
          "scatter3d": [
           {
            "line": {
             "colorbar": {
              "outlinewidth": 0,
              "ticks": ""
             }
            },
            "marker": {
             "colorbar": {
              "outlinewidth": 0,
              "ticks": ""
             }
            },
            "type": "scatter3d"
           }
          ],
          "scattercarpet": [
           {
            "marker": {
             "colorbar": {
              "outlinewidth": 0,
              "ticks": ""
             }
            },
            "type": "scattercarpet"
           }
          ],
          "scattergeo": [
           {
            "marker": {
             "colorbar": {
              "outlinewidth": 0,
              "ticks": ""
             }
            },
            "type": "scattergeo"
           }
          ],
          "scattergl": [
           {
            "marker": {
             "colorbar": {
              "outlinewidth": 0,
              "ticks": ""
             }
            },
            "type": "scattergl"
           }
          ],
          "scattermapbox": [
           {
            "marker": {
             "colorbar": {
              "outlinewidth": 0,
              "ticks": ""
             }
            },
            "type": "scattermapbox"
           }
          ],
          "scatterpolar": [
           {
            "marker": {
             "colorbar": {
              "outlinewidth": 0,
              "ticks": ""
             }
            },
            "type": "scatterpolar"
           }
          ],
          "scatterpolargl": [
           {
            "marker": {
             "colorbar": {
              "outlinewidth": 0,
              "ticks": ""
             }
            },
            "type": "scatterpolargl"
           }
          ],
          "scatterternary": [
           {
            "marker": {
             "colorbar": {
              "outlinewidth": 0,
              "ticks": ""
             }
            },
            "type": "scatterternary"
           }
          ],
          "surface": [
           {
            "colorbar": {
             "outlinewidth": 0,
             "ticks": ""
            },
            "colorscale": [
             [
              0,
              "#0d0887"
             ],
             [
              0.1111111111111111,
              "#46039f"
             ],
             [
              0.2222222222222222,
              "#7201a8"
             ],
             [
              0.3333333333333333,
              "#9c179e"
             ],
             [
              0.4444444444444444,
              "#bd3786"
             ],
             [
              0.5555555555555556,
              "#d8576b"
             ],
             [
              0.6666666666666666,
              "#ed7953"
             ],
             [
              0.7777777777777778,
              "#fb9f3a"
             ],
             [
              0.8888888888888888,
              "#fdca26"
             ],
             [
              1,
              "#f0f921"
             ]
            ],
            "type": "surface"
           }
          ],
          "table": [
           {
            "cells": {
             "fill": {
              "color": "#EBF0F8"
             },
             "line": {
              "color": "white"
             }
            },
            "header": {
             "fill": {
              "color": "#C8D4E3"
             },
             "line": {
              "color": "white"
             }
            },
            "type": "table"
           }
          ]
         },
         "layout": {
          "annotationdefaults": {
           "arrowcolor": "#2a3f5f",
           "arrowhead": 0,
           "arrowwidth": 1
          },
          "autotypenumbers": "strict",
          "coloraxis": {
           "colorbar": {
            "outlinewidth": 0,
            "ticks": ""
           }
          },
          "colorscale": {
           "diverging": [
            [
             0,
             "#8e0152"
            ],
            [
             0.1,
             "#c51b7d"
            ],
            [
             0.2,
             "#de77ae"
            ],
            [
             0.3,
             "#f1b6da"
            ],
            [
             0.4,
             "#fde0ef"
            ],
            [
             0.5,
             "#f7f7f7"
            ],
            [
             0.6,
             "#e6f5d0"
            ],
            [
             0.7,
             "#b8e186"
            ],
            [
             0.8,
             "#7fbc41"
            ],
            [
             0.9,
             "#4d9221"
            ],
            [
             1,
             "#276419"
            ]
           ],
           "sequential": [
            [
             0,
             "#0d0887"
            ],
            [
             0.1111111111111111,
             "#46039f"
            ],
            [
             0.2222222222222222,
             "#7201a8"
            ],
            [
             0.3333333333333333,
             "#9c179e"
            ],
            [
             0.4444444444444444,
             "#bd3786"
            ],
            [
             0.5555555555555556,
             "#d8576b"
            ],
            [
             0.6666666666666666,
             "#ed7953"
            ],
            [
             0.7777777777777778,
             "#fb9f3a"
            ],
            [
             0.8888888888888888,
             "#fdca26"
            ],
            [
             1,
             "#f0f921"
            ]
           ],
           "sequentialminus": [
            [
             0,
             "#0d0887"
            ],
            [
             0.1111111111111111,
             "#46039f"
            ],
            [
             0.2222222222222222,
             "#7201a8"
            ],
            [
             0.3333333333333333,
             "#9c179e"
            ],
            [
             0.4444444444444444,
             "#bd3786"
            ],
            [
             0.5555555555555556,
             "#d8576b"
            ],
            [
             0.6666666666666666,
             "#ed7953"
            ],
            [
             0.7777777777777778,
             "#fb9f3a"
            ],
            [
             0.8888888888888888,
             "#fdca26"
            ],
            [
             1,
             "#f0f921"
            ]
           ]
          },
          "colorway": [
           "#636efa",
           "#EF553B",
           "#00cc96",
           "#ab63fa",
           "#FFA15A",
           "#19d3f3",
           "#FF6692",
           "#B6E880",
           "#FF97FF",
           "#FECB52"
          ],
          "font": {
           "color": "#2a3f5f"
          },
          "geo": {
           "bgcolor": "white",
           "lakecolor": "white",
           "landcolor": "#E5ECF6",
           "showlakes": true,
           "showland": true,
           "subunitcolor": "white"
          },
          "hoverlabel": {
           "align": "left"
          },
          "hovermode": "closest",
          "mapbox": {
           "style": "light"
          },
          "paper_bgcolor": "white",
          "plot_bgcolor": "#E5ECF6",
          "polar": {
           "angularaxis": {
            "gridcolor": "white",
            "linecolor": "white",
            "ticks": ""
           },
           "bgcolor": "#E5ECF6",
           "radialaxis": {
            "gridcolor": "white",
            "linecolor": "white",
            "ticks": ""
           }
          },
          "scene": {
           "xaxis": {
            "backgroundcolor": "#E5ECF6",
            "gridcolor": "white",
            "gridwidth": 2,
            "linecolor": "white",
            "showbackground": true,
            "ticks": "",
            "zerolinecolor": "white"
           },
           "yaxis": {
            "backgroundcolor": "#E5ECF6",
            "gridcolor": "white",
            "gridwidth": 2,
            "linecolor": "white",
            "showbackground": true,
            "ticks": "",
            "zerolinecolor": "white"
           },
           "zaxis": {
            "backgroundcolor": "#E5ECF6",
            "gridcolor": "white",
            "gridwidth": 2,
            "linecolor": "white",
            "showbackground": true,
            "ticks": "",
            "zerolinecolor": "white"
           }
          },
          "shapedefaults": {
           "line": {
            "color": "#2a3f5f"
           }
          },
          "ternary": {
           "aaxis": {
            "gridcolor": "white",
            "linecolor": "white",
            "ticks": ""
           },
           "baxis": {
            "gridcolor": "white",
            "linecolor": "white",
            "ticks": ""
           },
           "bgcolor": "#E5ECF6",
           "caxis": {
            "gridcolor": "white",
            "linecolor": "white",
            "ticks": ""
           }
          },
          "title": {
           "x": 0.05
          },
          "xaxis": {
           "automargin": true,
           "gridcolor": "white",
           "linecolor": "white",
           "ticks": "",
           "title": {
            "standoff": 15
           },
           "zerolinecolor": "white",
           "zerolinewidth": 2
          },
          "yaxis": {
           "automargin": true,
           "gridcolor": "white",
           "linecolor": "white",
           "ticks": "",
           "title": {
            "standoff": 15
           },
           "zerolinecolor": "white",
           "zerolinewidth": 2
          }
         }
        },
        "title": {
         "text": "Loss Functions"
        },
        "xaxis": {
         "title": {
          "text": "Thetas"
         }
        },
        "yaxis": {
         "title": {
          "text": "Mean Loss"
         }
        }
       }
      },
      "text/html": [
       "<div>                            <div id=\"dceb3258-797a-4665-be3f-0b1ccf9fc128\" class=\"plotly-graph-div\" style=\"height:525px; width:100%;\"></div>            <script type=\"text/javascript\">                require([\"plotly\"], function(Plotly) {                    window.PLOTLYENV=window.PLOTLYENV || {};                                    if (document.getElementById(\"dceb3258-797a-4665-be3f-0b1ccf9fc128\")) {                    Plotly.newPlot(                        \"dceb3258-797a-4665-be3f-0b1ccf9fc128\",                        [{\"mode\":\"lines\",\"name\":\"Huber\",\"x\":[0.1,0.10101010101010102,0.10202020202020202,0.10303030303030304,0.10404040404040404,0.10505050505050506,0.10606060606060606,0.10707070707070708,0.10808080808080808,0.1090909090909091,0.1101010101010101,0.11111111111111112,0.11212121212121212,0.11313131313131314,0.11414141414141415,0.11515151515151516,0.11616161616161616,0.11717171717171718,0.1181818181818182,0.1191919191919192,0.1202020202020202,0.12121212121212122,0.12222222222222223,0.12323232323232323,0.12424242424242425,0.12525252525252525,0.12626262626262627,0.1272727272727273,0.12828282828282828,0.1292929292929293,0.1303030303030303,0.13131313131313133,0.13232323232323234,0.13333333333333333,0.13434343434343435,0.13535353535353536,0.13636363636363635,0.13737373737373737,0.1383838383838384,0.1393939393939394,0.14040404040404042,0.14141414141414144,0.14242424242424243,0.14343434343434344,0.14444444444444446,0.14545454545454545,0.14646464646464646,0.14747474747474748,0.1484848484848485,0.14949494949494951,0.1505050505050505,0.15151515151515152,0.15252525252525254,0.15353535353535352,0.15454545454545454,0.15555555555555556,0.15656565656565657,0.1575757575757576,0.1585858585858586,0.1595959595959596,0.1606060606060606,0.16161616161616163,0.16262626262626262,0.16363636363636364,0.16464646464646465,0.16565656565656567,0.16666666666666669,0.1676767676767677,0.1686868686868687,0.1696969696969697,0.1707070707070707,0.1717171717171717,0.17272727272727273,0.17373737373737375,0.17474747474747476,0.17575757575757578,0.17676767676767677,0.17777777777777778,0.17878787878787877,0.1797979797979798,0.1808080808080808,0.18181818181818182,0.18282828282828284,0.18383838383838386,0.18484848484848487,0.18585858585858586,0.18686868686868688,0.18787878787878787,0.18888888888888888,0.1898989898989899,0.19090909090909092,0.19191919191919193,0.19292929292929295,0.19393939393939394,0.19494949494949496,0.19595959595959594,0.19696969696969696,0.19797979797979798,0.198989898989899,0.2],\"y\":[0.8766459200819671,0.8612850098308802,0.8462394218992793,0.8315092854551476,0.8170959348433415,0.8030004084486193,0.7892250578625299,0.7757760526359806,0.7626598171431151,0.7498829042812626,0.7374534777676165,0.7253695633475005,0.7136257578203796,0.7022253420059176,0.6911704938942745,0.6804598762739166,0.6700921639342171,0.660063274425828,0.6503679823025333,0.6410054627204316,0.6319735486381868,0.6232742778003582,0.6149079804948392,0.6068785812697266,0.5991884720039441,0.5918394408022936,0.5848311216884025,0.5781640711963149,0.5718402281046514,0.5658598254544117,0.5602231586505894,0.5549322043083593,0.5499869765614415,0.5453874754098361,0.5411340779581291,0.5372274402879599,0.5336638472090502,0.5304444072869781,0.5275703590738483,0.5250435280976682,0.5228685279258055,0.5210427410593768,0.5195665184539131,0.5184394426622576,0.5176576574074074,0.517219085489771,0.5171179206266172,0.517346949926488,0.5179025302352889,0.5187842142922853,0.5199901929518316,0.5215161951105691,0.5233596800349497,0.5255231259582076,0.5280058047351307,0.5308102668488159,0.5339370597273029,0.5373860085805898,0.5411551588105347,0.5452401682473016,0.5496399448057324,0.5543520614323397,0.5593748221593313,0.5647079653163527,0.5703518495438321,0.5763064823102695,0.5825718636156649,0.5891487852234886,0.5960451958837423,0.6032629841183821,0.6108015048683975,0.6186543033832279,0.6268172017341823,0.6352831782245373,0.6440488513542447,0.6531141778364873,0.6624802076747354,0.6721484244080146,0.6821210372992216,0.6924001956633731,0.7029855340785733,0.7138757400758705,0.7250705704783388,0.7365689379387517,0.7483682356971356,0.7604620029714265,0.7728486179532117,0.7855280806424902,0.7985003910392631,0.8117645844744849,0.8253176397507114,0.8391570048890965,0.8532740520162717,0.8676638323247375,0.882325583074494,0.8972592372859242,0.9124638363421846,0.9279389932501033,0.9436821184679633,0.9596880409836066],\"type\":\"scatter\"},{\"mode\":\"lines\",\"name\":\"MSE\",\"x\":[0.1,0.10101010101010102,0.10202020202020202,0.10303030303030304,0.10404040404040404,0.10505050505050506,0.10606060606060606,0.10707070707070708,0.10808080808080808,0.1090909090909091,0.1101010101010101,0.11111111111111112,0.11212121212121212,0.11313131313131314,0.11414141414141415,0.11515151515151516,0.11616161616161616,0.11717171717171718,0.1181818181818182,0.1191919191919192,0.1202020202020202,0.12121212121212122,0.12222222222222223,0.12323232323232323,0.12424242424242425,0.12525252525252525,0.12626262626262627,0.1272727272727273,0.12828282828282828,0.1292929292929293,0.1303030303030303,0.13131313131313133,0.13232323232323234,0.13333333333333333,0.13434343434343435,0.13535353535353536,0.13636363636363635,0.13737373737373737,0.1383838383838384,0.1393939393939394,0.14040404040404042,0.14141414141414144,0.14242424242424243,0.14343434343434344,0.14444444444444446,0.14545454545454545,0.14646464646464646,0.14747474747474748,0.1484848484848485,0.14949494949494951,0.1505050505050505,0.15151515151515152,0.15252525252525254,0.15353535353535352,0.15454545454545454,0.15555555555555556,0.15656565656565657,0.1575757575757576,0.1585858585858586,0.1595959595959596,0.1606060606060606,0.16161616161616163,0.16262626262626262,0.16363636363636364,0.16464646464646465,0.16565656565656567,0.16666666666666669,0.1676767676767677,0.1686868686868687,0.1696969696969697,0.1707070707070707,0.1717171717171717,0.17272727272727273,0.17373737373737375,0.17474747474747476,0.17575757575757578,0.17676767676767677,0.17777777777777778,0.17878787878787877,0.1797979797979798,0.1808080808080808,0.18181818181818182,0.18282828282828284,0.18383838383838386,0.18484848484848487,0.18585858585858586,0.18686868686868688,0.18787878787878787,0.18888888888888888,0.1898989898989899,0.19090909090909092,0.19191919191919193,0.19292929292929295,0.19393939393939394,0.19494949494949496,0.19595959595959594,0.19696969696969696,0.19797979797979798,0.198989898989899,0.2],\"y\":[2.0777683729508194,2.0366887534058913,1.996569059699077,1.9574092918303747,1.919209449799786,1.8819695336073097,1.8456895432529465,1.8103694787366964,1.7760093400585586,1.7426091272185338,1.7101688402166224,1.678688479052823,1.6481680437271375,1.6186075342395636,1.5900069505901033,1.5623662927787565,1.5356855608055218,1.5099647546704,1.4852038743733909,1.461402919914495,1.4385618912937121,1.4166807885110417,1.3957596115664843,1.37579836046004,1.3567970351917082,1.3387556357614898,1.3216741621693837,1.3055526144153906,1.2903909924995107,1.2761892964217436,1.262947526182089,1.2506656817805475,1.2393437632171185,1.2289817704918033,1.2195797036046003,1.2111375625555103,1.2036553473445333,1.197133057971669,1.1915706944369175,1.1869682567402793,1.1833257448817533,1.1806431588613406,1.1789204986790405,1.1781577643348538,1.1783549558287796,1.1795120731608182,1.18162911633097,1.1847060853392344,1.1887429801856118,1.193739800870102,1.1996965473927048,1.206613219753421,1.21448981795225,1.2233263419891915,1.233122791864246,1.2438791675774135,1.255595469128694,1.2682716965180871,1.2819078497455934,1.2965039288112117,1.312059933714944,1.3285758644567889,1.3460517210367458,1.3644875034548163,1.3838832117109996,1.4042388458052961,1.4255544057377052,1.4478298915082273,1.471065303116862,1.4952606405636095,1.5204159038484695,1.5465310929714433,1.5736062079325297,1.6016412487317289,1.630636215369041,1.6605911078444662,1.6915059261580032,1.7233806703096541,1.7562153402994167,1.7900099361272936,1.824764457793283,1.8604789052973851,1.8971532786396006,1.9347875778199284,1.97338180283837,2.0129359536949227,2.053450030389589,2.0949240329223673,2.13735796129326,2.1807518155022656,2.225105595549384,2.270419301434615,2.316692933157959,2.3639264907194146,2.4121199741189843,2.461273383356666,2.5113867184324614,2.56245997934637,2.614493166098391,2.667486278688525],\"type\":\"scatter\"},{\"mode\":\"lines\",\"name\":\"MAE\",\"x\":[0.1,0.10101010101010102,0.10202020202020202,0.10303030303030304,0.10404040404040404,0.10505050505050506,0.10606060606060606,0.10707070707070708,0.10808080808080808,0.1090909090909091,0.1101010101010101,0.11111111111111112,0.11212121212121212,0.11313131313131314,0.11414141414141415,0.11515151515151516,0.11616161616161616,0.11717171717171718,0.1181818181818182,0.1191919191919192,0.1202020202020202,0.12121212121212122,0.12222222222222223,0.12323232323232323,0.12424242424242425,0.12525252525252525,0.12626262626262627,0.1272727272727273,0.12828282828282828,0.1292929292929293,0.1303030303030303,0.13131313131313133,0.13232323232323234,0.13333333333333333,0.13434343434343435,0.13535353535353536,0.13636363636363635,0.13737373737373737,0.1383838383838384,0.1393939393939394,0.14040404040404042,0.14141414141414144,0.14242424242424243,0.14343434343434344,0.14444444444444446,0.14545454545454545,0.14646464646464646,0.14747474747474748,0.1484848484848485,0.14949494949494951,0.1505050505050505,0.15151515151515152,0.15252525252525254,0.15353535353535352,0.15454545454545454,0.15555555555555556,0.15656565656565657,0.1575757575757576,0.1585858585858586,0.1595959595959596,0.1606060606060606,0.16161616161616163,0.16262626262626262,0.16363636363636364,0.16464646464646465,0.16565656565656567,0.16666666666666669,0.1676767676767677,0.1686868686868687,0.1696969696969697,0.1707070707070707,0.1717171717171717,0.17272727272727273,0.17373737373737375,0.17474747474747476,0.17575757575757578,0.17676767676767677,0.17777777777777778,0.17878787878787877,0.1797979797979798,0.1808080808080808,0.18181818181818182,0.18282828282828284,0.18383838383838386,0.18484848484848487,0.18585858585858586,0.18686868686868688,0.18787878787878787,0.18888888888888888,0.1898989898989899,0.19090909090909092,0.19191919191919193,0.19292929292929295,0.19393939393939394,0.19494949494949496,0.19595959595959594,0.19696969696969696,0.19797979797979798,0.198989898989899,0.2],\"y\":[1.157217213114754,1.1432579897333994,1.1294634459347572,1.1160683060109289,1.1031471684053653,1.090654247391952,1.078470566318927,1.0668091571452225,1.0555076585527405,1.0443472429210134,1.0331868272892861,1.0220264116575593,1.0109139344262295,0.9999016393442622,0.9888893442622949,0.9778770491803278,0.9669479632389468,0.9565744328531214,0.9465555141579731,0.9369427885411492,0.927434384831926,0.9180104321907601,0.9092026411657558,0.9005556383507203,0.8921851713859911,0.8840602748799471,0.8762963652922668,0.8685819672131146,0.8609771071369433,0.8535838715019042,0.8462932190760059,0.8396924159629077,0.8333600347739691,0.8271311475409836,0.8209073108130485,0.8147709057791025,0.8087909836065574,0.8031377711541646,0.7977234227521112,0.7924935419771485,0.7881639758238117,0.7842465640006624,0.7812624192747143,0.7789043715846994,0.7766898907103824,0.7746840536512667,0.7729427471435669,0.7717921013412816,0.7710117983109788,0.7706171551581389,0.7710690925649941,0.7718343268753105,0.772730129160457,0.7741940718662029,0.7762149776453056,0.7785054644808743,0.7813005050505051,0.7844913065076999,0.7880397002815035,0.7918361483689351,0.7960016145057128,0.8004851796655075,0.805117610531545,0.8101870342771981,0.8155267014406359,0.820949826130154,0.826454918032787,0.8323228183474086,0.838327330683888,0.8444058618976653,0.8509598029475077,0.8576879450240107,0.864761177347243,0.8720856102003643,0.879599892366286,0.8872804272230504,0.8952622536843847,0.9033260473588344,0.911625558867362,0.9199780592813379,0.9285832505381685,0.9374292101341283,0.9465843268753105,0.955739443616493,0.96519088425236,0.975147706573936,0.9856335899983442,0.9963723298559364,1.0073428961748634,1.0183929458519623,1.029469821162444,1.0406743666169895,1.0521377297565824,1.064025832091406,1.076066774300381,1.0888152839874148,1.101880899155489,1.115451233647955,1.1296575178009605,1.1442704918032787],\"type\":\"scatter\"}],                        {\"template\":{\"data\":{\"histogram2dcontour\":[{\"type\":\"histogram2dcontour\",\"colorbar\":{\"outlinewidth\":0,\"ticks\":\"\"},\"colorscale\":[[0.0,\"#0d0887\"],[0.1111111111111111,\"#46039f\"],[0.2222222222222222,\"#7201a8\"],[0.3333333333333333,\"#9c179e\"],[0.4444444444444444,\"#bd3786\"],[0.5555555555555556,\"#d8576b\"],[0.6666666666666666,\"#ed7953\"],[0.7777777777777778,\"#fb9f3a\"],[0.8888888888888888,\"#fdca26\"],[1.0,\"#f0f921\"]]}],\"choropleth\":[{\"type\":\"choropleth\",\"colorbar\":{\"outlinewidth\":0,\"ticks\":\"\"}}],\"histogram2d\":[{\"type\":\"histogram2d\",\"colorbar\":{\"outlinewidth\":0,\"ticks\":\"\"},\"colorscale\":[[0.0,\"#0d0887\"],[0.1111111111111111,\"#46039f\"],[0.2222222222222222,\"#7201a8\"],[0.3333333333333333,\"#9c179e\"],[0.4444444444444444,\"#bd3786\"],[0.5555555555555556,\"#d8576b\"],[0.6666666666666666,\"#ed7953\"],[0.7777777777777778,\"#fb9f3a\"],[0.8888888888888888,\"#fdca26\"],[1.0,\"#f0f921\"]]}],\"heatmap\":[{\"type\":\"heatmap\",\"colorbar\":{\"outlinewidth\":0,\"ticks\":\"\"},\"colorscale\":[[0.0,\"#0d0887\"],[0.1111111111111111,\"#46039f\"],[0.2222222222222222,\"#7201a8\"],[0.3333333333333333,\"#9c179e\"],[0.4444444444444444,\"#bd3786\"],[0.5555555555555556,\"#d8576b\"],[0.6666666666666666,\"#ed7953\"],[0.7777777777777778,\"#fb9f3a\"],[0.8888888888888888,\"#fdca26\"],[1.0,\"#f0f921\"]]}],\"heatmapgl\":[{\"type\":\"heatmapgl\",\"colorbar\":{\"outlinewidth\":0,\"ticks\":\"\"},\"colorscale\":[[0.0,\"#0d0887\"],[0.1111111111111111,\"#46039f\"],[0.2222222222222222,\"#7201a8\"],[0.3333333333333333,\"#9c179e\"],[0.4444444444444444,\"#bd3786\"],[0.5555555555555556,\"#d8576b\"],[0.6666666666666666,\"#ed7953\"],[0.7777777777777778,\"#fb9f3a\"],[0.8888888888888888,\"#fdca26\"],[1.0,\"#f0f921\"]]}],\"contourcarpet\":[{\"type\":\"contourcarpet\",\"colorbar\":{\"outlinewidth\":0,\"ticks\":\"\"}}],\"contour\":[{\"type\":\"contour\",\"colorbar\":{\"outlinewidth\":0,\"ticks\":\"\"},\"colorscale\":[[0.0,\"#0d0887\"],[0.1111111111111111,\"#46039f\"],[0.2222222222222222,\"#7201a8\"],[0.3333333333333333,\"#9c179e\"],[0.4444444444444444,\"#bd3786\"],[0.5555555555555556,\"#d8576b\"],[0.6666666666666666,\"#ed7953\"],[0.7777777777777778,\"#fb9f3a\"],[0.8888888888888888,\"#fdca26\"],[1.0,\"#f0f921\"]]}],\"surface\":[{\"type\":\"surface\",\"colorbar\":{\"outlinewidth\":0,\"ticks\":\"\"},\"colorscale\":[[0.0,\"#0d0887\"],[0.1111111111111111,\"#46039f\"],[0.2222222222222222,\"#7201a8\"],[0.3333333333333333,\"#9c179e\"],[0.4444444444444444,\"#bd3786\"],[0.5555555555555556,\"#d8576b\"],[0.6666666666666666,\"#ed7953\"],[0.7777777777777778,\"#fb9f3a\"],[0.8888888888888888,\"#fdca26\"],[1.0,\"#f0f921\"]]}],\"mesh3d\":[{\"type\":\"mesh3d\",\"colorbar\":{\"outlinewidth\":0,\"ticks\":\"\"}}],\"scatter\":[{\"fillpattern\":{\"fillmode\":\"overlay\",\"size\":10,\"solidity\":0.2},\"type\":\"scatter\"}],\"parcoords\":[{\"type\":\"parcoords\",\"line\":{\"colorbar\":{\"outlinewidth\":0,\"ticks\":\"\"}}}],\"scatterpolargl\":[{\"type\":\"scatterpolargl\",\"marker\":{\"colorbar\":{\"outlinewidth\":0,\"ticks\":\"\"}}}],\"bar\":[{\"error_x\":{\"color\":\"#2a3f5f\"},\"error_y\":{\"color\":\"#2a3f5f\"},\"marker\":{\"line\":{\"color\":\"#E5ECF6\",\"width\":0.5},\"pattern\":{\"fillmode\":\"overlay\",\"size\":10,\"solidity\":0.2}},\"type\":\"bar\"}],\"scattergeo\":[{\"type\":\"scattergeo\",\"marker\":{\"colorbar\":{\"outlinewidth\":0,\"ticks\":\"\"}}}],\"scatterpolar\":[{\"type\":\"scatterpolar\",\"marker\":{\"colorbar\":{\"outlinewidth\":0,\"ticks\":\"\"}}}],\"histogram\":[{\"marker\":{\"pattern\":{\"fillmode\":\"overlay\",\"size\":10,\"solidity\":0.2}},\"type\":\"histogram\"}],\"scattergl\":[{\"type\":\"scattergl\",\"marker\":{\"colorbar\":{\"outlinewidth\":0,\"ticks\":\"\"}}}],\"scatter3d\":[{\"type\":\"scatter3d\",\"line\":{\"colorbar\":{\"outlinewidth\":0,\"ticks\":\"\"}},\"marker\":{\"colorbar\":{\"outlinewidth\":0,\"ticks\":\"\"}}}],\"scattermapbox\":[{\"type\":\"scattermapbox\",\"marker\":{\"colorbar\":{\"outlinewidth\":0,\"ticks\":\"\"}}}],\"scatterternary\":[{\"type\":\"scatterternary\",\"marker\":{\"colorbar\":{\"outlinewidth\":0,\"ticks\":\"\"}}}],\"scattercarpet\":[{\"type\":\"scattercarpet\",\"marker\":{\"colorbar\":{\"outlinewidth\":0,\"ticks\":\"\"}}}],\"carpet\":[{\"aaxis\":{\"endlinecolor\":\"#2a3f5f\",\"gridcolor\":\"white\",\"linecolor\":\"white\",\"minorgridcolor\":\"white\",\"startlinecolor\":\"#2a3f5f\"},\"baxis\":{\"endlinecolor\":\"#2a3f5f\",\"gridcolor\":\"white\",\"linecolor\":\"white\",\"minorgridcolor\":\"white\",\"startlinecolor\":\"#2a3f5f\"},\"type\":\"carpet\"}],\"table\":[{\"cells\":{\"fill\":{\"color\":\"#EBF0F8\"},\"line\":{\"color\":\"white\"}},\"header\":{\"fill\":{\"color\":\"#C8D4E3\"},\"line\":{\"color\":\"white\"}},\"type\":\"table\"}],\"barpolar\":[{\"marker\":{\"line\":{\"color\":\"#E5ECF6\",\"width\":0.5},\"pattern\":{\"fillmode\":\"overlay\",\"size\":10,\"solidity\":0.2}},\"type\":\"barpolar\"}],\"pie\":[{\"automargin\":true,\"type\":\"pie\"}]},\"layout\":{\"autotypenumbers\":\"strict\",\"colorway\":[\"#636efa\",\"#EF553B\",\"#00cc96\",\"#ab63fa\",\"#FFA15A\",\"#19d3f3\",\"#FF6692\",\"#B6E880\",\"#FF97FF\",\"#FECB52\"],\"font\":{\"color\":\"#2a3f5f\"},\"hovermode\":\"closest\",\"hoverlabel\":{\"align\":\"left\"},\"paper_bgcolor\":\"white\",\"plot_bgcolor\":\"#E5ECF6\",\"polar\":{\"bgcolor\":\"#E5ECF6\",\"angularaxis\":{\"gridcolor\":\"white\",\"linecolor\":\"white\",\"ticks\":\"\"},\"radialaxis\":{\"gridcolor\":\"white\",\"linecolor\":\"white\",\"ticks\":\"\"}},\"ternary\":{\"bgcolor\":\"#E5ECF6\",\"aaxis\":{\"gridcolor\":\"white\",\"linecolor\":\"white\",\"ticks\":\"\"},\"baxis\":{\"gridcolor\":\"white\",\"linecolor\":\"white\",\"ticks\":\"\"},\"caxis\":{\"gridcolor\":\"white\",\"linecolor\":\"white\",\"ticks\":\"\"}},\"coloraxis\":{\"colorbar\":{\"outlinewidth\":0,\"ticks\":\"\"}},\"colorscale\":{\"sequential\":[[0.0,\"#0d0887\"],[0.1111111111111111,\"#46039f\"],[0.2222222222222222,\"#7201a8\"],[0.3333333333333333,\"#9c179e\"],[0.4444444444444444,\"#bd3786\"],[0.5555555555555556,\"#d8576b\"],[0.6666666666666666,\"#ed7953\"],[0.7777777777777778,\"#fb9f3a\"],[0.8888888888888888,\"#fdca26\"],[1.0,\"#f0f921\"]],\"sequentialminus\":[[0.0,\"#0d0887\"],[0.1111111111111111,\"#46039f\"],[0.2222222222222222,\"#7201a8\"],[0.3333333333333333,\"#9c179e\"],[0.4444444444444444,\"#bd3786\"],[0.5555555555555556,\"#d8576b\"],[0.6666666666666666,\"#ed7953\"],[0.7777777777777778,\"#fb9f3a\"],[0.8888888888888888,\"#fdca26\"],[1.0,\"#f0f921\"]],\"diverging\":[[0,\"#8e0152\"],[0.1,\"#c51b7d\"],[0.2,\"#de77ae\"],[0.3,\"#f1b6da\"],[0.4,\"#fde0ef\"],[0.5,\"#f7f7f7\"],[0.6,\"#e6f5d0\"],[0.7,\"#b8e186\"],[0.8,\"#7fbc41\"],[0.9,\"#4d9221\"],[1,\"#276419\"]]},\"xaxis\":{\"gridcolor\":\"white\",\"linecolor\":\"white\",\"ticks\":\"\",\"title\":{\"standoff\":15},\"zerolinecolor\":\"white\",\"automargin\":true,\"zerolinewidth\":2},\"yaxis\":{\"gridcolor\":\"white\",\"linecolor\":\"white\",\"ticks\":\"\",\"title\":{\"standoff\":15},\"zerolinecolor\":\"white\",\"automargin\":true,\"zerolinewidth\":2},\"scene\":{\"xaxis\":{\"backgroundcolor\":\"#E5ECF6\",\"gridcolor\":\"white\",\"linecolor\":\"white\",\"showbackground\":true,\"ticks\":\"\",\"zerolinecolor\":\"white\",\"gridwidth\":2},\"yaxis\":{\"backgroundcolor\":\"#E5ECF6\",\"gridcolor\":\"white\",\"linecolor\":\"white\",\"showbackground\":true,\"ticks\":\"\",\"zerolinecolor\":\"white\",\"gridwidth\":2},\"zaxis\":{\"backgroundcolor\":\"#E5ECF6\",\"gridcolor\":\"white\",\"linecolor\":\"white\",\"showbackground\":true,\"ticks\":\"\",\"zerolinecolor\":\"white\",\"gridwidth\":2}},\"shapedefaults\":{\"line\":{\"color\":\"#2a3f5f\"}},\"annotationdefaults\":{\"arrowcolor\":\"#2a3f5f\",\"arrowhead\":0,\"arrowwidth\":1},\"geo\":{\"bgcolor\":\"white\",\"landcolor\":\"#E5ECF6\",\"subunitcolor\":\"white\",\"showland\":true,\"showlakes\":true,\"lakecolor\":\"white\"},\"title\":{\"x\":0.05},\"mapbox\":{\"style\":\"light\"}}},\"title\":{\"text\":\"Loss Functions\"},\"xaxis\":{\"title\":{\"text\":\"Thetas\"}},\"yaxis\":{\"title\":{\"text\":\"Mean Loss\"}}},                        {\"responsive\": true}                    ).then(function(){\n",
       "                            \n",
       "var gd = document.getElementById('dceb3258-797a-4665-be3f-0b1ccf9fc128');\n",
       "var x = new MutationObserver(function (mutations, observer) {{\n",
       "        var display = window.getComputedStyle(gd).display;\n",
       "        if (!display || display === 'none') {{\n",
       "            console.log([gd, 'removed!']);\n",
       "            Plotly.purge(gd);\n",
       "            observer.disconnect();\n",
       "        }}\n",
       "}});\n",
       "\n",
       "// Listen for the removal of the full notebook cells\n",
       "var notebookContainer = gd.closest('#notebook-container');\n",
       "if (notebookContainer) {{\n",
       "    x.observe(notebookContainer, {childList: true});\n",
       "}}\n",
       "\n",
       "// Listen for the clearing of the current output cell\n",
       "var outputEl = gd.closest('.output');\n",
       "if (outputEl) {{\n",
       "    x.observe(outputEl, {childList: true});\n",
       "}}\n",
       "\n",
       "                        })                };                });            </script>        </div>"
      ]
     },
     "metadata": {},
     "output_type": "display_data"
    }
   ],
   "source": [
    "fig = go.Figure()\n",
    "fig.add_trace(go.Scatter(x= thetas, y= hubers, name=\"Huber\", mode=\"lines\"))\n",
    "fig.add_trace(go.Scatter(x=thetas, y= mses, name=\"MSE\", mode=\"lines\"))\n",
    "fig.add_trace(go.Scatter(x=thetas, y= maes, name=\"MAE\", mode=\"lines\"))\n",
    "fig.update_layout(\n",
    "    title=\"Loss Functions\", xaxis_title=\"Thetas\", yaxis_title=\"Mean Loss\"\n",
    ")\n",
    "fig.show()"
   ]
  },
  {
   "cell_type": "code",
   "execution_count": 121,
   "metadata": {},
   "outputs": [],
   "source": [
    "def display_plots(x, y1, y2, y3):\n",
    "    fig, (ax1, ax2, ax3,ax4) = plt.subplots(4,1)\n",
    "    ax4.scatter(tips['total_bill'], tips['tip'])\n",
    "    ax1.plot(x, y1)\n",
    "    ax2.plot(x, y2)\n",
    "    ax3.plot(x, y3)\n",
    "   \n",
    "    \n"
   ]
  },
  {
   "cell_type": "code",
   "execution_count": 166,
   "metadata": {},
   "outputs": [],
   "source": [
    "def display_plots2(x, y1, y2, y3):\n",
    "    fig, ax = plt.subplots(2,2, figsize = (10,5))\n",
    "    ax[0,0].scatter(tips['total_bill'], tips['tip'])\n",
    "    ax[0,1].plot(x, y1)\n",
    "    ax[1,0].plot(x, y2)\n",
    "    ax[1,1].plot(x, y3)"
   ]
  },
  {
   "cell_type": "code",
   "execution_count": 198,
   "metadata": {},
   "outputs": [],
   "source": [
    "## Accepts thetas(points on x axis), y(actual), x(actual)....will calculate y(predicted)\n",
    "## produes mses, maes, and huberlosses\n",
    "def huber_loss(theta, delta = 1.5):\n",
    "    y_predicted = theta * X\n",
    "    y_error = np.abs(y - y_predicted)\n",
    "    return np.mean(np.where(y_error <= delta, ((y_error)**2)/2, delta * (y_error - (delta / 2))))\n",
    "\n",
    "def display_plots3(df, X, y, x_start, x_end, delta = 1.5):\n",
    "    # data = df\n",
    "    # features = X\n",
    "    # actual = y\n",
    "    f = linear_model.LinearRegression(fit_intercept = False).fit(X, y)\n",
    "    thetas = np.linspace(x_start, x_end, 100)\n",
    "    mses = [mean_squared_error(X*theta, y) for theta in thetas]\n",
    "    # print(mses)\n",
    "    maes = [mean_absolute_error(X*theta, y) for theta in thetas]\n",
    "    # print(maes)\n",
    "    hubers = [huber_loss(theta) for theta in thetas]\n",
    "    # print(hubers)\n",
    "    \n",
    "    fig, ax = plt.subplots(2,2, figsize = (10,5))\n",
    "    fig.suptitle('Loss Plots')\n",
    "    ax[0,0].scatter(X, y)\n",
    "    ax[0,0].set_title('Plotting Tips')\n",
    "    ax[0,1].plot(thetas, mses)\n",
    "    ax[0,1].set_title('MSES')\n",
    "    ax[1,0].plot(thetas, maes)\n",
    "    ax[1,0].set_title('MAES')\n",
    "    ax[1,1].plot(thetas, hubers)\n",
    "    ax[1,1].set_title('Huber Loss')\n",
    "    for ax in ax.flat:\n",
    "            ax.set(xlabel = 'Thetas', ylabel = \"Loss\")\n",
    "    fig.tight_layout()\n",
    "    "
   ]
  },
  {
   "cell_type": "code",
   "execution_count": 199,
   "metadata": {},
   "outputs": [
    {
     "data": {
      "image/png": "[encoded data removed]",
      "text/plain": [
       "<Figure size 720x360 with 4 Axes>"
      ]
     },
     "metadata": {
      "needs_background": "light"
     },
     "output_type": "display_data"
    }
   ],
   "source": [
    "display_plots3(data, data[['total_bill']], data['tip'], 0.1, 0.2)"
   ]
  },
  {
   "cell_type": "code",
   "execution_count": 200,
   "metadata": {},
   "outputs": [
    {
     "data": {
      "image/png": "[encoded data removed]",
      "text/plain": [
       "<Figure size 720x360 with 4 Axes>"
      ]
     },
     "metadata": {
      "needs_background": "light"
     },
     "output_type": "display_data"
    }
   ],
   "source": [
    "display_plots3(data, data[['total_bill']], data['tip'], -1, 1)"
   ]
  },
  {
   "cell_type": "code",
   "execution_count": null,
   "metadata": {},
   "outputs": [],
   "source": [
    "# huber loss\n",
    "def huber_loss(theta, delta = 1.5):\n",
    "    y_predicted = theta * X\n",
    "    y_error = np.abs(y - y_predicted)\n",
    "    return mean(np.where(y_error <= delta, ((y_error)**2)/2, delta * (y_error - (delta / 2))))\n",
    "\n",
    "\n",
    "\n",
    "minimum_theta = minimize(huber_loss, x0 = .5)\n",
    "theta_huber = minimum_theta.x[0]\n",
    "print(minimum_theta)\n",
    "print(theta_huber)\n",
    "hubers = [huber_loss(theta) for theta in thetas]"
   ]
  },
  {
   "cell_type": "code",
   "execution_count": null,
   "metadata": {},
   "outputs": [],
   "source": []
  },
  {
   "cell_type": "code",
   "execution_count": 165,
   "metadata": {},
   "outputs": [
    {
     "data": {
      "image/png": "[encoded data removed]",
      "text/plain": [
       "<Figure size 720x360 with 4 Axes>"
      ]
     },
     "metadata": {
      "needs_background": "light"
     },
     "output_type": "display_data"
    }
   ],
   "source": [
    "display_plots2(thetas, maes, mses, hubers)"
   ]
  },
  {
   "cell_type": "code",
   "execution_count": 164,
   "metadata": {},
   "outputs": [
    {
     "data": {
      "image/png": "[encoded data removed]",
      "text/plain": [
       "<Figure size 720x360 with 4 Axes>"
      ]
     },
     "metadata": {
      "needs_background": "light"
     },
     "output_type": "display_data"
    }
   ],
   "source": [
    "display_plots2(thetas, maes, mses, hubers)"
   ]
  },
  {
   "cell_type": "code",
   "execution_count": null,
   "metadata": {},
   "outputs": [],
   "source": []
  },
  {
   "cell_type": "code",
   "execution_count": null,
   "metadata": {},
   "outputs": [],
   "source": []
  },
  {
   "cell_type": "code",
   "execution_count": null,
   "metadata": {},
   "outputs": [],
   "source": []
  },
  {
   "cell_type": "code",
   "execution_count": 88,
   "metadata": {},
   "outputs": [],
   "source": [
    "import numpy as np\n",
    "import matplotlib.pyplot as plt\n",
    "\n",
    "# an example graph type\n",
    "def fig_barh(ylabels, xvalues, title=''):\n",
    "    # create a new figure\n",
    "    fig = plt.figure()\n",
    "\n",
    "    # plot to it\n",
    "    yvalues = 0.1 + np.arange(len(ylabels))\n",
    "    plt.barh(yvalues, xvalues, figure=fig)\n",
    "    yvalues += 0.4\n",
    "    plt.yticks(yvalues, ylabels, figure=fig)\n",
    "    if title:\n",
    "        plt.title(title, figure=fig)\n",
    "\n",
    "    # return it\n",
    "    return fig"
   ]
  },
  {
   "cell_type": "code",
   "execution_count": 89,
   "metadata": {},
   "outputs": [
    {
     "data": {
      "image/png": "[encoded data removed]",
      "text/plain": [
       "<Figure size 432x288 with 1 Axes>"
      ]
     },
     "metadata": {
      "needs_background": "light"
     },
     "output_type": "display_data"
    },
    {
     "data": {
      "image/png": "[encoded data removed]",
      "text/plain": [
       "<Figure size 432x288 with 1 Axes>"
      ]
     },
     "metadata": {
      "needs_background": "light"
     },
     "output_type": "display_data"
    }
   ],
   "source": [
    "from matplotlib.backends.backend_pdf import PdfPages\n",
    "\n",
    "def write_pdf(fname, figures):\n",
    "    doc = PdfPages(fname)\n",
    "    for fig in figures:\n",
    "        fig.savefig(doc, format='pdf')\n",
    "    doc.close()\n",
    "\n",
    "def main():\n",
    "    a = fig_barh(['a','b','c'], [1, 2, 3], 'Test #1')\n",
    "    b = fig_barh(['x','y','z'], [5, 3, 1], 'Test #2')\n",
    "    write_pdf('test.pdf', [a, b])\n",
    "\n",
    "if __name__==\"__main__\":\n",
    "    main()"
   ]
  },
  {
   "cell_type": "code",
   "execution_count": 90,
   "metadata": {},
   "outputs": [
    {
     "ename": "NameError",
     "evalue": "name 'a' is not defined",
     "output_type": "error",
     "traceback": [
      "\u001b[0;31m---------------------------------------------------------------------------\u001b[0m",
      "\u001b[0;31mNameError\u001b[0m                                 Traceback (most recent call last)",
      "\u001b[0;32m/var/folders/kf/0f7t7jlj05d948lftjhjgf640000gn/T/ipykernel_41803/1891828405.py\u001b[0m in \u001b[0;36m<module>\u001b[0;34m\u001b[0m\n\u001b[0;32m----> 1\u001b[0;31m \u001b[0mprint\u001b[0m\u001b[0;34m(\u001b[0m\u001b[0mtype\u001b[0m\u001b[0;34m(\u001b[0m\u001b[0ma\u001b[0m\u001b[0;34m)\u001b[0m\u001b[0;34m)\u001b[0m\u001b[0;34m\u001b[0m\u001b[0;34m\u001b[0m\u001b[0m\n\u001b[0m",
      "\u001b[0;31mNameError\u001b[0m: name 'a' is not defined"
     ]
    }
   ],
   "source": [
    "print(type(a))"
   ]
  },
  {
   "cell_type": "code",
   "execution_count": null,
   "metadata": {},
   "outputs": [],
   "source": []
  }
 ],
 "metadata": {
  "kernelspec": {
   "display_name": "Python 3 (ipykernel)",
   "language": "python",
   "name": "python3"
  },
  "language_info": {
   "codemirror_mode": {
    "name": "ipython",
    "version": 3
   },
   "file_extension": ".py",
   "mimetype": "text/x-python",
   "name": "python",
   "nbconvert_exporter": "python",
   "pygments_lexer": "ipython3",
   "version": "3.9.7"
  }
 },
 "nbformat": 4,
 "nbformat_minor": 4
}
